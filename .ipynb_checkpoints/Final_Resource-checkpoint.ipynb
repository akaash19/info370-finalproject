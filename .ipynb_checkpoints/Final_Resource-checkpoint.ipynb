{
 "cells": [
  {
   "cell_type": "markdown",
   "metadata": {},
   "source": [
    "# Final Resource\n",
    "\n",
    "by Akaash Shah, Madison Smith, Seung Lee"
   ]
  },
  {
   "cell_type": "markdown",
   "metadata": {},
   "source": [
    "## Introduction\n",
    "\n",
    "Our goal of this research is to find out if picks and bans in a competitive match of DotA 2 can be used to predict the result.\n",
    "\n",
    "##### What is DotA 2?\n",
    "\n",
    "DotA 2 is a video game made by the company Valve and is in the genre of MOBA, Multiplayer Online Battle Arena, or ARTS, Action Real-Time Strategy. In each game, there are 10 players that are divided into two teams, Radiant and Dire. These 10 players each pick a character, or hero, from a pool of 117 heroes and fight to destroy the enemy stronghold, called Ancient. \n",
    "\n",
    "In a competitive game of DotA 2, Captain’s Mode is used to determine what heroes each player gets to pick. Each team, consisting of 5 players, bans 6 heros and picks 5 heroes in certain order. The metagame that forms around picking and banning results in a phenomena called “draft win” in certain matches where a team has a very high chance of winning, assuming no major difference in skills between the two teams, solely on the fact that they picked the right combination of characters versus their opponent. We feel that drafting in DotA 2 provides a unique opportunity to perform data analysis.\n",
    "\n",
    "#### Why DotA 2?\n",
    "\n",
    "Esports, or electronic sports, is a fast growing business that has reached [billion dollar revenue mark](https://newzoo.com/insights/articles/newzoo-global-esports-economy-will-top-1-billion-for-the-first-time-in-2019/). With some esports players earning [millions of dollars from tournaments](https://www.esportsearnings.com/) and sponsorships reaching $460 million, the stakes for each game are very high. If our research can find a model that can predict if a team can win based on picks alone, it has a chance to be adopted and used by the developers to help balance the game, which benefits esports enthusiasts in the end.\n",
    "\n"
   ]
  },
  {
   "cell_type": "code",
   "execution_count": 128,
   "metadata": {},
   "outputs": [],
   "source": [
    "# Import packages\n",
    "import pandas as pd\n",
    "import numpy as np\n",
    "import statsmodels.formula.api as smf\n",
    "import matplotlib.pyplot as plt\n",
    "import math\n",
    "from sklearn import metrics\n",
    "from sklearn.neural_network import MLPClassifier\n",
    "from sklearn.metrics import accuracy_score\n",
    "from data_functions import *\n",
    "from sklearn.neural_network import MLPClassifier\n",
    "from sklearn.metrics import accuracy_score\n",
    "from sklearn.model_selection import train_test_split\n",
    "import seaborn as sns\n",
    "from sklearn.tree import DecisionTreeClassifier\n",
    "from sklearn.pipeline import make_pipeline\n",
    "from sklearn.preprocessing import MinMaxScaler\n",
    "from sklearn.model_selection import GridSearchCV\n",
    "from sklearn import svm\n",
    "import warnings; warnings.simplefilter('ignore')"
   ]
  },
  {
   "cell_type": "markdown",
   "metadata": {},
   "source": [
    "Data is from [this website](https://www.kaggle.com/pvkc8888/dota-2-pro-circuit-1718)"
   ]
  },
  {
   "cell_type": "code",
   "execution_count": 3,
   "metadata": {},
   "outputs": [],
   "source": [
    "dpc = pd.read_json(\"data/DPC.json\").transpose()"
   ]
  },
  {
   "cell_type": "markdown",
   "metadata": {},
   "source": [
    "Here we are removing all the columns from the dataset we don't need and the first row as it contains all null values."
   ]
  },
  {
   "cell_type": "code",
   "execution_count": 4,
   "metadata": {},
   "outputs": [],
   "source": [
    "dpc.drop([\"all_word_counts\", \"barracks_status_dire\", \"barracks_status_radiant\", \"chat\", \"cluster\", \"comeback\", \n",
    "          \"cosmetics\", \"dire_score\", \"series_type\", \"skill\", \"stomp\", \"teamfights\", \"throw\", \"tower_status_dire\", \n",
    "          \"tower_status_radiant\", \"loss\", \"leagueid\", \"duration\", \"engine\", \"first_blood_time\", \"radiant_xp_adv\", \n",
    "          \"replay_url\", \"radiant_gold_adv\", \"positive_votes\", \"radiant_score\", \"negative_votes\", \n",
    "          \"objectives\", \"dire_team_id\", \"radiant_team_id\", \"human_players\", \"league\", \"lobby_type\", \n",
    "          \"draft_timings\", \"my_word_counts\", \"region\", \"replay_salt\", \"series_id\"], axis=1, inplace=True)\n",
    "dpc.drop([1], inplace=True)"
   ]
  },
  {
   "cell_type": "markdown",
   "metadata": {},
   "source": [
    "## The Data\n",
    "\n",
    "In DotA 2, the metagame constantly changes due to the game balance brought by patches. Patches adjusts heroes by either nerfing, which is making them weaker, or buffing, which is making them stronger, them depending on how they performed in the previous patch. If the hero was picked often because it was considered strong, it is more likely that the hero would be nerfed in the next patch and vice versa. The most current balance patch is 7.21c put out on March 2, 2019. However, we are looking at 2017 to 2018 DotA Pro Circuit matches in our data. \n",
    "\n",
    "The 2017 - 2018 DotA 2 Pro Circuit contains 11 patches. The patches included are 7.06, 7.07, 7.08, 7.09, 7.10, 7.11, 7.12, 7.13, 7.14, 7.15, and 7.16. Among these, 7.06 was a remnant from the previous year’s Pro Circuit and was preceded by a major patch 7.07. Below is a table showing how many matches were played in each patch.\n",
    "\n",
    "| Patch Number | Matches Played |\n",
    "|--------------|----------------|\n",
    "| 7.06         | 91             |\n",
    "| 7.07         | 301            |\n",
    "| 7.08         | 33             |\n",
    "| 7.09         | 64             |\n",
    "| 7.10         | 51             |\n",
    "| 7.11         | 63             |\n",
    "| 7.12         | 107            |\n",
    "| 7.13         | 35             |\n",
    "| 7.14         | 110            |\n",
    "| 7.15         | 156            |\n",
    "| 7.16         | 109            |\n",
    "\n",
    "The most played patch is 7.07 with 301 matches and lowest is 7.08 with 33 matches. However, these numbers are too low to have effective results so we decided to merge these patches into major patch period on top of trying to run analysis on all of the data at once. The major patches we’re looking at are:\n",
    "\n",
    "| Major Patches      | Matches Played |\n",
    "|--------------------|----------------|\n",
    "| patch 7.07 to 7.09 | 398            |\n",
    "| patch 7.10 to 7.13 | 256            |\n",
    "| patch 7.14 to 7.16 | 375            |\n",
    "\n",
    "We determined the major patches through [this website](https://dota2.gamepedia.com/Game_Versions) where yellow highlighted patches are considered major patches. We removed 7.06 from our dataset because it’s relatively small at 91 and is not related to any other major patch.\n",
    "\n",
    "Here we generate datasets based on certain features."
   ]
  },
  {
   "cell_type": "code",
   "execution_count": 129,
   "metadata": {
    "scrolled": true
   },
   "outputs": [],
   "source": [
    "# has radiant picks/bans, dire picks/bans, team_ids, radiant win\n",
    "patch707_combined = create_pick_ban_both_teams(dpc, 26, 28)\n",
    "patch710_combined = create_pick_ban_both_teams(dpc, 29, 32)\n",
    "patch714_combined = create_pick_ban_both_teams(dpc, 33, 36)\n",
    "patchAll_combined = create_pick_ban_both_teams(dpc, 26, 36)"
   ]
  },
  {
   "cell_type": "code",
   "execution_count": 130,
   "metadata": {},
   "outputs": [],
   "source": [
    "# has data for pick, ban, and win\n",
    "patch707_single = create_pick_ban_1_team(dpc, 26, 28)\n",
    "patch710_single = create_pick_ban_1_team(dpc, 29, 32)\n",
    "patch714_single = create_pick_ban_1_team(dpc, 33, 36)\n",
    "patchAll_single = create_pick_ban_1_team(dpc, 26, 36)"
   ]
  },
  {
   "cell_type": "code",
   "execution_count": 131,
   "metadata": {},
   "outputs": [],
   "source": [
    "# has data for pick, ban, win, team_id\n",
    "patch707_pbt = create_pick_ban_team(dpc, 26, 28)\n",
    "patch710_pbt = create_pick_ban_team(dpc, 29, 32)\n",
    "patch714_pbt = create_pick_ban_team(dpc, 33, 36)\n",
    "patchAll_pbt = create_pick_ban_team(dpc, 26, 36)"
   ]
  },
  {
   "cell_type": "code",
   "execution_count": 132,
   "metadata": {},
   "outputs": [],
   "source": [
    "# these are data with picks, team_id, and win\n",
    "patch707_picks_team = create_picks_team(dpc, 26, 28)\n",
    "patch710_picks_team = create_picks_team(dpc, 29, 32)\n",
    "patch714_picks_team = create_picks_team(dpc, 33, 36)\n",
    "patchAll_picks_team = create_picks_team(dpc, 26, 36)"
   ]
  },
  {
   "cell_type": "code",
   "execution_count": 133,
   "metadata": {},
   "outputs": [],
   "source": [
    "# these are data with only picks and win (true,false)\n",
    "patch707_picks = create_picks(dpc, 26, 28)\n",
    "patch710_picks = create_picks(dpc, 29, 32)\n",
    "patch714_picks = create_picks(dpc, 33, 36)\n",
    "patchAll_picks = create_picks(dpc, 26, 36)"
   ]
  },
  {
   "cell_type": "markdown",
   "metadata": {},
   "source": [
    "All the functions used to create the dataset are stored in data_functions.py"
   ]
  },
  {
   "cell_type": "markdown",
   "metadata": {},
   "source": [
    "## Feature exploration\n",
    "##### Looking for any features that might skew results or help better fit our models\n",
    "\n",
    "Now that we have defined what are major patches are and split our data correctly we need to explore some other variables. Since this dataset is a set of matches from professional DotA we will be conducting this analysis under this assumption that there are no explicitly \"bad\" bans and every decision made is an educated one. Becasue of the professional nature of this dataset we expect there to be alot of parody, meaning no one pick or ban decides the outcome of the match. We are going to explore mainly weather looking at single teams data is more effective at predicting wins vs looking at both teams data during the character selection process. The last big thing to look at is if the individual teams should be included in the model. Do some teams dominate or is there so much parody that it actually negatively effects the predictions.We will first look at the overall dataset across patches, and then start exploring within major patches.\n"
   ]
  },
  {
   "cell_type": "code",
   "execution_count": 134,
   "metadata": {},
   "outputs": [
    {
     "data": {
      "text/plain": [
       "<matplotlib.axes._subplots.AxesSubplot at 0x1e4fd54fd30>"
      ]
     },
     "execution_count": 134,
     "metadata": {},
     "output_type": "execute_result"
    },
    {
     "data": {
      "image/png": "[encoded data removed]",
      "text/plain": [
       "<Figure size 432x288 with 2 Axes>"
      ]
     },
     "metadata": {
      "needs_background": "light"
     },
     "output_type": "display_data"
    }
   ],
   "source": [
    "#first heat map of correlations of everything (all data), picks, bans, win, team. \n",
    "sns.heatmap(patchAll_pbt.astype(int).corr())"
   ]
  },
  {
   "cell_type": "markdown",
   "metadata": {},
   "source": [
    "From this heat map of single teams picks and bans it seems that no variable seems to have a huge influence on winning. This would seem to indicate a lot of parody in the DotA professional circuit. "
   ]
  },
  {
   "cell_type": "code",
   "execution_count": 135,
   "metadata": {},
   "outputs": [
    {
     "data": {
      "text/plain": [
       "<matplotlib.axes._subplots.AxesSubplot at 0x1e4f2df7048>"
      ]
     },
     "execution_count": 135,
     "metadata": {},
     "output_type": "execute_result"
    },
    {
     "data": {
      "image/png": "[encoded data removed]",
      "text/plain": [
       "<Figure size 432x288 with 2 Axes>"
      ]
     },
     "metadata": {
      "needs_background": "light"
     },
     "output_type": "display_data"
    }
   ],
   "source": [
    "#Both teams per match picks and bans\n",
    "sns.heatmap(patchAll_combined.astype(int).corr())"
   ]
  },
  {
   "cell_type": "markdown",
   "metadata": {},
   "source": [
    "From this heat map now considering both teams picks and bans, we don't see anything concrete but notice that alot of bans are correlated too each other. We also notice a contrast in Radiant and Dire correlation to winning. The Dire team seems to be slightly more correlated to a radiant win than the radiant team itself. \n",
    "We also know looking at the DotA Rankings (https://liquipedia.net/dota2/Dota_Pro_Circuit/2017-18/Rankings) that there was in fact dominant and underperforming teams. So it is a little interesting to not see it come up on the heat maps."
   ]
  },
  {
   "cell_type": "code",
   "execution_count": 136,
   "metadata": {},
   "outputs": [
    {
     "data": {
      "text/plain": [
       "<matplotlib.axes._subplots.AxesSubplot at 0x1e527f7d5f8>"
      ]
     },
     "execution_count": 136,
     "metadata": {},
     "output_type": "execute_result"
    },
    {
     "data": {
      "image/png": "[encoded data removed]",
      "text/plain": [
       "<Figure size 432x288 with 1 Axes>"
      ]
     },
     "metadata": {
      "needs_background": "light"
     },
     "output_type": "display_data"
    }
   ],
   "source": [
    "teams = patchAll_pbt[['win', 'team']]\n",
    "team_win_df = pd.DataFrame(teams.groupby(['team']).sum())\n",
    "team_win_df.plot.bar()"
   ]
  },
  {
   "cell_type": "markdown",
   "metadata": {},
   "source": [
    "As we can see from the graph above and the table below, there are many teams that barely recorded any wins and only a handful of teams that won frequently. This indicates that who the team is matters and should be included in our final model despite it not seeming relevant in the heat graphs. "
   ]
  },
  {
   "cell_type": "code",
   "execution_count": 137,
   "metadata": {},
   "outputs": [
    {
     "data": {
      "text/html": [
       "<div>\n",
       "<style scoped>\n",
       "    .dataframe tbody tr th:only-of-type {\n",
       "        vertical-align: middle;\n",
       "    }\n",
       "\n",
       "    .dataframe tbody tr th {\n",
       "        vertical-align: top;\n",
       "    }\n",
       "\n",
       "    .dataframe thead th {\n",
       "        text-align: right;\n",
       "    }\n",
       "</style>\n",
       "<table border=\"1\" class=\"dataframe\">\n",
       "  <thead>\n",
       "    <tr style=\"text-align: right;\">\n",
       "      <th></th>\n",
       "      <th>win</th>\n",
       "    </tr>\n",
       "    <tr>\n",
       "      <th>team</th>\n",
       "      <th></th>\n",
       "    </tr>\n",
       "  </thead>\n",
       "  <tbody>\n",
       "    <tr>\n",
       "      <th>3</th>\n",
       "      <td>24</td>\n",
       "    </tr>\n",
       "    <tr>\n",
       "      <th>4</th>\n",
       "      <td>4</td>\n",
       "    </tr>\n",
       "    <tr>\n",
       "      <th>5</th>\n",
       "      <td>9</td>\n",
       "    </tr>\n",
       "    <tr>\n",
       "      <th>15</th>\n",
       "      <td>71</td>\n",
       "    </tr>\n",
       "    <tr>\n",
       "      <th>36</th>\n",
       "      <td>29</td>\n",
       "    </tr>\n",
       "    <tr>\n",
       "      <th>39</th>\n",
       "      <td>50</td>\n",
       "    </tr>\n",
       "    <tr>\n",
       "      <th>46</th>\n",
       "      <td>8</td>\n",
       "    </tr>\n",
       "    <tr>\n",
       "      <th>67</th>\n",
       "      <td>13</td>\n",
       "    </tr>\n",
       "    <tr>\n",
       "      <th>2163</th>\n",
       "      <td>94</td>\n",
       "    </tr>\n",
       "    <tr>\n",
       "      <th>350190</th>\n",
       "      <td>45</td>\n",
       "    </tr>\n",
       "    <tr>\n",
       "      <th>543897</th>\n",
       "      <td>58</td>\n",
       "    </tr>\n",
       "    <tr>\n",
       "      <th>726228</th>\n",
       "      <td>63</td>\n",
       "    </tr>\n",
       "    <tr>\n",
       "      <th>1375614</th>\n",
       "      <td>78</td>\n",
       "    </tr>\n",
       "    <tr>\n",
       "      <th>1838315</th>\n",
       "      <td>71</td>\n",
       "    </tr>\n",
       "    <tr>\n",
       "      <th>1883502</th>\n",
       "      <td>92</td>\n",
       "    </tr>\n",
       "    <tr>\n",
       "      <th>2006913</th>\n",
       "      <td>8</td>\n",
       "    </tr>\n",
       "    <tr>\n",
       "      <th>2108395</th>\n",
       "      <td>38</td>\n",
       "    </tr>\n",
       "    <tr>\n",
       "      <th>2586976</th>\n",
       "      <td>48</td>\n",
       "    </tr>\n",
       "    <tr>\n",
       "      <th>2621843</th>\n",
       "      <td>8</td>\n",
       "    </tr>\n",
       "    <tr>\n",
       "      <th>2626685</th>\n",
       "      <td>8</td>\n",
       "    </tr>\n",
       "    <tr>\n",
       "      <th>2640025</th>\n",
       "      <td>3</td>\n",
       "    </tr>\n",
       "    <tr>\n",
       "      <th>3331948</th>\n",
       "      <td>18</td>\n",
       "    </tr>\n",
       "    <tr>\n",
       "      <th>3704482</th>\n",
       "      <td>1</td>\n",
       "    </tr>\n",
       "    <tr>\n",
       "      <th>3715574</th>\n",
       "      <td>7</td>\n",
       "    </tr>\n",
       "    <tr>\n",
       "      <th>5026801</th>\n",
       "      <td>38</td>\n",
       "    </tr>\n",
       "    <tr>\n",
       "      <th>5027210</th>\n",
       "      <td>29</td>\n",
       "    </tr>\n",
       "    <tr>\n",
       "      <th>5028043</th>\n",
       "      <td>0</td>\n",
       "    </tr>\n",
       "    <tr>\n",
       "      <th>5028104</th>\n",
       "      <td>2</td>\n",
       "    </tr>\n",
       "    <tr>\n",
       "      <th>5031582</th>\n",
       "      <td>0</td>\n",
       "    </tr>\n",
       "    <tr>\n",
       "      <th>5039050</th>\n",
       "      <td>16</td>\n",
       "    </tr>\n",
       "    <tr>\n",
       "      <th>5051649</th>\n",
       "      <td>1</td>\n",
       "    </tr>\n",
       "    <tr>\n",
       "      <th>5059375</th>\n",
       "      <td>9</td>\n",
       "    </tr>\n",
       "    <tr>\n",
       "      <th>5065748</th>\n",
       "      <td>9</td>\n",
       "    </tr>\n",
       "    <tr>\n",
       "      <th>5167588</th>\n",
       "      <td>0</td>\n",
       "    </tr>\n",
       "    <tr>\n",
       "      <th>5196328</th>\n",
       "      <td>1</td>\n",
       "    </tr>\n",
       "    <tr>\n",
       "      <th>5197722</th>\n",
       "      <td>1</td>\n",
       "    </tr>\n",
       "    <tr>\n",
       "      <th>5228654</th>\n",
       "      <td>28</td>\n",
       "    </tr>\n",
       "    <tr>\n",
       "      <th>5229127</th>\n",
       "      <td>15</td>\n",
       "    </tr>\n",
       "    <tr>\n",
       "      <th>5231224</th>\n",
       "      <td>0</td>\n",
       "    </tr>\n",
       "  </tbody>\n",
       "</table>\n",
       "</div>"
      ],
      "text/plain": [
       "         win\n",
       "team        \n",
       "3         24\n",
       "4          4\n",
       "5          9\n",
       "15        71\n",
       "36        29\n",
       "39        50\n",
       "46         8\n",
       "67        13\n",
       "2163      94\n",
       "350190    45\n",
       "543897    58\n",
       "726228    63\n",
       "1375614   78\n",
       "1838315   71\n",
       "1883502   92\n",
       "2006913    8\n",
       "2108395   38\n",
       "2586976   48\n",
       "2621843    8\n",
       "2626685    8\n",
       "2640025    3\n",
       "3331948   18\n",
       "3704482    1\n",
       "3715574    7\n",
       "5026801   38\n",
       "5027210   29\n",
       "5028043    0\n",
       "5028104    2\n",
       "5031582    0\n",
       "5039050   16\n",
       "5051649    1\n",
       "5059375    9\n",
       "5065748    9\n",
       "5167588    0\n",
       "5196328    1\n",
       "5197722    1\n",
       "5228654   28\n",
       "5229127   15\n",
       "5231224    0"
      ]
     },
     "execution_count": 137,
     "metadata": {},
     "output_type": "execute_result"
    }
   ],
   "source": [
    "team_win_df"
   ]
  },
  {
   "cell_type": "markdown",
   "metadata": {},
   "source": [
    "We see on a big scale that our heatmaps did not tell us much, but what happens when we break it down by patch? "
   ]
  },
  {
   "cell_type": "markdown",
   "metadata": {},
   "source": [
    "#### Patch 707"
   ]
  },
  {
   "cell_type": "code",
   "execution_count": 138,
   "metadata": {},
   "outputs": [
    {
     "data": {
      "text/plain": [
       "<matplotlib.axes._subplots.AxesSubplot at 0x1e4ebf48320>"
      ]
     },
     "execution_count": 138,
     "metadata": {},
     "output_type": "execute_result"
    },
    {
     "data": {
      "image/png": "[encoded data removed]",
      "text/plain": [
       "<Figure size 432x288 with 2 Axes>"
      ]
     },
     "metadata": {
      "needs_background": "light"
     },
     "output_type": "display_data"
    }
   ],
   "source": [
    "#Correlation heat charts. \n",
    "#For each patch, all data of picks, bans, win, team for single and combined. \n",
    "\n",
    "sns.heatmap(patch707_pbt.astype(int).corr())"
   ]
  },
  {
   "cell_type": "code",
   "execution_count": 139,
   "metadata": {},
   "outputs": [
    {
     "data": {
      "text/plain": [
       "<matplotlib.axes._subplots.AxesSubplot at 0x1e51487f860>"
      ]
     },
     "execution_count": 139,
     "metadata": {},
     "output_type": "execute_result"
    },
    {
     "data": {
      "image/png": "[encoded data removed]",
      "text/plain": [
       "<Figure size 432x288 with 2 Axes>"
      ]
     },
     "metadata": {
      "needs_background": "light"
     },
     "output_type": "display_data"
    }
   ],
   "source": [
    "sns.heatmap(patch707_combined.astype(int).corr())"
   ]
  },
  {
   "cell_type": "markdown",
   "metadata": {},
   "source": [
    "The trend in correlation all seem to reflect the overall data set trends. "
   ]
  },
  {
   "cell_type": "markdown",
   "metadata": {},
   "source": [
    "#### Patch 710"
   ]
  },
  {
   "cell_type": "code",
   "execution_count": 140,
   "metadata": {},
   "outputs": [
    {
     "data": {
      "text/plain": [
       "<matplotlib.axes._subplots.AxesSubplot at 0x1e51487f908>"
      ]
     },
     "execution_count": 140,
     "metadata": {},
     "output_type": "execute_result"
    },
    {
     "data": {
      "image/png": "[encoded data removed]",
      "text/plain": [
       "<Figure size 432x288 with 2 Axes>"
      ]
     },
     "metadata": {
      "needs_background": "light"
     },
     "output_type": "display_data"
    }
   ],
   "source": [
    "#single team bans, picks, win, team\n",
    "sns.heatmap(patch710_pbt.astype(int).corr())"
   ]
  },
  {
   "cell_type": "code",
   "execution_count": 141,
   "metadata": {},
   "outputs": [
    {
     "data": {
      "text/plain": [
       "<matplotlib.axes._subplots.AxesSubplot at 0x1e521937240>"
      ]
     },
     "execution_count": 141,
     "metadata": {},
     "output_type": "execute_result"
    },
    {
     "data": {
      "image/png": "[encoded data removed]",
      "text/plain": [
       "<Figure size 432x288 with 2 Axes>"
      ]
     },
     "metadata": {
      "needs_background": "light"
     },
     "output_type": "display_data"
    }
   ],
   "source": [
    "#combined teams (both teams in match) bans picks wins team\n",
    "sns.heatmap(patch710_combined.astype(int).corr())"
   ]
  },
  {
   "cell_type": "markdown",
   "metadata": {},
   "source": [
    "The heat map for Patch 710 when using both teams data is noticably brighter, indicating more positive correlation across the variables. Most importantly the radiant win seems to be effected by which team plays dire. "
   ]
  },
  {
   "cell_type": "markdown",
   "metadata": {},
   "source": [
    "#### Patch 714"
   ]
  },
  {
   "cell_type": "code",
   "execution_count": 142,
   "metadata": {},
   "outputs": [
    {
     "data": {
      "text/plain": [
       "<matplotlib.axes._subplots.AxesSubplot at 0x1e5179595f8>"
      ]
     },
     "execution_count": 142,
     "metadata": {},
     "output_type": "execute_result"
    },
    {
     "data": {
      "image/png": "[encoded data removed]",
      "text/plain": [
       "<Figure size 432x288 with 2 Axes>"
      ]
     },
     "metadata": {
      "needs_background": "light"
     },
     "output_type": "display_data"
    }
   ],
   "source": [
    "#single team bans, picks, win, team\n",
    "sns.heatmap(patch714_pbt.astype(int).corr())"
   ]
  },
  {
   "cell_type": "code",
   "execution_count": 143,
   "metadata": {},
   "outputs": [
    {
     "data": {
      "text/plain": [
       "<matplotlib.axes._subplots.AxesSubplot at 0x1e51795a2e8>"
      ]
     },
     "execution_count": 143,
     "metadata": {},
     "output_type": "execute_result"
    },
    {
     "data": {
      "image/png": "[encoded data removed]",
      "text/plain": [
       "<Figure size 432x288 with 2 Axes>"
      ]
     },
     "metadata": {
      "needs_background": "light"
     },
     "output_type": "display_data"
    }
   ],
   "source": [
    "#combined teams (both teams in match) bans picks wins team\n",
    "sns.heatmap(patch714_combined.astype(int).corr())"
   ]
  },
  {
   "cell_type": "markdown",
   "metadata": {},
   "source": [
    "These heatmaps are unfortunately just as dark as the overall heat maps and cannot really help us mold this model. One thing we can note across the board is that using both teams combined data seems to have more positive correlation across the board. This makes sense as player's often pick based off what other teams' picks/ bans are. "
   ]
  },
  {
   "cell_type": "markdown",
   "metadata": {},
   "source": [
    "## Data Analysis"
   ]
  },
  {
   "cell_type": "markdown",
   "metadata": {},
   "source": [
    "### Decision Tree "
   ]
  },
  {
   "cell_type": "markdown",
   "metadata": {},
   "source": [
    "This is a function that splits the data into testing and training data, creates a decision tree classifer, trains the model including scaling variables, cross validatation and feeding our training data, and assessing the accuracy of the model using the testing data. It returns the accuracy that the model found for this particular model and dataset."
   ]
  },
  {
   "cell_type": "code",
   "execution_count": 144,
   "metadata": {},
   "outputs": [],
   "source": [
    "def decision_tree_function(data):\n",
    "    \n",
    "    # looking for categories and we have numbers-- switch ints to strings\n",
    "    for i in list(data):\n",
    "        if i != 'win' and i != 'team' and i != 'radiant' and i != 'dire':\n",
    "            data[i] = data[i].astype(int)\n",
    "\n",
    "    # split data\n",
    "    train_features, test_features, train_outcome, test_outcome = train_test_split(\n",
    "       data.drop(\"radiantWin\", axis=1),     \n",
    "       data.loc[: , \"radiantWin\"],    \n",
    "       test_size=0.50\n",
    "    )\n",
    "\n",
    "    # solves an error about unknown labels\n",
    "    train_outcome = np.asarray(train_outcome, dtype=\"|S6\")\n",
    "    test_outcome = np.asarray(test_outcome, dtype=\"|S6\")\n",
    "    \n",
    "    # create classifer\n",
    "    tree_clf = DecisionTreeClassifier()\n",
    "\n",
    "    # grid search with preprocessing\n",
    "    pipeline = make_pipeline(MinMaxScaler(), tree_clf)\n",
    "    param_grid = {'decisiontreeclassifier__max_depth': np.arange(3, 20), 'decisiontreeclassifier__criterion': [\"gini\", \"entropy\"], 'decisiontreeclassifier__splitter': [\"best\", \"random\"], 'decisiontreeclassifier__min_samples_split': np.arange(2, 20)} \n",
    "\n",
    "    # pass pipeline to grid search\n",
    "    grid = GridSearchCV(pipeline, param_grid, cv=3)\n",
    "\n",
    "    grid.fit(train_features, train_outcome)\n",
    "    return grid.score(test_features, test_outcome)\n",
    "    "
   ]
  },
  {
   "cell_type": "markdown",
   "metadata": {},
   "source": [
    "### Linear SCV\n",
    "\n",
    "https://scikit-learn.org/stable/modules/svm.html#classification"
   ]
  },
  {
   "cell_type": "markdown",
   "metadata": {},
   "source": [
    "Similar to the Decision Tree function, this is a function that splits the data into testing and training data, creates a linear SVC classifer model, trains the model including scaling, cross validation and feeding our training data, and assesses the accuracy of the model using the testing data. It returns the accuracy that the model found for this particular model and dataset."
   ]
  },
  {
   "cell_type": "code",
   "execution_count": 145,
   "metadata": {},
   "outputs": [],
   "source": [
    "def linear_scv_function(data):    \n",
    "    \n",
    "    # looking for categories and we have numbers-- switch ints to strings\n",
    "    for i in list(data):\n",
    "        if i != 'win' and i != 'team' and i != 'radiant' and i != 'dire':\n",
    "            data[i] = data[i].astype(int)\n",
    "\n",
    "    # split data\n",
    "    train_features, test_features, train_outcome, test_outcome = train_test_split(\n",
    "       data.drop(\"radiantWin\", axis=1),     \n",
    "       data.loc[: , \"radiantWin\"],    \n",
    "       test_size=0.50\n",
    "    )\n",
    "\n",
    "    # solves an error about unknown labels\n",
    "    train_outcome = np.asarray(train_outcome, dtype=\"|S6\")\n",
    "    test_outcome = np.asarray(test_outcome, dtype=\"|S6\")\n",
    "    \n",
    "    # create classifer\n",
    "    clf_svm = svm.SVC(gamma='scale')\n",
    "\n",
    "    # grid search with preprocessing\n",
    "    pipeline = make_pipeline(MinMaxScaler(), clf_svm)\n",
    "    parameter_grid = {} \n",
    "\n",
    "    # pass pipeline to grid search\n",
    "    grid = GridSearchCV(pipeline, parameter_grid)\n",
    "    grid.fit(train_features, train_outcome)\n",
    "    return grid.score(test_features, test_outcome)\n"
   ]
  },
  {
   "cell_type": "markdown",
   "metadata": {},
   "source": [
    "### Train Models and Get Results"
   ]
  },
  {
   "cell_type": "markdown",
   "metadata": {},
   "source": [
    "Next we call both of those functions for each patch dataset- patch707_combined, patch710_combined, patch714_combined, and patchAll_combined. This means that for each data set, a decision tree classifer model and a linear SVC model will be trained and tested to determine the accuracy of the model. The results are below."
   ]
  },
  {
   "cell_type": "code",
   "execution_count": 146,
   "metadata": {},
   "outputs": [],
   "source": [
    "# run all the models on all the data, get array in return\n",
    "\n",
    "sub_datasets = [patch707_combined, patch710_combined, patch714_combined, patchAll_combined]\n",
    "decision_tree_results = []\n",
    "linear_svc_results = []\n",
    "for i in sub_datasets: \n",
    "    decision_tree_results.append(decision_tree_function(i))\n",
    "    linear_svc_results.append(linear_scv_function(i))\n",
    "    "
   ]
  },
  {
   "cell_type": "code",
   "execution_count": 147,
   "metadata": {},
   "outputs": [
    {
     "name": "stdout",
     "output_type": "stream",
     "text": [
      "Decision Tree Results: \n",
      "patch707_combined: 0.4972972972972973\n",
      "patch710_combined: 0.5118110236220472\n",
      "patch714_combined: 0.48663101604278075\n",
      "patchAll_combined: 0.531062124248497\n",
      " \n",
      "Linear SVC Results: \n",
      "patch707_combined: 0.5027027027027027\n",
      "patch710_combined: 0.5354330708661418\n",
      "patch714_combined: 0.6042780748663101\n",
      "patchAll_combined: 0.533066132264529\n"
     ]
    }
   ],
   "source": [
    "print(\"Decision Tree Results: \")\n",
    "print(\"patch707_combined: \" + str(decision_tree_results[0]))\n",
    "print(\"patch710_combined: \" + str(decision_tree_results[1]))\n",
    "print(\"patch714_combined: \" + str(decision_tree_results[2]))\n",
    "print(\"patchAll_combined: \" + str(decision_tree_results[3]))\n",
    "print(\" \")\n",
    "print(\"Linear SVC Results: \")\n",
    "print(\"patch707_combined: \" + str(linear_svc_results[0]))\n",
    "print(\"patch710_combined: \" + str(linear_svc_results[1]))\n",
    "print(\"patch714_combined: \" + str(linear_svc_results[2]))\n",
    "print(\"patchAll_combined: \" + str(linear_svc_results[3]))"
   ]
  },
  {
   "cell_type": "markdown",
   "metadata": {},
   "source": [
    "The decision tree accuracy hovers right around 50%, which given that there are only two categories, win or lose, is not more accurate than a coinflip. So, predicting whether a team wins or loses, even accounting for different patches, is very difficult. This makes sense because if predicting the outcome of games were easy, then the games would not be interesting. "
   ]
  },
  {
   "cell_type": "code",
   "execution_count": 148,
   "metadata": {},
   "outputs": [
    {
     "data": {
      "image/png": "[encoded data removed]",
      "text/plain": [
       "<Figure size 432x288 with 1 Axes>"
      ]
     },
     "metadata": {
      "needs_background": "light"
     },
     "output_type": "display_data"
    }
   ],
   "source": [
    "plt.bar([\"patch707 combined\", \"patch710 combined\", \"patch714 combined\", \"patchAll combined\"], decision_tree_results, label=\"Decision Tree\")\n",
    "plt.plot([-0.5, 3.5], [0.5, 0.5], color=\"black\")\n",
    "plt.xlabel(\"Patch Data Set\")\n",
    "plt.ylabel(\"% Accuracy\")\n",
    "plt.xticks(rotation=10)\n",
    "plt.legend()\n",
    "plt.title(\"Accuracy by Decision Tree\")\n",
    "plt.axis([-0.5, 3.5, 0, 1])\n",
    "\n",
    "plt.show()"
   ]
  },
  {
   "cell_type": "markdown",
   "metadata": {},
   "source": [
    "The Linear SVC model's accuracy, while also hovering close to 50%, is slightly higher than the Decision Tree's accuracy. This may be due to the randomness of our samples, rather than a better performing model. However, overall, this model doesn't fair much better than the Decision Tree mode, further demonstrating that predicting the outcome of these games is difficult."
   ]
  },
  {
   "cell_type": "code",
   "execution_count": 149,
   "metadata": {},
   "outputs": [
    {
     "data": {
      "image/png": "[encoded data removed]",
      "text/plain": [
       "<Figure size 432x288 with 1 Axes>"
      ]
     },
     "metadata": {
      "needs_background": "light"
     },
     "output_type": "display_data"
    }
   ],
   "source": [
    "plt.bar([\"patch707 combined\", \"patch710 combined\", \"patch714 combined\", \"patchAll combined\"], linear_svc_results, label=\"Linear SVC\")\n",
    "plt.plot([-0.5, 3.5], [0.5, 0.5], color=\"black\")\n",
    "plt.xlabel(\"Patch Data Set\")\n",
    "plt.ylabel(\"% Accuracy\")\n",
    "plt.xticks(rotation=10)\n",
    "plt.legend()\n",
    "plt.title(\"Accuracy of Linear SVC\")\n",
    "plt.axis([-0.5, 3.5, 0, 1])\n",
    "\n",
    "plt.show()"
   ]
  },
  {
   "cell_type": "markdown",
   "metadata": {},
   "source": [
    "In this case the patch 714 is slightly easier to predict, with a value at 60%. However, this isn't sigificant enough to say that the difference is due to the patch rather than random chance. Separating out patches into separate datasets or combining patches does not seem to make a sigificant differenc either because all the datasets seems to hover around the same values. "
   ]
  },
  {
   "cell_type": "code",
   "execution_count": 150,
   "metadata": {},
   "outputs": [
    {
     "data": {
      "image/png": "[encoded data removed]",
      "text/plain": [
       "<Figure size 432x288 with 1 Axes>"
      ]
     },
     "metadata": {
      "needs_background": "light"
     },
     "output_type": "display_data"
    }
   ],
   "source": [
    "plt.scatter([\"patch707 combined\", \"patch710 combined\", \"patch714 combined\", \"patchAll combined\"], decision_tree_results, label=\"Decision Tree\")\n",
    "plt.scatter([\"patch707 combined\", \"patch710 combined\", \"patch714 combined\", \"patchAll combined\"], linear_svc_results, label=\"Linear SVC\")\n",
    "plt.plot([-0.5, 3.5], [0.5, 0.5], color=\"black\")\n",
    "plt.xlabel(\"Patch Data Set\")\n",
    "plt.ylabel(\"% Accuracy\")\n",
    "plt.xticks(rotation=10)\n",
    "plt.legend()\n",
    "plt.title(\"Accuracy by Decision Tree\")\n",
    "plt.axis([-0.5, 3.5, 0, 1])\n",
    "\n",
    "plt.show()"
   ]
  },
  {
   "cell_type": "markdown",
   "metadata": {},
   "source": [
    "### Bonus: Multi-layer Perceptron"
   ]
  },
  {
   "cell_type": "markdown",
   "metadata": {},
   "source": [
    "Multi-layer Perceptron (MLP) is a supervised learning algorithm. It's a simple neural network that processes features through layers with certain number of nodes."
   ]
  },
  {
   "cell_type": "markdown",
   "metadata": {},
   "source": [
    "First we create the training and test dataframes of first major patch."
   ]
  },
  {
   "cell_type": "code",
   "execution_count": 125,
   "metadata": {
    "scrolled": true
   },
   "outputs": [],
   "source": [
    "hero_df, win_df = create_vector(dpc, 26, 27)\n",
    "hero_test_df, win_test_df = create_vector(dpc, 28, 28)"
   ]
  },
  {
   "cell_type": "markdown",
   "metadata": {},
   "source": [
    "Here, we're calculating for optimal number of nodes and layers."
   ]
  },
  {
   "cell_type": "code",
   "execution_count": 126,
   "metadata": {},
   "outputs": [],
   "source": [
    "results = []\n",
    "comb = []\n",
    "\n",
    "layers = np.arange(0, 10)\n",
    "layers = layers[10:0:-1]\n",
    "for n in np.arange(1, 50):\n",
    "    for l in layers:\n",
    "        clf = MLPClassifier(solver='lbfgs', alpha=1e-5, hidden_layer_sizes=(n, l), random_state=1)\n",
    "        clf.fit(hero_df, win_df.values.ravel())\n",
    "\n",
    "        results.append(accuracy_score(clf.predict(hero_test_df), win_test_df))\n",
    "        comb.append(\"nodes: \" + str(n) + \" \" + \"layers: \" + str(l))"
   ]
  },
  {
   "cell_type": "code",
   "execution_count": 127,
   "metadata": {},
   "outputs": [
    {
     "name": "stdout",
     "output_type": "stream",
     "text": [
      "Accuracy Score: 0.625\n",
      "nodes: 8 layers: 1\n"
     ]
    }
   ],
   "source": [
    "counter = 0\n",
    "maxP = 0\n",
    "maxPL = 0\n",
    "for x in results:\n",
    "    if maxP < x:\n",
    "        maxP = x\n",
    "        maxPL = counter\n",
    "    counter += 1\n",
    "print(\"Accuracy Score: \" + str(maxP))\n",
    "print(comb[maxPL])"
   ]
  },
  {
   "cell_type": "code",
   "execution_count": 118,
   "metadata": {},
   "outputs": [
    {
     "data": {
      "image/png": "[encoded data removed]",
      "text/plain": [
       "<Figure size 1440x360 with 1 Axes>"
      ]
     },
     "metadata": {
      "needs_background": "light"
     },
     "output_type": "display_data"
    }
   ],
   "source": [
    "plt.figure(figsize=(20, 5))\n",
    "plt.bar(np.arange(0, 441), results)\n",
    "plt.xlabel(\"Combination of Nodes and Layers\")\n",
    "plt.ylabel(\"Accuracy Score\")\n",
    "plt.title(\"Combination of Nodes and Layers vs. Accuracy Score\")\n",
    "plt.show()"
   ]
  },
  {
   "cell_type": "markdown",
   "metadata": {},
   "source": [
    "Here, we're testing for optimal number of iterations with above results."
   ]
  },
  {
   "cell_type": "code",
   "execution_count": 120,
   "metadata": {},
   "outputs": [],
   "source": [
    "result_iter = []\n",
    "counter = 1\n",
    "maxP = 0\n",
    "maxPL = 0\n",
    "\n",
    "for x in np.arange(1, 100):\n",
    "    clf = MLPClassifier(solver='lbfgs', alpha=1e-5, hidden_layer_sizes=(8, 1), random_state=1, max_iter=x)\n",
    "    clf.fit(hero_df, win_df.values.ravel())\n",
    "    score = accuracy_score(clf.predict(hero_test_df), win_test_df)\n",
    "    result_iter.append(score)\n",
    "    if maxP < score:\n",
    "        maxP = score\n",
    "        maxPL = counter\n",
    "    counter += 1"
   ]
  },
  {
   "cell_type": "code",
   "execution_count": 121,
   "metadata": {},
   "outputs": [
    {
     "name": "stdout",
     "output_type": "stream",
     "text": [
      "Highest Accuracy: 0.625\n",
      "Number of iterations: 49\n"
     ]
    },
    {
     "data": {
      "image/png": "[encoded data removed]",
      "text/plain": [
       "<Figure size 1440x360 with 1 Axes>"
      ]
     },
     "metadata": {
      "needs_background": "light"
     },
     "output_type": "display_data"
    }
   ],
   "source": [
    "print(\"Highest Accuracy: \" + str(maxP))\n",
    "print(\"Number of iterations: \" + str(maxPL))\n",
    "plt.figure(figsize=(20, 5))\n",
    "plt.bar(np.arange(1, 100), result_iter)\n",
    "plt.xlabel(\"Number of Max Interations\")\n",
    "plt.ylabel(\"Accuracy\")\n",
    "plt.title(\"Max Iterations vs. Accuracy Score\")\n",
    "plt.show()"
   ]
  },
  {
   "cell_type": "markdown",
   "metadata": {},
   "source": [
    "We can see that accuracy peaks at 48 but is kept for the rest of iterations."
   ]
  },
  {
   "cell_type": "markdown",
   "metadata": {},
   "source": [
    "Now we try it on other major patches."
   ]
  },
  {
   "cell_type": "code",
   "execution_count": 114,
   "metadata": {},
   "outputs": [
    {
     "name": "stdout",
     "output_type": "stream",
     "text": [
      "patch 7.07 to 7.12: 0.625\n",
      "patch 7.10 to 7.13: 0.5294117647058824\n",
      "patch 7.14 to 7.16: 0.3761467889908257\n",
      "patch 7.07 to 7.16: 0.3944954128440367\n"
     ]
    }
   ],
   "source": [
    "hero_df, win_df = create_vector(dpc, 26, 27)\n",
    "hero_test_df, win_test_df = create_vector(dpc, 28, 28)\n",
    "\n",
    "clf = MLPClassifier(solver='lbfgs', alpha=1e-5, hidden_layer_sizes=(8, 1), random_state=1, max_iter=49)\n",
    "clf.fit(hero_df, win_df.values.ravel())\n",
    "print(\"patch 7.07 to 7.12: \" + str(accuracy_score(clf.predict(hero_test_df), win_test_df)))\n",
    "\n",
    "hero_df, win_df = create_vector(dpc, 29, 31)\n",
    "hero_test_df, win_test_df = create_vector(dpc, 32, 32)\n",
    "\n",
    "clf = MLPClassifier(solver='lbfgs', alpha=1e-5, hidden_layer_sizes=(8, 1), random_state=1, max_iter=49)\n",
    "clf.fit(hero_df, win_df.values.ravel())\n",
    "print(\"patch 7.10 to 7.13: \" + str(accuracy_score(clf.predict(hero_test_df), win_test_df)))\n",
    "\n",
    "hero_df, win_df = create_vector(dpc, 33, 34)\n",
    "hero_test_df, win_test_df = create_vector(dpc, 35, 36)\n",
    "\n",
    "clf = MLPClassifier(solver='lbfgs', alpha=1e-5, hidden_layer_sizes=(8, 1), random_state=1, max_iter=49)\n",
    "clf.fit(hero_df, win_df.values.ravel())\n",
    "print(\"patch 7.14 to 7.16: \" + str(accuracy_score(clf.predict(hero_test_df), win_test_df)))\n",
    "\n",
    "hero_df, win_df = create_vector(dpc, 26, 34)\n",
    "hero_test_df, win_test_df = create_vector(dpc, 35, 36)\n",
    "\n",
    "clf = MLPClassifier(solver='lbfgs', alpha=1e-5, hidden_layer_sizes=(8, 1), random_state=1, max_iter=49)\n",
    "clf.fit(hero_df, win_df.values.ravel())\n",
    "print(\"patch 7.07 to 7.16: \" + str(accuracy_score(clf.predict(hero_test_df), win_test_df)))"
   ]
  },
  {
   "cell_type": "markdown",
   "metadata": {},
   "source": [
    "## Conclusion"
   ]
  },
  {
   "cell_type": "markdown",
   "metadata": {},
   "source": [
    "Overall, our Decision tree model performed decently for patch 714 and our SVC model performed decently for all the data combined. With only a total of 997 games our dataset was certainly not as large as we would have liked. Even with our limited dataset we were able to predict results 60% of the time depending on patch and model. \n",
    "\n",
    "With the multi-layer perceptron, or MLP, performed well when given patch data sequentially. For example, if we trained on patch 7.07 and 7.08 then it would do okay in predicting what would happen in 7.09, about 0.62 accuracy score. However, when we tested on rest of the patches, it performed 0.52, 0.37 for two other major patches, and 0.39 for testing it on all the data. This is probably the result of picking nodes, layers, and iterations based on the first major patch data.\n",
    "\n",
    "In the end, the difficulty we found in predicting the outcomes of DotA games illustrates the complexity of the game. There are many factors that contribute to the win or loss of the game beyond the players on each of the team and this was not something that we included in our analysis due to limited scope and time. But the complexity is a part of what makes the game interesting. If the outcomes of games could be predicted only off the players on each team, then the games would hold little interest. "
   ]
  }
 ],
 "metadata": {
  "kernelspec": {
   "display_name": "Python 3",
   "language": "python",
   "name": "python3"
  },
  "language_info": {
   "codemirror_mode": {
    "name": "ipython",
    "version": 3
   },
   "file_extension": ".py",
   "mimetype": "text/x-python",
   "name": "python",
   "nbconvert_exporter": "python",
   "pygments_lexer": "ipython3",
   "version": "3.7.1"
  }
 },
 "nbformat": 4,
 "nbformat_minor": 2
}
