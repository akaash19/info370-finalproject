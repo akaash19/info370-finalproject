{
 "cells": [
  {
   "cell_type": "markdown",
   "metadata": {},
   "source": [
    "# Final Resource"
   ]
  },
  {
   "cell_type": "markdown",
   "metadata": {},
   "source": [
    "final resource as a RMarkdown webpage\n",
    "\n",
    "- The purpose of your topic is clearly captured in your resource\n",
    "- Quantitative questions are clearly and concisely explained with thoughtful text and compelling visuals\n",
    "- A nuanced understanding of the important features of the dataset and topic is demonstrated.\n",
    "- High-level insights (important descriptive information, major trends, notable outliers, etc.) should be prominent in your resource.\n",
    "- Methods and results of statistical approaches are clear\n",
    "- Your analysis should be easily reproducible using information in your GitHub repository\n",
    "- Remember to tailor your resource to a specific target audience. The amount of framing you need to do for a scientific versus general audience is quite different\n",
    "\n",
    "https://www.kaggle.com/pvkc8888/dota-2-pro-circuit-1718"
   ]
  },
  {
   "cell_type": "code",
   "execution_count": 52,
   "metadata": {},
   "outputs": [],
   "source": [
    "# Import packages\n",
    "import pandas as pd\n",
    "import numpy as np\n",
    "import statsmodels.formula.api as smf\n",
    "import matplotlib.pyplot as plt\n",
    "from sklearn import metrics"
   ]
  },
  {
   "cell_type": "code",
   "execution_count": 117,
   "metadata": {},
   "outputs": [],
   "source": [
    "dpc = pd.read_json(\"data/DPC.json\").transpose()"
   ]
  },
  {
   "cell_type": "code",
   "execution_count": 118,
   "metadata": {},
   "outputs": [],
   "source": [
    "dpc.drop([\"all_word_counts\", \"barracks_status_dire\", \"barracks_status_radiant\", \"chat\", \"cluster\", \"comeback\", \n",
    "          \"cosmetics\", \"dire_score\", \"series_type\", \"skill\", \"stomp\", \"teamfights\", \"throw\", \"tower_status_dire\", \n",
    "          \"tower_status_radiant\", \"loss\", \"leagueid\", \"duration\", \"engine\", \"first_blood_time\", \"radiant_xp_adv\", \n",
    "          \"replay_url\", \"radiant_gold_adv\", \"players\", \"positive_votes\", \"radiant_score\", \"negative_votes\", \n",
    "          \"objectives\", \"dire_team_id\", \"radiant_team_id\", \"human_players\", \"league\", \"lobby_type\", \n",
    "          \"draft_timings\", \"my_word_counts\", \"region\", \"replay_salt\", \"series_id\"], axis=1, inplace=True)\n",
    "dpc.drop([1], inplace=True)"
   ]
  },
  {
   "cell_type": "code",
   "execution_count": 119,
   "metadata": {},
   "outputs": [
    {
     "name": "stdout",
     "output_type": "stream",
     "text": [
      "in patch 25: 91 matches\n",
      "    first instance of patch: 3497210298\n",
      "     last instance of patch: 3530486844\n",
      "in patch 26: 301 matches\n",
      "    first instance of patch: 3537526907\n",
      "     last instance of patch: 3704280890\n",
      "in patch 27: 33 matches\n",
      "    first instance of patch: 3710610589\n",
      "     last instance of patch: 3716818051\n",
      "in patch 28: 64 matches\n",
      "    first instance of patch: 3743740299\n",
      "     last instance of patch: 3752758474\n",
      "in patch 29: 51 matches\n",
      "    first instance of patch: 3763492629\n",
      "     last instance of patch: 3775933971\n",
      "in patch 30: 63 matches\n",
      "    first instance of patch: 3781456589\n",
      "     last instance of patch: 3800120344\n",
      "in patch 31: 107 matches\n",
      "    first instance of patch: 3805102807\n",
      "     last instance of patch: 3820686389\n",
      "in patch 32: 35 matches\n",
      "    first instance of patch: 3828770018\n",
      "     last instance of patch: 3834963072\n",
      "in patch 33: 110 matches\n",
      "    first instance of patch: 3853663055\n",
      "     last instance of patch: 3876799364\n",
      "in patch 34: 156 matches\n",
      "    first instance of patch: 3878216001\n",
      "     last instance of patch: 3915763230\n",
      "in patch 35: 101 matches\n",
      "    first instance of patch: 3917076539\n",
      "     last instance of patch: 3942260942\n",
      "in patch 36: 8 matches\n",
      "    first instance of patch: 3943204781\n",
      "     last instance of patch: 3943981461\n"
     ]
    }
   ],
   "source": [
    "patches = dpc[\"patch\"].unique()\n",
    "for patch in patches:\n",
    "    print(\"in patch \" + str(patch) + \": \" + str(dpc.loc[dpc[\"patch\"] == patch].shape[0]) + \" matches\")\n",
    "    print(\"    first instance of patch: \" + str(dpc.loc[dpc[\"patch\"] == patch].head(1).index[0]))\n",
    "    print(\"     last instance of patch: \" + str(dpc.loc[dpc[\"patch\"] == patch].tail(1).index[0]))"
   ]
  },
  {
   "cell_type": "code",
   "execution_count": null,
   "metadata": {},
   "outputs": [],
   "source": [
    "# (7.06f, 7.07, 7.07d, 7.08, 7.09, 7.10, 7.11, 7.12, 7.13, 7.14, 7.15, 7.16)"
   ]
  },
  {
   "cell_type": "code",
   "execution_count": 112,
   "metadata": {},
   "outputs": [],
   "source": [
    "# Does bans matter\n",
    "# Does Team ID matter\n",
    "# Only Picks\n",
    "# based off patch"
   ]
  }
 ],
 "metadata": {
  "kernelspec": {
   "display_name": "Python 3",
   "language": "python",
   "name": "python3"
  },
  "language_info": {
   "codemirror_mode": {
    "name": "ipython",
    "version": 3
   },
   "file_extension": ".py",
   "mimetype": "text/x-python",
   "name": "python",
   "nbconvert_exporter": "python",
   "pygments_lexer": "ipython3",
   "version": "3.7.1"
  }
 },
 "nbformat": 4,
 "nbformat_minor": 2
}
