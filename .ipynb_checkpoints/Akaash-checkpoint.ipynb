{
 "cells": [
  {
   "cell_type": "code",
   "execution_count": 6,
   "metadata": {},
   "outputs": [],
   "source": [
    "# Import packages\n",
    "import pandas as pd\n",
    "import numpy as np\n",
    "import statsmodels.formula.api as smf\n",
    "import matplotlib.pyplot as plt\n",
    "from sklearn import metrics"
   ]
  },
  {
   "cell_type": "code",
   "execution_count": 7,
   "metadata": {},
   "outputs": [],
   "source": [
    "dpc = pd.read_json(\"data/DPC.json\").transpose()"
   ]
  },
  {
   "cell_type": "code",
   "execution_count": 8,
   "metadata": {},
   "outputs": [],
   "source": [
    "dpc.drop([\"all_word_counts\", \"barracks_status_dire\", \"barracks_status_radiant\", \"chat\", \"cluster\", \"comeback\", \n",
    "          \"cosmetics\", \"dire_score\", \"series_type\", \"skill\", \"stomp\", \"teamfights\", \"throw\", \"tower_status_dire\", \n",
    "          \"tower_status_radiant\", \"loss\", \"leagueid\", \"duration\", \"engine\", \"first_blood_time\", \"radiant_xp_adv\", \n",
    "          \"replay_url\", \"radiant_gold_adv\", \"players\", \"positive_votes\", \"radiant_score\", \"negative_votes\", \n",
    "          \"objectives\", \"dire_team_id\", \"radiant_team_id\", \"human_players\", \"league\", \"lobby_type\", \n",
    "          \"draft_timings\", \"my_word_counts\", \"region\", \"replay_salt\", \"series_id\"], axis=1, inplace=True)\n",
    "dpc.drop([1], inplace=True)"
   ]
  },
  {
   "cell_type": "code",
   "execution_count": 9,
   "metadata": {},
   "outputs": [
    {
     "name": "stdout",
     "output_type": "stream",
     "text": [
      "in patch 25: 91 matches\n",
      "    first instance of patch: 3497210298\n",
      "     last instance of patch: 3530486844\n",
      "in patch 26: 301 matches\n",
      "    first instance of patch: 3537526907\n",
      "     last instance of patch: 3704280890\n",
      "in patch 27: 33 matches\n",
      "    first instance of patch: 3710610589\n",
      "     last instance of patch: 3716818051\n",
      "in patch 28: 64 matches\n",
      "    first instance of patch: 3743740299\n",
      "     last instance of patch: 3752758474\n",
      "in patch 29: 51 matches\n",
      "    first instance of patch: 3763492629\n",
      "     last instance of patch: 3775933971\n",
      "in patch 30: 63 matches\n",
      "    first instance of patch: 3781456589\n",
      "     last instance of patch: 3800120344\n",
      "in patch 31: 107 matches\n",
      "    first instance of patch: 3805102807\n",
      "     last instance of patch: 3820686389\n",
      "in patch 32: 35 matches\n",
      "    first instance of patch: 3828770018\n",
      "     last instance of patch: 3834963072\n",
      "in patch 33: 110 matches\n",
      "    first instance of patch: 3853663055\n",
      "     last instance of patch: 3876799364\n",
      "in patch 34: 156 matches\n",
      "    first instance of patch: 3878216001\n",
      "     last instance of patch: 3915763230\n",
      "in patch 35: 101 matches\n",
      "    first instance of patch: 3917076539\n",
      "     last instance of patch: 3942260942\n",
      "in patch 36: 8 matches\n",
      "    first instance of patch: 3943204781\n",
      "     last instance of patch: 3943981461\n"
     ]
    }
   ],
   "source": [
    "patches = dpc[\"patch\"].unique()\n",
    "for patch in patches:\n",
    "    print(\"in patch \" + str(patch) + \": \" + str(dpc.loc[dpc[\"patch\"] == patch].shape[0]) + \" matches\")\n",
    "    print(\"    first instance of patch: \" + str(dpc.loc[dpc[\"patch\"] == patch].head(1).index[0]))\n",
    "    print(\"     last instance of patch: \" + str(dpc.loc[dpc[\"patch\"] == patch].tail(1).index[0]))"
   ]
  },
  {
   "cell_type": "markdown",
   "metadata": {},
   "source": [
    "Now that we have defined what are major patches are and split our data correctly we need to explore some other variables. We will now explore the effects bans and team have on winning. In DotA at the begining of every game teams not only take turns picking characters they also have the opportunity to ban characters meaning neither team can use the character. So here we will first explore if bans have a correlation to winning, do bans in fact matter for our final model? We will then explore if there are \"dominant\" teams, being able to predict who will win a match should be affected by the skill of the players. Or perhaps there is a lot of parody and including teams would be a detriment to the model. Another thing we can also test is if certain picks are more important than others, as in does the first or last pick have a stronger correlation to winning?\n",
    "\n",
    "\n",
    "Since this dataset is a set of matches from professional DotA we will be conducting this analysis under this assumption that there are no explicitly \"bad\" bans and every decision made is an educated one. "
   ]
  },
  {
   "cell_type": "code",
   "execution_count": null,
   "metadata": {},
   "outputs": [],
   "source": [
    "import seaborn as sns\n",
    "#Correlation heat charts. \n",
    "#All of the columns\n",
    "#patch 1\n",
    "sns.heatmap(df.corr()**2)"
   ]
  },
  {
   "cell_type": "markdown",
   "metadata": {},
   "source": [
    "What we see from this heat map"
   ]
  },
  {
   "cell_type": "code",
   "execution_count": null,
   "metadata": {},
   "outputs": [],
   "source": [
    "#patch number 2\n",
    "sns.heatmap(df.corr()**2)"
   ]
  },
  {
   "cell_type": "code",
   "execution_count": null,
   "metadata": {},
   "outputs": [],
   "source": [
    "#patch 3\n",
    "sns.heatmap(df.corr()**2)"
   ]
  },
  {
   "cell_type": "markdown",
   "metadata": {},
   "source": [
    "What we see from these heat maps. "
   ]
  },
  {
   "cell_type": "code",
   "execution_count": null,
   "metadata": {},
   "outputs": [],
   "source": []
  },
  {
   "cell_type": "code",
   "execution_count": null,
   "metadata": {},
   "outputs": [],
   "source": []
  },
  {
   "cell_type": "code",
   "execution_count": null,
   "metadata": {},
   "outputs": [],
   "source": []
  }
 ],
 "metadata": {
  "kernelspec": {
   "display_name": "Python 3",
   "language": "python",
   "name": "python3"
  },
  "language_info": {
   "codemirror_mode": {
    "name": "ipython",
    "version": 3
   },
   "file_extension": ".py",
   "mimetype": "text/x-python",
   "name": "python",
   "nbconvert_exporter": "python",
   "pygments_lexer": "ipython3",
   "version": "3.7.0"
  }
 },
 "nbformat": 4,
 "nbformat_minor": 2
}
