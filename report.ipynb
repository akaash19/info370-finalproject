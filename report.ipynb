{
 "cells": [
  {
   "cell_type": "markdown",
   "metadata": {},
   "source": [
    "# Info 370 Final Project\n",
    "\n",
    "#### By: Akaash Shah, Sueng Lee, Madison Smith\n",
    "\n",
    "#### 02/27/2019"
   ]
  },
  {
   "cell_type": "markdown",
   "metadata": {},
   "source": [
    "### Project Overview:"
   ]
  },
  {
   "cell_type": "markdown",
   "metadata": {},
   "source": [
    "What is the overarching purpose of your research project, and why is it an important undertaking?\n",
    "\n",
    "How does your research fit into the broader problem domain? You should cite at least 3 papers that help contextualize your research. \n",
    "\n",
    "What specific hypothesis (hypotheses) are you going to test?\n",
    "\n",
    "What are the datasets you'll be working with to answer this question? Please include relevant background describing the datasets you identify.\n",
    "\n",
    "What statistical and machine learning methods do you plan on using to test your hypothesis?\n",
    "\n",
    "Who is your target audience for the resource you will build? Depending on the domain of your data, there may be a variety of audiences interested in using the dataset. You should hone in on one of these audiences.\n",
    "\n",
    "What should your audience learn from your resource? Consider specific questions they may want to answer.\n",
    "Technical Description\n",
    "This section of your proposal is an opportunity to think through the specific analytical steps you'll need to complete throughout the project.\n",
    "\n",
    "What will be the format of your final web resource (Shiny app, HTML page or slideshow compiled with KnitR, etc.)?\n",
    "\n",
    "Do you anticipate any specific data collection / data management challenges?\n",
    "\n",
    "What new technical skills will need to learn in order to complete your project?\n",
    "\n",
    "How will you conduct you analysis? Please include a detailed description of your intended modeling approach. \n",
    "\n",
    "What major challenges do you anticipate? "
   ]
  },
  {
   "cell_type": "code",
   "execution_count": null,
   "metadata": {},
   "outputs": [],
   "source": []
  },
  {
   "cell_type": "code",
   "execution_count": null,
   "metadata": {},
   "outputs": [],
   "source": []
  }
 ],
 "metadata": {
  "kernelspec": {
   "display_name": "Python 3",
   "language": "python",
   "name": "python3"
  },
  "language_info": {
   "codemirror_mode": {
    "name": "ipython",
    "version": 3
   },
   "file_extension": ".py",
   "mimetype": "text/x-python",
   "name": "python",
   "nbconvert_exporter": "python",
   "pygments_lexer": "ipython3",
   "version": "3.7.0"
  }
 },
 "nbformat": 4,
 "nbformat_minor": 2
}
