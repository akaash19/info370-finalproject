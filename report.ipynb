{
 "cells": [
  {
   "cell_type": "markdown",
   "metadata": {},
   "source": [
    "# Info 370 Final Project\n",
    "\n",
    "#### By: Akaash Shah, Sueng Lee, Madison Smith\n",
    "\n",
    "#### 02/27/2019"
   ]
  },
  {
   "cell_type": "markdown",
   "metadata": {},
   "source": [
    "### Project Overview:"
   ]
  },
  {
   "cell_type": "markdown",
   "metadata": {},
   "source": [
    "#### What is the overarching purpose of your research project, and why is it an important undertaking?\n",
    "\n",
    "The overarching purpose of our research project is to predict if a professional competitive DotA 2 team can win from what characters they pick and ban in a match. \n",
    "\n",
    "Esports, or electronic sports, is a [fast growing business that has reached 1 billion dollar revenue mark](https://newzoo.com/insights/articles/newzoo-global-esports-economy-will-top-1-billion-for-the-first-time-in-2019/). \n",
    "\n",
    "With some esports players earning [millions of dollars from tournaments](https://www.esportsearnings.com/) and sponsorships reaching $460 million, the stakes for each game are very high. If our research can find a model that can predict if a team can win based on picks alone, it has a chance to be adopted and used by the developers to help balance the game, which benefits esports enthusiasts in the end.\n",
    "\n",
    "We picked DotA 2 dataset as it has the highest prize pool tournament, which is $25 million from The International 2018, and specifically the 2017 to 2018 DotA Pro Circuit games. The reason why we picked professional games to do analysis on is because the professional games are played on Captains Mode where each team picks and bans characters they will play in the match. \n",
    "\n",
    "DotA 2 on Captains Mode is a game of 5 versus 5 where each team alternates banning and picking a character from a pool of 116 characters until there are 6 bans and 5 picks per team. The goal of each team is to destroy the opponent’s stronghold building called Ancient, hence the name Defense of the Ancients. The metagame that forms around picking and banning results in a phenomena called “draft win” in certain matches where a team has a very high chance of winning, assuming no major difference in skills between the two teams, solely on the fact that they picked the right combination of characters versus their opponent. We feel that drafting in DotA 2 provides a unique opportunity to perform data analysis."
   ]
  },
  {
   "cell_type": "markdown",
   "metadata": {},
   "source": [
    "#### How does your research fit into the broader problem domain?\n",
    "\n",
    "DotA 2 is a Multiplayer Online Battle Arena (MOBA) game, which is a subgenre of a the larger Real-Time Strategy game genre. MOBA games are generally under researched despite having an enthusiastic fan base. Within MOBA games, DotA 2 is oftentimes overshadowed by League of Legends, a more well-known MOBA game. Generally the research that does exist around MOBA games is focused on the user, specifically topics like user intelligence, user visual attention span, and self vs team focus. However, our research is focused the outcome of the game and the relationship between factors within the game and relate to the outcome of the game, rather than the user. \n",
    "\n",
    "Mora-Cantallops, Marçal & Sicilia, Miguel-Ángel. (2018). MOBA games: A literature review. Entertainment Computing. 26. 10.1016/j.entcom.2018.02.005. \n",
    "\n",
    "Kokkinakis AV, Cowling PI, Drachen A, Wade AR (2017) Exploring the relationship between video game expertise and fluid intelligence. PLoS ONE 12(11): e0186621. https://doi.org/10.1371/journal.pone.0186621\n",
    "\n",
    "Castaneda, Lisa, et al. \"Game Play Differences by Expertise Level in Dota 2, A Complex Multiplayer Video Game.\" Journal International Journal of Gaming and Computer-Mediated Simulation, vol. 8, no. 4, Oct. 2016, doi:10.4018/IJGCMS.2016100101, dl.acm.org/citation.cfm?id=3077825. Accessed 28 Feb. 2019.\n",
    "\n"
   ]
  },
  {
   "cell_type": "markdown",
   "metadata": {},
   "source": [
    "#### What specific hypothesis (hypotheses) are you going to test?\n",
    "\n",
    "The null hypothesis is that there is no correlation between picking or excluding characters from selection, and winning the game.\n",
    "\n",
    "The alternative hypothesis is that there is a correlation between picking and excluding characters from selection, and winning the game.\n"
   ]
  },
  {
   "cell_type": "markdown",
   "metadata": {},
   "source": [
    "#### What are the datasets you'll be working with to answer this question? \n",
    "\n",
    "The dataset we will be working with is a comprehensive collection of match data from the competitive video game, DotA 2. The dataset contains all the [professional matches](https://www.kaggle.com/pvkc8888/dota-2-pro-circuit-1718) played during the DotA 2 Professional Circuit 2017-2018 season. The data is sorted by match ID and includes a huge range of data. The specific data we will be interested in are the current Major Patch, the characters that are picked and banned, as well as, the result of the specific match. "
   ]
  },
  {
   "cell_type": "markdown",
   "metadata": {},
   "source": [
    "#### What statistical and machine learning methods do you plan on using to test your hypothesis?\n",
    "\n",
    "* Grid Search\n",
    "* Decision Tree \n",
    "* Correlation Analysis\n",
    "* Regression Analysis"
   ]
  },
  {
   "cell_type": "markdown",
   "metadata": {},
   "source": [
    "#### Who is your target audience for the resource you will build? Depending on the domain of your data, there may be a variety of audiences interested in using the dataset. You should hone in on one of these audiences.\n",
    "\n",
    "The target audience for our project are the teams themselves, investors in the team, the creators of DotA, and the fans of DotA. For our project, we are planning to hone in on the creators of DotA because they have an interest in keeping the games similarly matched because the games where both sides are equally matched are more engaging than games where the sides are unevenly matched. "
   ]
  },
  {
   "cell_type": "markdown",
   "metadata": {},
   "source": [
    "#### What should your audience learn from your resource? Consider specific questions they may want to answer.\n",
    "\n",
    "Our resources should help the audience should learn more about the likelihood of each team winning and losing based on the characters on each team. This will help the creators of DotA build a more engaging game where teams are matched. Also, the fans of the game will be able to to answer their own questions about how different characters and different combinations of characters influence the outcomes of each match to satisfy their own interest. "
   ]
  },
  {
   "cell_type": "markdown",
   "metadata": {},
   "source": [
    "# Technical Description\n",
    "\n",
    "#### What will be the format of your final web resource (Shiny app, HTML page or slideshow compiled with KnitR, etc.)?\n",
    "Our final web resource will be a HTML Page.\n",
    "\n",
    "#### Do you anticipate any specific data collection / data management challenges?\n",
    "\n",
    "The data set is very large so importing and cleaning the data efficiently early on will be very important. The dataset is also has a nested structure that we will have to be careful with.\n",
    "\n",
    "#### What new technical skills will need to learn in order to complete your project?\n",
    "\n",
    "Some technical skills include: \n",
    "Dealing with Json file in pandas \n",
    "Delve deeper into how Machine learning works \n",
    "Definitely learn the in and outs of formatting data for machine learning specifically using Decision tree Modeling. \n",
    "\n",
    "#### How will you conduct you analysis? Please include a detailed description of your intended modeling approach. \n",
    "\n",
    "First we will read in our data and drop all the columns we don’t want. Next we will split all the data up by major Patch. Then for each Patch dataset we will check to see if any characters are “broken” or  “useless” meaning they dominate no matter the opponent or always lose. We will also want to find out if “good” vs “bad” bans matter for winning. To do both of these things we will run correlation analysis between every character (or character ban) and winning a match. Knowing which characters are more geared to winning will help us validate the accuracy of our model, ideally the game is fairly balanced and it comes down to team composition and not individual characters. Our actual predictive modeling will be done using characters picked as features in Decision tree modeling to predict the outcome of the match. Note this will be done per Major Patch as patches can greatly influence character strength.\n",
    "\n",
    "#### What major challenges do you anticipate? \n",
    "\n",
    "Because all of these matches are professional matches there should not be any “bad picks” or glaring mistakes that make it easier to decide the outcome. Accounting for what characters are on the other team may also prove difficult, as we cannot make individual comparisons but rather individual + team comparisons. The decision of if banned characters should be included in the model is also something we will have to deal with. Is there indeed a correlation to winning if you ban good characters? Or do bans not matter for our model since who is actually playing is all that matters? Another issue that may occur is if there were not many games played during a specific major patch it may lead to inaccurate results. \n"
   ]
  },
  {
   "cell_type": "code",
   "execution_count": null,
   "metadata": {},
   "outputs": [],
   "source": []
  }
 ],
 "metadata": {
  "kernelspec": {
   "display_name": "Python 3",
   "language": "python",
   "name": "python3"
  },
  "language_info": {
   "codemirror_mode": {
    "name": "ipython",
    "version": 3
   },
   "file_extension": ".py",
   "mimetype": "text/x-python",
   "name": "python",
   "nbconvert_exporter": "python",
   "pygments_lexer": "ipython3",
   "version": "3.7.0"
  }
 },
 "nbformat": 4,
 "nbformat_minor": 2
}
