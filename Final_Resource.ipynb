{
 "cells": [
  {
   "cell_type": "markdown",
   "metadata": {},
   "source": [
    "# Final Resource"
   ]
  },
  {
   "cell_type": "markdown",
   "metadata": {},
   "source": [
    "final resource as a RMarkdown webpage\n",
    "\n",
    "- The purpose of your topic is clearly captured in your resource\n",
    "- Quantitative questions are clearly and concisely explained with thoughtful text and compelling visuals\n",
    "- A nuanced understanding of the important features of the dataset and topic is demonstrated.\n",
    "- High-level insights (important descriptive information, major trends, notable outliers, etc.) should be prominent in your resource.\n",
    "- Methods and results of statistical approaches are clear\n",
    "- Your analysis should be easily reproducible using information in your GitHub repository\n",
    "- Remember to tailor your resource to a specific target audience. The amount of framing you need to do for a scientific versus general audience is quite different\n",
    "\n",
    "https://www.kaggle.com/pvkc8888/dota-2-pro-circuit-1718\n",
    "\n",
    "https://dota2.gamepedia.com/Game_Versions"
   ]
  },
  {
   "cell_type": "code",
   "execution_count": 54,
   "metadata": {},
   "outputs": [
    {
     "ename": "ModuleNotFoundError",
     "evalue": "No module named 'data_functions'",
     "output_type": "error",
     "traceback": [
      "\u001b[1;31m---------------------------------------------------------------------------\u001b[0m",
      "\u001b[1;31mModuleNotFoundError\u001b[0m                       Traceback (most recent call last)",
      "\u001b[1;32m<ipython-input-54-5eb997aeaf85>\u001b[0m in \u001b[0;36m<module>\u001b[1;34m\u001b[0m\n\u001b[0;32m      8\u001b[0m \u001b[1;32mfrom\u001b[0m \u001b[0msklearn\u001b[0m\u001b[1;33m.\u001b[0m\u001b[0mneural_network\u001b[0m \u001b[1;32mimport\u001b[0m \u001b[0mMLPClassifier\u001b[0m\u001b[1;33m\u001b[0m\u001b[1;33m\u001b[0m\u001b[0m\n\u001b[0;32m      9\u001b[0m \u001b[1;32mfrom\u001b[0m \u001b[0msklearn\u001b[0m\u001b[1;33m.\u001b[0m\u001b[0mmetrics\u001b[0m \u001b[1;32mimport\u001b[0m \u001b[0maccuracy_score\u001b[0m\u001b[1;33m\u001b[0m\u001b[1;33m\u001b[0m\u001b[0m\n\u001b[1;32m---> 10\u001b[1;33m \u001b[1;32mimport\u001b[0m \u001b[0mdata_functions\u001b[0m\u001b[1;33m\u001b[0m\u001b[1;33m\u001b[0m\u001b[0m\n\u001b[0m",
      "\u001b[1;31mModuleNotFoundError\u001b[0m: No module named 'data_functions'"
     ]
    }
   ],
   "source": [
    "# Import packages\n",
    "import pandas as pd\n",
    "import numpy as np\n",
    "import statsmodels.formula.api as smf\n",
    "import matplotlib.pyplot as plt\n",
    "import math\n",
    "from sklearn import metrics\n",
    "from sklearn.neural_network import MLPClassifier\n",
    "from sklearn.metrics import accuracy_score\n",
    "import data_functions"
   ]
  },
  {
   "cell_type": "code",
   "execution_count": 3,
   "metadata": {},
   "outputs": [],
   "source": [
    "dpc = pd.read_json(\"data/DPC.json\").transpose()"
   ]
  },
  {
   "cell_type": "code",
   "execution_count": 4,
   "metadata": {},
   "outputs": [],
   "source": [
    "dpc.drop([\"all_word_counts\", \"barracks_status_dire\", \"barracks_status_radiant\", \"chat\", \"cluster\", \"comeback\", \n",
    "          \"cosmetics\", \"dire_score\", \"series_type\", \"skill\", \"stomp\", \"teamfights\", \"throw\", \"tower_status_dire\", \n",
    "          \"tower_status_radiant\", \"loss\", \"leagueid\", \"duration\", \"engine\", \"first_blood_time\", \"radiant_xp_adv\", \n",
    "          \"replay_url\", \"radiant_gold_adv\", \"positive_votes\", \"radiant_score\", \"negative_votes\", \n",
    "          \"objectives\", \"dire_team_id\", \"radiant_team_id\", \"human_players\", \"league\", \"lobby_type\", \n",
    "          \"draft_timings\", \"my_word_counts\", \"region\", \"replay_salt\", \"series_id\"], axis=1, inplace=True)\n",
    "dpc.drop([1], inplace=True)"
   ]
  },
  {
   "cell_type": "code",
   "execution_count": 118,
   "metadata": {},
   "outputs": [],
   "source": [
    "# (7.06, 7.07, 7.08, 7.09, 7.10, 7.11, 7.12, 7.13, 7.14, 7.15, 7.16, 7.16)\n",
    "# major patches\n",
    "# patch 7.07 to 7.09 (patch 26 to 28)\n",
    "# patch 7.10 to 7.13 (patch 29 to 32)\n",
    "# patch 7.14 to 7.16 (patch 33 to 36)\n",
    "\n",
    "# for data with picks and bans\n",
    "# for hero data https://github.com/kronusme/dota2-api/blob/master/data/heroes.json"
   ]
  },
  {
   "cell_type": "code",
   "execution_count": 119,
   "metadata": {
    "scrolled": true
   },
   "outputs": [],
   "source": [
    "# function that takes in range of patch number\n",
    "# and returns dataframe with 1 team's picks and bans,\n",
    "# and if the team won the match\n",
    "def create_pick_ban_1_team(patch_range_low, patch_range_high):\n",
    "    dpc_df = pd.DataFrame(columns=[\"pick_1\", \"pick_2\", \"pick_3\", \"pick_4\", \"pick_5\",\n",
    "                                 \"ban_1\", \"ban_2\", \"ban_3\", \"ban_4\", \"ban_5\", \"ban_6\",\n",
    "                                 \"win\"])\n",
    "    for i in dpc.index:\n",
    "        patch = dpc.at[i, 'patch']\n",
    "        game_mode = dpc.at[i, 'game_mode']\n",
    "        if patch >= patch_range_low and patch <= patch_range_high and game_mode == 2: \n",
    "            length = len(dpc.at[i, 'picks_bans'])\n",
    "            if  length == 22:\n",
    "                ban1 = dpc.at[i, 'picks_bans'][0][\"hero_id\"]\n",
    "                ban6 = dpc.at[i, 'picks_bans'][1][\"hero_id\"]\n",
    "                ban2 = dpc.at[i, 'picks_bans'][2][\"hero_id\"]\n",
    "                ban7 = dpc.at[i, 'picks_bans'][3][\"hero_id\"]\n",
    "                ban3 = dpc.at[i, 'picks_bans'][4][\"hero_id\"]\n",
    "                ban8 = dpc.at[i, 'picks_bans'][5][\"hero_id\"]\n",
    "\n",
    "                pick1 = dpc.at[i, 'picks_bans'][6][\"hero_id\"]\n",
    "                pick6 = dpc.at[i, 'picks_bans'][7][\"hero_id\"]\n",
    "                pick7 = dpc.at[i, 'picks_bans'][8][\"hero_id\"]\n",
    "                pick2 = dpc.at[i, 'picks_bans'][9][\"hero_id\"]\n",
    "\n",
    "                ban9 = dpc.at[i, 'picks_bans'][10][\"hero_id\"]\n",
    "                ban4 = dpc.at[i, 'picks_bans'][11][\"hero_id\"]\n",
    "                ban10 = dpc.at[i, 'picks_bans'][12][\"hero_id\"]\n",
    "                ban5 = dpc.at[i, 'picks_bans'][13][\"hero_id\"]\n",
    "\n",
    "                pick8 = dpc.at[i, 'picks_bans'][14][\"hero_id\"]\n",
    "                pick3 = dpc.at[i, 'picks_bans'][15][\"hero_id\"]\n",
    "                pick9 = dpc.at[i, 'picks_bans'][16][\"hero_id\"]\n",
    "                pick4 = dpc.at[i, 'picks_bans'][17][\"hero_id\"]  \n",
    "\n",
    "                ban11 = dpc.at[i, 'picks_bans'][18][\"hero_id\"]\n",
    "                ban6 = dpc.at[i, 'picks_bans'][19][\"hero_id\"]\n",
    "\n",
    "                pick5 = dpc.at[i, 'picks_bans'][20][\"hero_id\"]\n",
    "                pick10 = dpc.at[i, 'picks_bans'][21][\"hero_id\"] \n",
    "\n",
    "                firstWin = True\n",
    "                secondWin = False\n",
    "\n",
    "                team1 = pd.Series({\"pick_1\": pick1, \"pick_2\": pick2, \"pick_3\": pick3, \"pick_4\": pick4, \"pick_5\": pick5})\n",
    "                player1_hero = dpc.at[i, \"players\"][0][\"hero_id\"]\n",
    "                player1_first_pick = False\n",
    "                player1_radiant = dpc.at[i, \"players\"][0][\"isRadiant\"]\n",
    "\n",
    "                for hero in team1:\n",
    "                    if hero == player1_hero:\n",
    "                        player1_first_pick = True\n",
    "                        # this is ran when player1's team has first pick and is radiant\n",
    "                        if player1_radiant:\n",
    "                            firstWin = dpc.at[i, 'radiant_win']\n",
    "                            secondWin = not dpc.at[i, 'radiant_win']\n",
    "\n",
    "                if not player1_first_pick:\n",
    "                    # print(str(dpc.at[i, \"players\"][0][\"name\"]) + \" has 2nd pick and is radiant\")\n",
    "                    secondWin = dpc.at[i, 'radiant_win']\n",
    "                    firstWin = not dpc.at[i, 'radiant_win']\n",
    "\n",
    "                dpc_df = dpc_df.append({\"pick_1\": pick1, \n",
    "                                         \"pick_2\": pick2, \n",
    "                                         \"pick_3\": pick3, \n",
    "                                         \"pick_4\": pick4, \n",
    "                                         \"pick_5\": pick5,\n",
    "                                         \"ban_1\": ban1, \n",
    "                                         \"ban_2\": ban2, \n",
    "                                         \"ban_3\": ban3, \n",
    "                                         \"ban_4\": ban4, \n",
    "                                         \"ban_5\": ban5,\n",
    "                                         \"ban_6\": ban6,\n",
    "                                         \"win\": firstWin}, ignore_index=True)\n",
    "                dpc_df = dpc_df.append({\"pick_1\": pick6, \n",
    "                                         \"pick_2\": pick7, \n",
    "                                         \"pick_3\": pick8, \n",
    "                                         \"pick_4\": pick9, \n",
    "                                         \"pick_5\": pick10,\n",
    "                                         \"ban_1\": ban6, \n",
    "                                         \"ban_2\": ban7, \n",
    "                                         \"ban_3\": ban8, \n",
    "                                         \"ban_4\": ban9, \n",
    "                                         \"ban_5\": ban10,\n",
    "                                         \"ban_6\": ban11,\n",
    "                                         \"win\": secondWin}, ignore_index=True)\n",
    "    return dpc_df"
   ]
  },
  {
   "cell_type": "code",
   "execution_count": null,
   "metadata": {},
   "outputs": [],
   "source": [
    "# major patches\n",
    "# patch 7.07 to 7.09 (patch 26 to 28)\n",
    "# patch 7.10 to 7.13 (patch 29 to 32)\n",
    "# patch 7.14 to 7.16 (patch 33 to 36)\n",
    "\n",
    "# has data for pick, ban, and win\n",
    "patch707_single = create_pick_ban_1_team(26, 28)\n",
    "patch710_single = create_pick_ban_1_team(29, 32)\n",
    "patch714_single = create_pick_ban_1_team(33, 36)\n",
    "patchAll_single = create_pick_ban_1_team(26, 36)"
   ]
  },
  {
   "cell_type": "code",
   "execution_count": null,
   "metadata": {},
   "outputs": [],
   "source": [
    "# function that takes in range of patch number\n",
    "# and returns dataframe with 1 team's picks and bans,\n",
    "# if the team won the match, and team_id\n",
    "def create_pick_ban_team(patch_range_low, patch_range_high):\n",
    "    dpc_df = pd.DataFrame(columns=[\"pick_1\", \"pick_2\", \"pick_3\", \"pick_4\", \"pick_5\",\n",
    "                                 \"ban_1\", \"ban_2\", \"ban_3\", \"ban_4\", \"ban_5\", \"ban_6\",\n",
    "                                 \"win\", \"team\"])\n",
    "    for i in dpc.index:\n",
    "        patch = dpc.at[i, 'patch']\n",
    "        game_mode = dpc.at[i, 'game_mode']\n",
    "        if patch >= patch_range_low and patch <= patch_range_high and game_mode == 2: \n",
    "            length = len(dpc.at[i, 'picks_bans'])\n",
    "            if  length == 22:\n",
    "                ban1 = dpc.at[i, 'picks_bans'][0][\"hero_id\"]\n",
    "                ban6 = dpc.at[i, 'picks_bans'][1][\"hero_id\"]\n",
    "                ban2 = dpc.at[i, 'picks_bans'][2][\"hero_id\"]\n",
    "                ban7 = dpc.at[i, 'picks_bans'][3][\"hero_id\"]\n",
    "                ban3 = dpc.at[i, 'picks_bans'][4][\"hero_id\"]\n",
    "                ban8 = dpc.at[i, 'picks_bans'][5][\"hero_id\"]\n",
    "\n",
    "                pick1 = dpc.at[i, 'picks_bans'][6][\"hero_id\"]\n",
    "                pick6 = dpc.at[i, 'picks_bans'][7][\"hero_id\"]\n",
    "                pick7 = dpc.at[i, 'picks_bans'][8][\"hero_id\"]\n",
    "                pick2 = dpc.at[i, 'picks_bans'][9][\"hero_id\"]\n",
    "\n",
    "                ban9 = dpc.at[i, 'picks_bans'][10][\"hero_id\"]\n",
    "                ban4 = dpc.at[i, 'picks_bans'][11][\"hero_id\"]\n",
    "                ban10 = dpc.at[i, 'picks_bans'][12][\"hero_id\"]\n",
    "                ban5 = dpc.at[i, 'picks_bans'][13][\"hero_id\"]\n",
    "\n",
    "                pick8 = dpc.at[i, 'picks_bans'][14][\"hero_id\"]\n",
    "                pick3 = dpc.at[i, 'picks_bans'][15][\"hero_id\"]\n",
    "                pick9 = dpc.at[i, 'picks_bans'][16][\"hero_id\"]\n",
    "                pick4 = dpc.at[i, 'picks_bans'][17][\"hero_id\"]  \n",
    "\n",
    "                ban11 = dpc.at[i, 'picks_bans'][18][\"hero_id\"]\n",
    "                ban6 = dpc.at[i, 'picks_bans'][19][\"hero_id\"]\n",
    "\n",
    "                pick5 = dpc.at[i, 'picks_bans'][20][\"hero_id\"]\n",
    "                pick10 = dpc.at[i, 'picks_bans'][21][\"hero_id\"] \n",
    "\n",
    "                firstWin = True\n",
    "                secondWin = False\n",
    "\n",
    "                team1 = pd.Series({\"pick_1\": pick1, \"pick_2\": pick2, \"pick_3\": pick3, \"pick_4\": pick4, \"pick_5\": pick5})\n",
    "                player1_hero = dpc.at[i, \"players\"][0][\"hero_id\"]\n",
    "                player1_first_pick = False\n",
    "                player1_radiant = dpc.at[i, \"players\"][0][\"isRadiant\"]\n",
    "\n",
    "                try:\n",
    "                    team1_id = dpc.at[i, \"radiant_team\"][\"team_id\"]\n",
    "                except TypeError:\n",
    "                    continue\n",
    "                team2_id = dpc.at[i, \"dire_team\"][\"team_id\"]\n",
    "                \n",
    "                for hero in team1:\n",
    "                    if hero == player1_hero:\n",
    "                        player1_first_pick = True\n",
    "                        # this is ran when player1's team has first pick and is radiant\n",
    "                        if player1_radiant:\n",
    "                            firstWin = dpc.at[i, 'radiant_win']\n",
    "                            secondWin = not dpc.at[i, 'radiant_win']\n",
    "\n",
    "                if not player1_first_pick:\n",
    "                    # print(str(dpc.at[i, \"players\"][0][\"name\"]) + \" has 2nd pick and is radiant\")\n",
    "                    secondWin = dpc.at[i, 'radiant_win']\n",
    "                    firstWin = not dpc.at[i, 'radiant_win']\n",
    "                    team1_id = dpc.at[i, \"dire_team\"][\"team_id\"]\n",
    "                    team2_id = dpc.at[i, \"radiant_team\"][\"team_id\"]\n",
    "                    \n",
    "                dpc_df = dpc_df.append({\"pick_1\": pick1, \n",
    "                                         \"pick_2\": pick2, \n",
    "                                         \"pick_3\": pick3, \n",
    "                                         \"pick_4\": pick4, \n",
    "                                         \"pick_5\": pick5,\n",
    "                                         \"ban_1\": ban1, \n",
    "                                         \"ban_2\": ban2, \n",
    "                                         \"ban_3\": ban3, \n",
    "                                         \"ban_4\": ban4, \n",
    "                                         \"ban_5\": ban5,\n",
    "                                         \"ban_6\": ban6,\n",
    "                                         \"win\": firstWin,\n",
    "                                         \"team\": team1_id}, ignore_index=True)\n",
    "                dpc_df = dpc_df.append({\"pick_1\": pick6, \n",
    "                                         \"pick_2\": pick7, \n",
    "                                         \"pick_3\": pick8, \n",
    "                                         \"pick_4\": pick9, \n",
    "                                         \"pick_5\": pick10,\n",
    "                                         \"ban_1\": ban6, \n",
    "                                         \"ban_2\": ban7, \n",
    "                                         \"ban_3\": ban8, \n",
    "                                         \"ban_4\": ban9, \n",
    "                                         \"ban_5\": ban10,\n",
    "                                         \"ban_6\": ban11,\n",
    "                                         \"win\": secondWin,\n",
    "                                         \"team\": team2_id}, ignore_index=True)\n",
    "    return dpc_df"
   ]
  },
  {
   "cell_type": "code",
   "execution_count": null,
   "metadata": {},
   "outputs": [],
   "source": [
    "# major patches\n",
    "# patch 7.07 to 7.09 (patch 26 to 28)\n",
    "# patch 7.10 to 7.13 (patch 29 to 32)\n",
    "# patch 7.14 to 7.16 (patch 33 to 36)\n",
    "\n",
    "# has data for pick, ban, win, team_id\n",
    "patch707_pbt = create_pick_ban_team(26, 28)\n",
    "patch710_pbt = create_pick_ban_team(29, 32)\n",
    "patch714_pbt = create_pick_ban_team(33, 36)\n",
    "patchAll_pbt = create_pick_ban_team(26, 36)"
   ]
  },
  {
   "cell_type": "code",
   "execution_count": 50,
   "metadata": {},
   "outputs": [],
   "source": [
    "# function that takes in range of patch number\n",
    "# and returns dataframe with radiant picks, dire picks, radiant/dire team ids,\n",
    "# and if radiant won the match\n",
    "def create_pick_ban_both_teams(patch_range_low, patch_range_high):\n",
    "    dpc_df = pd.DataFrame(columns=[\"r_pick_1\", \"r_pick_2\", \"r_pick_3\", \"r_pick_4\", \"r_pick_5\",\n",
    "                                     \"r_ban_1\", \"r_ban_2\", \"r_ban_3\", \"r_ban_4\", \"r_ban_5\", \"r_ban_6\",\n",
    "                                     \"d_pick_1\", \"d_pick_2\", \"d_pick_3\", \"d_pick_4\", \"d_pick_5\",\n",
    "                                     \"d_ban_1\", \"d_ban_2\", \"d_ban_3\", \"d_ban_4\", \"d_ban_5\", \"d_ban_6\",\n",
    "                                     \"radiantWin\", \"radiant\", \"dire\"])\n",
    "    for i in dpc.index: \n",
    "        patch = dpc.at[i, 'patch']\n",
    "        game_mode = dpc.at[i, 'game_mode']\n",
    "        if patch >= patch_range_low and patch <= patch_range_high and game_mode == 2: \n",
    "            length = len(dpc.at[i, 'picks_bans'])\n",
    "            if  length == 22:\n",
    "                ban1 = dpc.at[i, \"picks_bans\"][0][\"hero_id\"]\n",
    "                ban6 = dpc.at[i, \"picks_bans\"][1][\"hero_id\"]\n",
    "                ban2 = dpc.at[i, \"picks_bans\"][2][\"hero_id\"]\n",
    "                ban7 = dpc.at[i, \"picks_bans\"][3][\"hero_id\"]\n",
    "                ban3 = dpc.at[i, \"picks_bans\"][4][\"hero_id\"]\n",
    "                ban8 = dpc.at[i, \"picks_bans\"][5][\"hero_id\"]\n",
    "\n",
    "                pick1 = dpc.at[i, \"picks_bans\"][6][\"hero_id\"]\n",
    "                pick6 = dpc.at[i, \"picks_bans\"][7][\"hero_id\"]\n",
    "                pick7 = dpc.at[i, \"picks_bans\"][8][\"hero_id\"]\n",
    "                pick2 = dpc.at[i, \"picks_bans\"][9][\"hero_id\"]\n",
    "\n",
    "                ban9 = dpc.at[i, \"picks_bans\"][10][\"hero_id\"]\n",
    "                ban4 = dpc.at[i, \"picks_bans\"][11][\"hero_id\"]\n",
    "                ban10 = dpc.at[i, \"picks_bans\"][12][\"hero_id\"]\n",
    "                ban5 = dpc.at[i, \"picks_bans\"][13][\"hero_id\"]\n",
    "\n",
    "                pick8 = dpc.at[i, \"picks_bans\"][14][\"hero_id\"]\n",
    "                pick3 = dpc.at[i, \"picks_bans\"][15][\"hero_id\"]\n",
    "                pick9 = dpc.at[i, \"picks_bans\"][16][\"hero_id\"]\n",
    "                pick4 = dpc.at[i, \"picks_bans\"][17][\"hero_id\"]  \n",
    "\n",
    "                ban11 = dpc.at[i, \"picks_bans\"][18][\"hero_id\"]\n",
    "                ban6 = dpc.at[i, \"picks_bans\"][19][\"hero_id\"]\n",
    "\n",
    "                pick5 = dpc.at[i, \"picks_bans\"][20][\"hero_id\"]\n",
    "                pick10 = dpc.at[i, \"picks_bans\"][21][\"hero_id\"] \n",
    "\n",
    "                radiantWin = dpc.at[i, \"radiant_win\"]\n",
    "                \n",
    "                try:\n",
    "                    team1_id = dpc.at[i, \"radiant_team\"][\"team_id\"]\n",
    "                    team2_id = dpc.at[i, \"dire_team\"][\"team_id\"]\n",
    "                except TypeError:\n",
    "                    continue\n",
    "                    \n",
    "                team1 = pd.Series({\"pick_1\": pick1, \"pick_2\": pick2, \"pick_3\": pick3, \"pick_4\": pick4, \"pick_5\": pick5})\n",
    "                player1_hero = dpc.at[i, \"players\"][0][\"hero_id\"]\n",
    "                player1_first_pick = False\n",
    "                player1_radiant = dpc.at[i, \"players\"][0][\"isRadiant\"]\n",
    "                picks_bans = {}\n",
    "\n",
    "                for hero in team1:\n",
    "                    if hero == player1_hero:\n",
    "                        player1_first_pick = True\n",
    "                        # this is ran when player1's team has first pick and is radiant\n",
    "                        if player1_radiant:\n",
    "                            # print(str(dpc.at[i, \"players\"][0][\"name\"]) + \" has 1st pick and is radiant\")\n",
    "                            picks_bans = {\"r_pick_1\": pick1, \"r_pick_2\": pick2, \"r_pick_3\": pick3, \n",
    "                                            \"r_pick_4\": pick4, \"r_pick_5\": pick5,\n",
    "                                            \"r_ban_1\": ban1, \"r_ban_2\": ban2, \"r_ban_3\": ban3, \n",
    "                                            \"r_ban_4\": ban4, \"r_ban_5\": ban5, \"r_ban_6\": ban6,\n",
    "                                            \"d_pick_1\": pick6, \"d_pick_2\": pick7, \"d_pick_3\": pick8, \n",
    "                                            \"d_pick_4\": pick9, \"d_pick_5\": pick10,\n",
    "                                            \"d_ban_1\": ban6, \"d_ban_2\": ban7, \"d_ban_3\": ban8, \n",
    "                                            \"d_ban_4\": ban9, \"d_ban_5\": ban10, \"d_ban_6\": ban11}\n",
    "\n",
    "                if not player1_first_pick:\n",
    "                        # print(str(dpc.at[i, \"players\"][0][\"name\"]) + \" has 2nd pick and is radiant\")\n",
    "                        picks_bans = {\"r_pick_1\": pick6, \"r_pick_2\": pick7, \"r_pick_3\": pick8, \n",
    "                                        \"r_pick_4\": pick9, \"r_pick_5\": pick10,\n",
    "                                        \"r_ban_1\": ban6, \"r_ban_2\": ban7, \"r_ban_3\": ban8, \n",
    "                                        \"r_ban_4\": ban9, \"r_ban_5\": ban10, \"r_ban_6\": ban11,\n",
    "                                        \"d_pick_1\": pick1, \"d_pick_2\": pick2, \"d_pick_3\": pick3, \n",
    "                                        \"d_pick_4\": pick4, \"d_pick_5\": pick5,\n",
    "                                        \"d_ban_1\": ban1, \"d_ban_2\": ban2, \"d_ban_3\": ban3, \n",
    "                                        \"d_ban_4\": ban4, \"d_ban_5\": ban5, \"d_ban_6\": ban6}        \n",
    "\n",
    "                picks_bans.update({\"radiantWin\": radiantWin,\n",
    "                                 \"radiant\": team1_id,\n",
    "                                 \"dire\": team2_id})\n",
    "\n",
    "                row = pd.Series(picks_bans)\n",
    "\n",
    "                dpc_df = dpc_df.append(row, ignore_index=True)\n",
    "    return dpc_df"
   ]
  },
  {
   "cell_type": "code",
   "execution_count": 53,
   "metadata": {},
   "outputs": [
    {
     "ename": "TypeError",
     "evalue": "create_pick_ban_both_teams() takes 2 positional arguments but 3 were given",
     "output_type": "error",
     "traceback": [
      "\u001b[1;31m---------------------------------------------------------------------------\u001b[0m",
      "\u001b[1;31mTypeError\u001b[0m                                 Traceback (most recent call last)",
      "\u001b[1;32m<ipython-input-53-0d3f6f93fa5c>\u001b[0m in \u001b[0;36m<module>\u001b[1;34m\u001b[0m\n\u001b[0;32m      5\u001b[0m \u001b[1;33m\u001b[0m\u001b[0m\n\u001b[0;32m      6\u001b[0m \u001b[1;31m# has radiant picks/bans, dire picks/bans, team_ids, radiant win(true/false)\u001b[0m\u001b[1;33m\u001b[0m\u001b[1;33m\u001b[0m\u001b[1;33m\u001b[0m\u001b[0m\n\u001b[1;32m----> 7\u001b[1;33m \u001b[0mpatch707_combined\u001b[0m \u001b[1;33m=\u001b[0m \u001b[0mcreate_pick_ban_both_teams\u001b[0m\u001b[1;33m(\u001b[0m\u001b[0mdpc\u001b[0m\u001b[1;33m,\u001b[0m \u001b[1;36m26\u001b[0m\u001b[1;33m,\u001b[0m \u001b[1;36m28\u001b[0m\u001b[1;33m)\u001b[0m\u001b[1;33m\u001b[0m\u001b[1;33m\u001b[0m\u001b[0m\n\u001b[0m\u001b[0;32m      8\u001b[0m \u001b[0mpatch710_combined\u001b[0m \u001b[1;33m=\u001b[0m \u001b[0mcreate_pick_ban_both_teams\u001b[0m\u001b[1;33m(\u001b[0m\u001b[0mdpc\u001b[0m\u001b[1;33m,\u001b[0m \u001b[1;36m29\u001b[0m\u001b[1;33m,\u001b[0m \u001b[1;36m32\u001b[0m\u001b[1;33m)\u001b[0m\u001b[1;33m\u001b[0m\u001b[1;33m\u001b[0m\u001b[0m\n\u001b[0;32m      9\u001b[0m \u001b[0mpatch714_combined\u001b[0m \u001b[1;33m=\u001b[0m \u001b[0mcreate_pick_ban_both_teams\u001b[0m\u001b[1;33m(\u001b[0m\u001b[0mdpc\u001b[0m\u001b[1;33m,\u001b[0m \u001b[1;36m33\u001b[0m\u001b[1;33m,\u001b[0m \u001b[1;36m36\u001b[0m\u001b[1;33m)\u001b[0m\u001b[1;33m\u001b[0m\u001b[1;33m\u001b[0m\u001b[0m\n",
      "\u001b[1;31mTypeError\u001b[0m: create_pick_ban_both_teams() takes 2 positional arguments but 3 were given"
     ]
    }
   ],
   "source": [
    "# major patches\n",
    "# patch 7.07 to 7.09 (patch 26 to 28)\n",
    "# patch 7.10 to 7.13 (patch 29 to 32)\n",
    "# patch 7.14 to 7.16 (patch 33 to 36)\n",
    "\n",
    "# has radiant picks/bans, dire picks/bans, team_ids, radiant win(true/false)\n",
    "patch707_combined = create_pick_ban_both_teams(dpc, 26, 28)\n",
    "patch710_combined = create_pick_ban_both_teams(dpc, 29, 32)\n",
    "patch714_combined = create_pick_ban_both_teams(dpc, 33, 36)\n",
    "patchAll_combined = create_pick_ban_both_teams(dpc, 26, 36)"
   ]
  },
  {
   "cell_type": "code",
   "execution_count": 169,
   "metadata": {},
   "outputs": [],
   "source": [
    "def create_picks_team(patch_range_low, patch_range_high):\n",
    "    dpc_df = pd.DataFrame(columns=[\"pick_1\", \"pick_2\", \"pick_3\", \"pick_4\", \"pick_5\",\n",
    "                                 \"win\", \"team\"])\n",
    "    for i in dpc.index: \n",
    "        patch = dpc.at[i, 'patch']\n",
    "        game_mode = dpc.at[i, 'game_mode']\n",
    "        if patch >= patch_range_low and patch <= patch_range_high and game_mode == 2: \n",
    "            length = len(dpc.at[i, 'picks_bans'])\n",
    "            if  length == 22:\n",
    "                pick1 = dpc.at[i, \"picks_bans\"][6][\"hero_id\"]\n",
    "                pick6 = dpc.at[i, \"picks_bans\"][7][\"hero_id\"]\n",
    "                pick7 = dpc.at[i, \"picks_bans\"][8][\"hero_id\"]\n",
    "                pick2 = dpc.at[i, \"picks_bans\"][9][\"hero_id\"]\n",
    "\n",
    "                pick8 = dpc.at[i, \"picks_bans\"][14][\"hero_id\"]\n",
    "                pick3 = dpc.at[i, \"picks_bans\"][15][\"hero_id\"]\n",
    "                pick9 = dpc.at[i, \"picks_bans\"][16][\"hero_id\"]\n",
    "                pick4 = dpc.at[i, \"picks_bans\"][17][\"hero_id\"]  \n",
    "\n",
    "                pick5 = dpc.at[i, \"picks_bans\"][20][\"hero_id\"]\n",
    "                pick10 = dpc.at[i, \"picks_bans\"][21][\"hero_id\"] \n",
    "\n",
    "                firstWin = True\n",
    "                secondWin = False\n",
    "                try:\n",
    "                    team1_id = dpc.at[i, \"radiant_team\"][\"team_id\"]\n",
    "                except TypeError:\n",
    "                    continue\n",
    "                team2_id = dpc.at[i, \"dire_team\"][\"team_id\"]\n",
    "                \n",
    "                team1 = pd.Series({\"pick_1\": pick1, \"pick_2\": pick2, \"pick_3\": pick3, \"pick_4\": pick4, \"pick_5\": pick5})\n",
    "                player1_hero = dpc.at[i, \"players\"][0][\"hero_id\"]\n",
    "                player1_first_pick = False\n",
    "                player1_radiant = dpc.at[i, \"players\"][0][\"isRadiant\"]\n",
    "\n",
    "                for hero in team1:\n",
    "                    if hero == player1_hero:\n",
    "                        player1_first_pick = True\n",
    "                        # this is ran when player1's team has first pick and is radiant\n",
    "                        if player1_radiant:\n",
    "                            firstWin = dpc.at[i, 'radiant_win']\n",
    "                            secondWin = not dpc.at[i, 'radiant_win']\n",
    "\n",
    "                if not player1_first_pick:\n",
    "                    # print(str(dpc.at[i, \"players\"][0][\"name\"]) + \" has 2nd pick and is radiant\")\n",
    "                    secondWin = dpc.at[i, 'radiant_win']\n",
    "                    firstWin = not dpc.at[i, 'radiant_win']\n",
    "                    team1_id = dpc.at[i, \"dire_team\"][\"team_id\"]\n",
    "                    team2_id = dpc.at[i, \"radiant_team\"][\"team_id\"]\n",
    "\n",
    "                dpc_df = dpc_df.append({\"pick_1\": pick1, \n",
    "                                         \"pick_2\": pick2, \n",
    "                                         \"pick_3\": pick3, \n",
    "                                         \"pick_4\": pick4, \n",
    "                                         \"pick_5\": pick5,\n",
    "                                         \"win\": firstWin,\n",
    "                                         \"team\": team1_id}, ignore_index=True)\n",
    "                dpc_df = dpc_df.append({\"pick_1\": pick6, \n",
    "                                         \"pick_2\": pick7, \n",
    "                                         \"pick_3\": pick8, \n",
    "                                         \"pick_4\": pick9, \n",
    "                                         \"pick_5\": pick10,\n",
    "                                         \"win\": secondWin,\n",
    "                                         \"team\": team2_id}, ignore_index=True)\n",
    "    return dpc_df"
   ]
  },
  {
   "cell_type": "code",
   "execution_count": 175,
   "metadata": {},
   "outputs": [],
   "source": [
    "# major patches\n",
    "# patch 7.07 to 7.09 (patch 26 to 28)\n",
    "# patch 7.10 to 7.13 (patch 29 to 32)\n",
    "# patch 7.14 to 7.16 (patch 33 to 36)\n",
    "\n",
    "# these are data with picks, team_id, and win (true, false)\n",
    "patch707_picks_team = create_picks_team(26, 28)\n",
    "patch710_picks_team = create_picks_team(29, 32)\n",
    "patch714_picks_team = create_picks_team(33, 36)\n",
    "patchAll_picks_team = create_picks_team(26, 36)"
   ]
  },
  {
   "cell_type": "code",
   "execution_count": 187,
   "metadata": {},
   "outputs": [],
   "source": [
    "def create_picks(patch_range_low, patch_range_high):\n",
    "    dpc_df = pd.DataFrame(columns=[\"pick_1\", \"pick_2\", \"pick_3\", \"pick_4\", \"pick_5\",\n",
    "                                 \"win\"])\n",
    "    for i in dpc.index: \n",
    "        patch = dpc.at[i, 'patch']\n",
    "        game_mode = dpc.at[i, 'game_mode']\n",
    "        if patch >= patch_range_low and patch <= patch_range_high and game_mode == 2: \n",
    "            length = len(dpc.at[i, 'picks_bans'])\n",
    "            if  length == 22:\n",
    "                pick1 = dpc.at[i, \"picks_bans\"][6][\"hero_id\"]\n",
    "                pick6 = dpc.at[i, \"picks_bans\"][7][\"hero_id\"]\n",
    "                pick7 = dpc.at[i, \"picks_bans\"][8][\"hero_id\"]\n",
    "                pick2 = dpc.at[i, \"picks_bans\"][9][\"hero_id\"]\n",
    "\n",
    "                pick8 = dpc.at[i, \"picks_bans\"][14][\"hero_id\"]\n",
    "                pick3 = dpc.at[i, \"picks_bans\"][15][\"hero_id\"]\n",
    "                pick9 = dpc.at[i, \"picks_bans\"][16][\"hero_id\"]\n",
    "                pick4 = dpc.at[i, \"picks_bans\"][17][\"hero_id\"]  \n",
    "\n",
    "                pick5 = dpc.at[i, \"picks_bans\"][20][\"hero_id\"]\n",
    "                pick10 = dpc.at[i, \"picks_bans\"][21][\"hero_id\"] \n",
    "\n",
    "                firstWin = True\n",
    "                secondWin = False\n",
    "\n",
    "                team1 = pd.Series({\"pick_1\": pick1, \"pick_2\": pick2, \"pick_3\": pick3, \"pick_4\": pick4, \"pick_5\": pick5})\n",
    "                player1_hero = dpc.at[i, \"players\"][0][\"hero_id\"]\n",
    "                player1_first_pick = False\n",
    "                player1_radiant = dpc.at[i, \"players\"][0][\"isRadiant\"]\n",
    "\n",
    "                for hero in team1:\n",
    "                    if hero == player1_hero:\n",
    "                        player1_first_pick = True\n",
    "                        # this is ran when player1's team has first pick and is radiant\n",
    "                        if player1_radiant:\n",
    "                            firstWin = dpc.at[i, 'radiant_win']\n",
    "                            secondWin = not dpc.at[i, 'radiant_win']\n",
    "\n",
    "                if not player1_first_pick:\n",
    "                    # print(str(dpc.at[i, \"players\"][0][\"name\"]) + \" has 2nd pick and is radiant\")\n",
    "                    secondWin = dpc.at[i, 'radiant_win']\n",
    "                    firstWin = not dpc.at[i, 'radiant_win']\n",
    "\n",
    "                dpc_df = dpc_df.append({\"pick_1\": pick1, \n",
    "                                         \"pick_2\": pick2, \n",
    "                                         \"pick_3\": pick3, \n",
    "                                         \"pick_4\": pick4, \n",
    "                                         \"pick_5\": pick5,\n",
    "                                         \"win\": firstWin}, ignore_index=True)\n",
    "                dpc_df = dpc_df.append({\"pick_1\": pick6, \n",
    "                                         \"pick_2\": pick7, \n",
    "                                         \"pick_3\": pick8, \n",
    "                                         \"pick_4\": pick9, \n",
    "                                         \"pick_5\": pick10,\n",
    "                                         \"win\": secondWin}, ignore_index=True)\n",
    "    return dpc_df"
   ]
  },
  {
   "cell_type": "code",
   "execution_count": 188,
   "metadata": {},
   "outputs": [],
   "source": [
    "# major patches\n",
    "# patch 7.07 to 7.09 (patch 26 to 28)\n",
    "# patch 7.10 to 7.13 (patch 29 to 32)\n",
    "# patch 7.14 to 7.16 (patch 33 to 36)\n",
    "\n",
    "# these are data with only picks and win (true,false)\n",
    "patch707_picks = create_picks(26, 28)\n",
    "patch710_picks = create_picks(29, 32)\n",
    "patch714_picks = create_picks(33, 36)\n",
    "patchAll_picks = create_picks(26, 36)"
   ]
  },
  {
   "cell_type": "code",
   "execution_count": 193,
   "metadata": {},
   "outputs": [],
   "source": []
  },
  {
   "cell_type": "markdown",
   "metadata": {},
   "source": [
    "# Below is only for testing on small subset of data"
   ]
  },
  {
   "cell_type": "code",
   "execution_count": null,
   "metadata": {},
   "outputs": [],
   "source": []
  },
  {
   "cell_type": "code",
   "execution_count": null,
   "metadata": {},
   "outputs": [],
   "source": []
  },
  {
   "cell_type": "code",
   "execution_count": null,
   "metadata": {
    "scrolled": false
   },
   "outputs": [],
   "source": []
  },
  {
   "cell_type": "code",
   "execution_count": 5,
   "metadata": {},
   "outputs": [],
   "source": [
    "# 120 heroes in the game\n",
    "import math\n",
    "\n",
    "def create_vector(data, patch_range_low, patch_range_high):\n",
    "    hero_df = pd.DataFrame()\n",
    "    win_df = pd.DataFrame()\n",
    "    \n",
    "    for i in data.index: \n",
    "        patch = data.at[i, 'patch']\n",
    "        game_mode = data.at[i, 'game_mode']\n",
    "        if patch >= patch_range_low and patch <= patch_range_high and game_mode == 2: \n",
    "            length = len(data.at[i, 'picks_bans'])\n",
    "            if  length == 22:\n",
    "                ban1 = data.at[i, \"picks_bans\"][0][\"hero_id\"]\n",
    "                ban6 = data.at[i, \"picks_bans\"][1][\"hero_id\"]\n",
    "                ban2 = data.at[i, \"picks_bans\"][2][\"hero_id\"]\n",
    "                ban7 = data.at[i, \"picks_bans\"][3][\"hero_id\"]\n",
    "                ban3 = data.at[i, \"picks_bans\"][4][\"hero_id\"]\n",
    "                ban8 = data.at[i, \"picks_bans\"][5][\"hero_id\"]\n",
    "\n",
    "                pick1 = data.at[i, \"picks_bans\"][6][\"hero_id\"]\n",
    "                pick6 = data.at[i, \"picks_bans\"][7][\"hero_id\"]\n",
    "                pick7 = data.at[i, \"picks_bans\"][8][\"hero_id\"]\n",
    "                pick2 = data.at[i, \"picks_bans\"][9][\"hero_id\"]\n",
    "\n",
    "                ban9 = data.at[i, \"picks_bans\"][10][\"hero_id\"]\n",
    "                ban4 = data.at[i, \"picks_bans\"][11][\"hero_id\"]\n",
    "                ban10 = data.at[i, \"picks_bans\"][12][\"hero_id\"]\n",
    "                ban5 = data.at[i, \"picks_bans\"][13][\"hero_id\"]\n",
    "\n",
    "                pick8 = data.at[i, \"picks_bans\"][14][\"hero_id\"]\n",
    "                pick3 = data.at[i, \"picks_bans\"][15][\"hero_id\"]\n",
    "                pick9 = data.at[i, \"picks_bans\"][16][\"hero_id\"]\n",
    "                pick4 = data.at[i, \"picks_bans\"][17][\"hero_id\"]  \n",
    "\n",
    "                ban11 = data.at[i, \"picks_bans\"][18][\"hero_id\"]\n",
    "                ban6 = data.at[i, \"picks_bans\"][19][\"hero_id\"]\n",
    "\n",
    "                pick5 = data.at[i, \"picks_bans\"][20][\"hero_id\"]\n",
    "                pick10 = data.at[i, \"picks_bans\"][21][\"hero_id\"] \n",
    "\n",
    "                radiantWin = data.at[i, \"radiant_win\"]\n",
    "                \n",
    "                team1 = pd.Series({\"pick_1\": pick1, \"pick_2\": pick2, \"pick_3\": pick3, \"pick_4\": pick4, \"pick_5\": pick5})\n",
    "                player1_hero = data.at[i, \"players\"][0][\"hero_id\"]\n",
    "                player1_first_pick = False\n",
    "                player1_radiant = data.at[i, \"players\"][0][\"isRadiant\"]\n",
    "                picks_bans = {}\n",
    "                \n",
    "                firstWin = data.at[i, 'radiant_win']\n",
    "                \n",
    "                hero_vector = np.zeros((4, 121))\n",
    "                \n",
    "                for hero in team1:\n",
    "                    if hero == player1_hero:\n",
    "                        player1_first_pick = True\n",
    "                if not player1_first_pick:\n",
    "                    firstWin = not data.at[i, 'radiant_win']\n",
    "\n",
    "                    \n",
    "                picks_bans = [pick1, pick2, pick3, pick4, pick5,\n",
    "                              ban1, ban2, ban3, ban4, ban5, ban6,\n",
    "                              pick6, pick7, pick8, pick9, pick10,\n",
    "                              ban6, ban7, ban8, ban9,  ban10, ban11] \n",
    "                \n",
    "                pick_b = True\n",
    "                for v_row in hero_vector:\n",
    "                    for pb in picks_bans:\n",
    "                        if pick_b:\n",
    "                            for i in np.arange(5):\n",
    "                                v_row[pb] = 1;\n",
    "                            pick_b = False\n",
    "                        else:\n",
    "                            for i in np.arange(6):\n",
    "                                v_row[pb] = 1;\n",
    "                            pick_b = True\n",
    "                \n",
    "                try:\n",
    "                    math.isnan(int(firstWin))\n",
    "                except TypeError:\n",
    "                    continue\n",
    "                \n",
    "                hero_vector = np.concatenate((hero_vector[0], hero_vector[1], hero_vector[2], hero_vector[3]), axis=None)\n",
    "                hero_df = hero_df.append(pd.Series(hero_vector), ignore_index=True)\n",
    "                \n",
    "                win_df = win_df.append(pd.Series(firstWin), ignore_index=True)\n",
    "\n",
    "    return hero_df, win_df"
   ]
  },
  {
   "cell_type": "code",
   "execution_count": 6,
   "metadata": {
    "scrolled": true
   },
   "outputs": [
    {
     "name": "stdout",
     "output_type": "stream",
     "text": [
      "(305, 484)\n",
      "(305, 1)\n",
      "(64, 484)\n",
      "(64, 1)\n"
     ]
    }
   ],
   "source": [
    "# Does bans matter\n",
    "# Does Team ID matter\n",
    "# Only Picks\n",
    "# based off patch\n",
    "\n",
    "hero_df, win_df = create_vector(dpc, 26, 27)\n",
    "print(hero_df.shape)\n",
    "print(win_df.shape)\n",
    "hero_test_df, win_test_df = create_vector(dpc, 28, 28)\n",
    "print(hero_test_df.shape)\n",
    "print(win_test_df.shape)"
   ]
  },
  {
   "cell_type": "code",
   "execution_count": 7,
   "metadata": {},
   "outputs": [],
   "source": [
    "from sklearn.neural_network import MLPClassifier\n",
    "from sklearn.metrics import accuracy_score\n",
    "\n",
    "results = []\n",
    "\n",
    "for x in np.arange(10, 200):\n",
    "    clf = MLPClassifier(solver='lbfgs', alpha=1e-5, hidden_layer_sizes=(x, 2), random_state=1)\n",
    "    clf.fit(hero_df, win_df.values.ravel())\n",
    "\n",
    "    results.append(accuracy_score(clf.predict(hero_test_df), win_test_df))"
   ]
  },
  {
   "cell_type": "code",
   "execution_count": 8,
   "metadata": {},
   "outputs": [
    {
     "data": {
      "image/png": "[encoded data removed]",
      "text/plain": [
       "<Figure size 1440x360 with 1 Axes>"
      ]
     },
     "metadata": {
      "needs_background": "light"
     },
     "output_type": "display_data"
    }
   ],
   "source": [
    "plt.figure(figsize=(20, 5))\n",
    "plt.bar(np.arange(10, 200), results)\n",
    "plt.xlabel(\"Number of Nodes in a Layer\")\n",
    "plt.ylabel(\"Accuracy\")\n",
    "plt.show()"
   ]
  },
  {
   "cell_type": "code",
   "execution_count": 247,
   "metadata": {},
   "outputs": [
    {
     "data": {
      "text/plain": [
       "<BarContainer object of 950 artists>"
      ]
     },
     "execution_count": 247,
     "metadata": {},
     "output_type": "execute_result"
    },
    {
     "data": {
      "image/png": "[encoded data removed]",
      "text/plain": [
       "<Figure size 1440x360 with 1 Axes>"
      ]
     },
     "metadata": {
      "needs_background": "light"
     },
     "output_type": "display_data"
    }
   ],
   "source": [
    "result_iter = []\n",
    "\n",
    "for x in np.arange(50, 1000):\n",
    "    clf = MLPClassifier(solver='lbfgs', alpha=1e-5, hidden_layer_sizes=(10, 2), random_state=1, max_iter=x)\n",
    "    clf.fit(hero_df, win_df.values.ravel())\n",
    "\n",
    "    result_iter.append(accuracy_score(clf.predict(hero_test_df), win_test_df))"
   ]
  },
  {
   "cell_type": "code",
   "execution_count": 253,
   "metadata": {},
   "outputs": [
    {
     "data": {
      "image/png": "[encoded data removed]",
      "text/plain": [
       "<Figure size 1440x360 with 1 Axes>"
      ]
     },
     "metadata": {
      "needs_background": "light"
     },
     "output_type": "display_data"
    }
   ],
   "source": [
    "plt.figure(figsize=(20, 5))\n",
    "plt.bar(np.arange(50, 1000), result_iter)\n",
    "plt.xlabel(\"Number of Max Interations\")\n",
    "plt.ylabel(\"Accuracy\")\n",
    "plt.show()"
   ]
  },
  {
   "cell_type": "code",
   "execution_count": 274,
   "metadata": {},
   "outputs": [
    {
     "name": "stdout",
     "output_type": "stream",
     "text": [
      "0.625\n",
      "0.5625\n",
      "0.5625\n"
     ]
    }
   ],
   "source": [
    "clf = MLPClassifier(solver='lbfgs', alpha=1e-5, hidden_layer_sizes=(10, 2), random_state=1, early_stopping=True)\n",
    "clf.fit(hero_df, win_df.values.ravel())\n",
    "print(accuracy_score(clf.predict(hero_test_df), win_test_df))\n",
    "\n",
    "clf = MLPClassifier(solver='sgd', alpha=1e-5, hidden_layer_sizes=(10, 2), random_state=1, early_stopping=True)\n",
    "clf.fit(hero_df, win_df.values.ravel())\n",
    "print(accuracy_score(clf.predict(hero_test_df), win_test_df))\n",
    "\n",
    "clf = MLPClassifier(solver='adam', alpha=1e-5, hidden_layer_sizes=(10, 2), random_state=1, early_stopping=True)\n",
    "clf.fit(hero_df, win_df.values.ravel())\n",
    "print(accuracy_score(clf.predict(hero_test_df), win_test_df))"
   ]
  },
  {
   "cell_type": "code",
   "execution_count": 275,
   "metadata": {},
   "outputs": [
    {
     "data": {
      "image/png": "[encoded data removed]",
      "text/plain": [
       "<Figure size 1440x360 with 1 Axes>"
      ]
     },
     "metadata": {
      "needs_background": "light"
     },
     "output_type": "display_data"
    }
   ],
   "source": [
    "result_layer = []\n",
    "\n",
    "for x in np.arange(1, 20):\n",
    "    clf = MLPClassifier(solver='lbfgs', alpha=1e-5, hidden_layer_sizes=(10, x), random_state=1, max_iter=1000)\n",
    "    clf.fit(hero_df, win_df.values.ravel())\n",
    "\n",
    "    result_layer.append(accuracy_score(clf.predict(hero_test_df), win_test_df))\n",
    "\n",
    "plt.figure(figsize=(20, 5))\n",
    "plt.bar(np.arange(1, 20), result_layer)\n",
    "plt.xlabel(\"Number of Layers\")\n",
    "plt.ylabel(\"Accuracy\")\n",
    "plt.show()\n"
   ]
  },
  {
   "cell_type": "code",
   "execution_count": 39,
   "metadata": {},
   "outputs": [
    {
     "name": "stdout",
     "output_type": "stream",
     "text": [
      "2765\n",
      "0.6330275229357798\n",
      "0.002 0.91 0.002 4 2\n"
     ]
    }
   ],
   "source": [
    "hero_df, win_df = create_vector(dpc, 26, 34)\n",
    "hero_test_df, win_test_df = create_vector(dpc, 35, 36)\n",
    "\n",
    "result_comb = []\n",
    "comb = []\n",
    "\n",
    "counter = 0\n",
    "maxP = 0\n",
    "maxPL = 0\n",
    "\n",
    "# for x in ['identity', 'logistic', 'tanh', 'relu']:\n",
    "for x in ['relu']:\n",
    "     for a in np.arange(0.001, 0.01, 0.001):\n",
    "        for b in np.arange(0.01, 1, 0.1):\n",
    "            for b2 in np.arange(0.001, 0.01, 0.001):\n",
    "                 for n in np.arange(1, 5):\n",
    "                    for l in np.arange(1, 5):\n",
    "                        clf = MLPClassifier(activation=x, solver='adam', alpha=a, hidden_layer_sizes=(n, l), \n",
    "                                            random_state=1, early_stopping=True, beta_1=b, beta_2=b2)\n",
    "                        clf.fit(hero_df, win_df.values.ravel())\n",
    "                        score = accuracy_score(clf.predict(hero_test_df), win_test_df)\n",
    "                        result_comb.append(score)\n",
    "                        comb.append(str(a) + \" \" + str(b) + \" \" + str(b2) + \" \" + str(n) + \" \" + str(l))\n",
    "                        if maxP < score:\n",
    "                            maxP = score\n",
    "                            maxPL = counter\n",
    "                        counter += 1\n",
    "print(maxPL)\n",
    "print(maxP)\n",
    "print(comb[maxPL])"
   ]
  },
  {
   "cell_type": "code",
   "execution_count": 47,
   "metadata": {},
   "outputs": [
    {
     "name": "stdout",
     "output_type": "stream",
     "text": [
      "2765\n",
      "0.6330275229357798\n",
      "0.002 0.91 0.002 4 2\n",
      "7085\n",
      "0.6330275229357798\n",
      "0.005 0.91 0.002 4 2\n"
     ]
    }
   ],
   "source": [
    "# clf = MLPClassifier(activation=x, solver='adam', alpha=a, hidden_layer_sizes=(n, l), \n",
    "#                     random_state=1, max_iter=200, beta_1=b, beta_2=b2, early_stopping=True)\n",
    "# clf.fit(hero_df, win_df.values.ravel())\n",
    "# result_comb.append(accuracy_score(clf.predict(hero_test_df), win_test_df))\n",
    "counter = 0\n",
    "maxP = 0\n",
    "maxPL = 0\n",
    "for x in result_comb:\n",
    "    if maxP < x:\n",
    "        maxP = x\n",
    "        maxPL = counter\n",
    "    counter += 1\n",
    "print(maxPL)\n",
    "print(maxP)\n",
    "print(comb[maxPL])\n",
    "\n",
    "for x in np.arange(7000, 8000):\n",
    "    if result_comb[x] > 0.63:\n",
    "        print(x)\n",
    "        print(result_comb[x])\n",
    "        print(comb[x])"
   ]
  },
  {
   "cell_type": "code",
   "execution_count": 40,
   "metadata": {},
   "outputs": [
    {
     "data": {
      "image/png": "[encoded data removed]",
      "text/plain": [
       "<Figure size 1440x720 with 1 Axes>"
      ]
     },
     "metadata": {
      "needs_background": "light"
     },
     "output_type": "display_data"
    }
   ],
   "source": [
    "plt.figure(figsize=(20, 10))\n",
    "plt.bar(np.arange(0, len(result_comb)), result_comb)\n",
    "plt.xlabel(\"Things\")\n",
    "plt.ylabel(\"Accuracy\")\n",
    "plt.show()"
   ]
  },
  {
   "cell_type": "code",
   "execution_count": 67,
   "metadata": {},
   "outputs": [
    {
     "data": {
      "text/plain": [
       "0.5625"
      ]
     },
     "execution_count": 67,
     "metadata": {},
     "output_type": "execute_result"
    }
   ],
   "source": [
    "hero_df, win_df = create_vector(dpc, 26, 27)\n",
    "hero_test_df, win_test_df = create_vector(dpc, 28, 28)\n",
    "\n",
    "clf = MLPClassifier(activation='relu', solver='adam', alpha=0.004, hidden_layer_sizes=(1, 2), \n",
    "                    random_state=1, early_stopping=True, beta_1=0.7, beta_2=0.002)\n",
    "clf.fit(hero_df, win_df.values.ravel())\n",
    "accuracy_score(clf.predict(hero_test_df), win_test_df)"
   ]
  },
  {
   "cell_type": "code",
   "execution_count": 32,
   "metadata": {},
   "outputs": [
    {
     "data": {
      "text/plain": [
       "0.75"
      ]
     },
     "execution_count": 32,
     "metadata": {},
     "output_type": "execute_result"
    }
   ],
   "source": [
    "# 0.003 0.8 0.003 2 3\n",
    "\n",
    "hero_df, win_df = create_vector(dpc, 33, 35)\n",
    "hero_test_df, win_test_df = create_vector(dpc, 36, 36)\n",
    "\n",
    "clf = MLPClassifier(activation='relu', solver='adam', alpha=0.003, hidden_layer_sizes=(2, 3), \n",
    "                    random_state=1, early_stopping=True, beta_1=0.8, beta_2=0.003)\n",
    "clf.fit(hero_df, win_df.values.ravel())\n",
    "accuracy_score(clf.predict(hero_test_df), win_test_df)"
   ]
  },
  {
   "cell_type": "code",
   "execution_count": 34,
   "metadata": {},
   "outputs": [
    {
     "data": {
      "text/plain": [
       "0.4411764705882353"
      ]
     },
     "execution_count": 34,
     "metadata": {},
     "output_type": "execute_result"
    }
   ],
   "source": [
    "hero_df, win_df = create_vector(dpc, 29, 31)\n",
    "hero_test_df, win_test_df = create_vector(dpc, 32, 32)\n",
    "\n",
    "clf = MLPClassifier(activation='relu', solver='adam', alpha=0.003, hidden_layer_sizes=(2, 3), \n",
    "                    random_state=1, early_stopping=True, beta_1=0.8, beta_2=0.003)\n",
    "clf.fit(hero_df, win_df.values.ravel())\n",
    "accuracy_score(clf.predict(hero_test_df), win_test_df)"
   ]
  },
  {
   "cell_type": "code",
   "execution_count": 35,
   "metadata": {},
   "outputs": [
    {
     "data": {
      "text/plain": [
       "0.671875"
      ]
     },
     "execution_count": 35,
     "metadata": {},
     "output_type": "execute_result"
    }
   ],
   "source": [
    "hero_df, win_df = create_vector(dpc, 26, 27)\n",
    "hero_test_df, win_test_df = create_vector(dpc, 28, 28)\n",
    "\n",
    "clf = MLPClassifier(activation='relu', solver='adam', alpha=0.003, hidden_layer_sizes=(2, 3), \n",
    "                    random_state=1, early_stopping=True, beta_1=0.8, beta_2=0.003)\n",
    "clf.fit(hero_df, win_df.values.ravel())\n",
    "accuracy_score(clf.predict(hero_test_df), win_test_df)"
   ]
  }
 ],
 "metadata": {
  "kernelspec": {
   "display_name": "Python 3",
   "language": "python",
   "name": "python3"
  },
  "language_info": {
   "codemirror_mode": {
    "name": "ipython",
    "version": 3
   },
   "file_extension": ".py",
   "mimetype": "text/x-python",
   "name": "python",
   "nbconvert_exporter": "python",
   "pygments_lexer": "ipython3",
   "version": "3.7.1"
  }
 },
 "nbformat": 4,
 "nbformat_minor": 2
}
