{
 "cells": [
  {
   "cell_type": "markdown",
   "metadata": {},
   "source": [
    "# Final Resource"
   ]
  },
  {
   "cell_type": "markdown",
   "metadata": {},
   "source": [
    "final resource as a RMarkdown webpage\n",
    "\n",
    "- The purpose of your topic is clearly captured in your resource\n",
    "- Quantitative questions are clearly and concisely explained with thoughtful text and compelling visuals\n",
    "- A nuanced understanding of the important features of the dataset and topic is demonstrated.\n",
    "- High-level insights (important descriptive information, major trends, notable outliers, etc.) should be prominent in your resource.\n",
    "- Methods and results of statistical approaches are clear\n",
    "- Your analysis should be easily reproducible using information in your GitHub repository\n",
    "- Remember to tailor your resource to a specific target audience. The amount of framing you need to do for a scientific versus general audience is quite different\n",
    "\n",
    "https://www.kaggle.com/pvkc8888/dota-2-pro-circuit-1718\n",
    "\n",
    "https://dota2.gamepedia.com/Game_Versions"
   ]
  },
  {
   "cell_type": "code",
   "execution_count": 7,
   "metadata": {},
   "outputs": [],
   "source": [
    "# Import packages\n",
    "import pandas as pd\n",
    "import numpy as np\n",
    "import statsmodels.formula.api as smf\n",
    "import matplotlib.pyplot as plt\n",
    "import math\n",
    "from sklearn import metrics\n",
    "from sklearn.neural_network import MLPClassifier\n",
    "from sklearn.metrics import accuracy_score\n",
    "from data_functions import *"
   ]
  },
  {
   "cell_type": "code",
   "execution_count": 3,
   "metadata": {},
   "outputs": [],
   "source": [
    "dpc = pd.read_json(\"data/DPC.json\").transpose()"
   ]
  },
  {
   "cell_type": "code",
   "execution_count": 4,
   "metadata": {},
   "outputs": [],
   "source": [
    "dpc.drop([\"all_word_counts\", \"barracks_status_dire\", \"barracks_status_radiant\", \"chat\", \"cluster\", \"comeback\", \n",
    "          \"cosmetics\", \"dire_score\", \"series_type\", \"skill\", \"stomp\", \"teamfights\", \"throw\", \"tower_status_dire\", \n",
    "          \"tower_status_radiant\", \"loss\", \"leagueid\", \"duration\", \"engine\", \"first_blood_time\", \"radiant_xp_adv\", \n",
    "          \"replay_url\", \"radiant_gold_adv\", \"positive_votes\", \"radiant_score\", \"negative_votes\", \n",
    "          \"objectives\", \"dire_team_id\", \"radiant_team_id\", \"human_players\", \"league\", \"lobby_type\", \n",
    "          \"draft_timings\", \"my_word_counts\", \"region\", \"replay_salt\", \"series_id\"], axis=1, inplace=True)\n",
    "dpc.drop([1], inplace=True)"
   ]
  },
  {
   "cell_type": "code",
   "execution_count": 118,
   "metadata": {},
   "outputs": [],
   "source": [
    "# (7.06, 7.07, 7.08, 7.09, 7.10, 7.11, 7.12, 7.13, 7.14, 7.15, 7.16, 7.16)\n",
    "# major patches\n",
    "# patch 7.07 to 7.09 (patch 26 to 28)\n",
    "# patch 7.10 to 7.13 (patch 29 to 32)\n",
    "# patch 7.14 to 7.16 (patch 33 to 36)\n",
    "\n",
    "# for data with picks and bans\n",
    "# for hero data https://github.com/kronusme/dota2-api/blob/master/data/heroes.json"
   ]
  },
  {
   "cell_type": "code",
   "execution_count": 119,
   "metadata": {
    "scrolled": true
   },
   "outputs": [],
   "source": [
    "# has radiant picks/bans, dire picks/bans, team_ids, radiant win(true/false)\n",
    "patch707_combined = create_pick_ban_both_teams(dpc, 26, 28)\n",
    "patch710_combined = create_pick_ban_both_teams(dpc, 29, 32)\n",
    "patch714_combined = create_pick_ban_both_teams(dpc, 33, 36)\n",
    "patchAll_combined = create_pick_ban_both_teams(dpc, 26, 36)"
   ]
  },
  {
   "cell_type": "code",
   "execution_count": null,
   "metadata": {},
   "outputs": [],
   "source": [
    "# has data for pick, ban, and win\n",
    "patch707_single = create_pick_ban_1_team(dpc, 26, 28)\n",
    "patch710_single = create_pick_ban_1_team(dpc, 29, 32)\n",
    "patch714_single = create_pick_ban_1_team(dpc, 33, 36)\n",
    "patchAll_single = create_pick_ban_1_team(dpc, 26, 36)"
   ]
  },
  {
   "cell_type": "code",
   "execution_count": null,
   "metadata": {},
   "outputs": [],
   "source": [
    "# has data for pick, ban, win, team_id\n",
    "patch707_pbt = create_pick_ban_team(dpc, 26, 28)\n",
    "patch710_pbt = create_pick_ban_team(dpc, 29, 32)\n",
    "patch714_pbt = create_pick_ban_team(dpc, 33, 36)\n",
    "patchAll_pbt = create_pick_ban_team(dpc, 26, 36)"
   ]
  },
  {
   "cell_type": "code",
   "execution_count": null,
   "metadata": {},
   "outputs": [],
   "source": [
    "# these are data with picks, team_id, and win (true, false)\n",
    "patch707_picks_team = create_picks_team(dpc, 26, 28)\n",
    "patch710_picks_team = create_picks_team(dpc, 29, 32)\n",
    "patch714_picks_team = create_picks_team(dpc, 33, 36)\n",
    "patchAll_picks_team = create_picks_team(dpc, 26, 36)"
   ]
  },
  {
   "cell_type": "code",
   "execution_count": 50,
   "metadata": {},
   "outputs": [],
   "source": [
    "# these are data with only picks and win (true,false)\n",
    "patch707_picks = create_picks(dpc, 26, 28)\n",
    "patch710_picks = create_picks(dpc, 29, 32)\n",
    "patch714_picks = create_picks(dpc, 33, 36)\n",
    "patchAll_picks = create_picks(dpc, 26, 36)"
   ]
  },
  {
   "cell_type": "markdown",
   "metadata": {},
   "source": [
    "# Below is only for testing on small subset of data"
   ]
  },
  {
   "cell_type": "code",
   "execution_count": 46,
   "metadata": {},
   "outputs": [],
   "source": [
    "from sklearn.neural_network import MLPClassifier\n",
    "from sklearn.metrics import accuracy_score\n",
    "from sklearn.utils import shuffle"
   ]
  },
  {
   "cell_type": "code",
   "execution_count": 8,
   "metadata": {
    "scrolled": true
   },
   "outputs": [],
   "source": [
    "# Does bans matter\n",
    "# Does Team ID matter\n",
    "# Only Picks\n",
    "# based off patch\n",
    "\n",
    "hero_df, win_df = create_vector(dpc, 26, 27)\n",
    "hero_test_df, win_test_df = create_vector(dpc, 28, 28)"
   ]
  },
  {
   "cell_type": "code",
   "execution_count": 37,
   "metadata": {},
   "outputs": [],
   "source": [
    "results = []\n",
    "comb = []\n",
    "\n",
    "layers = np.arange(0, 10)\n",
    "layers = layers[10:0:-1]\n",
    "for n in np.arange(1, 50):\n",
    "    for l in layers:\n",
    "        clf = MLPClassifier(solver='lbfgs', alpha=1e-5, hidden_layer_sizes=(n, l), random_state=1)\n",
    "        clf.fit(hero_df, win_df.values.ravel())\n",
    "\n",
    "        results.append(accuracy_score(clf.predict(hero_test_df), win_test_df))\n",
    "        comb.append(str(n) + \" \" + str(l))"
   ]
  },
  {
   "cell_type": "code",
   "execution_count": 43,
   "metadata": {},
   "outputs": [
    {
     "name": "stdout",
     "output_type": "stream",
     "text": [
      "71\n",
      "0.625\n",
      "8 1\n"
     ]
    },
    {
     "data": {
      "text/plain": [
       "441"
      ]
     },
     "execution_count": 43,
     "metadata": {},
     "output_type": "execute_result"
    }
   ],
   "source": [
    "counter = 0\n",
    "maxP = 0\n",
    "maxPL = 0\n",
    "for x in results:\n",
    "    if maxP < x:\n",
    "        maxP = x\n",
    "        maxPL = counter\n",
    "    counter += 1\n",
    "print(maxPL)\n",
    "print(maxP)\n",
    "print(comb[maxPL])\n",
    "\n",
    "len(results)"
   ]
  },
  {
   "cell_type": "code",
   "execution_count": 44,
   "metadata": {},
   "outputs": [
    {
     "data": {
      "image/png": "[encoded data removed]",
      "text/plain": [
       "<Figure size 1440x360 with 1 Axes>"
      ]
     },
     "metadata": {
      "needs_background": "light"
     },
     "output_type": "display_data"
    }
   ],
   "source": [
    "plt.figure(figsize=(20, 5))\n",
    "plt.bar(np.arange(0, 441), results)\n",
    "plt.xlabel(\"Number of Nodes in a Layer\")\n",
    "plt.ylabel(\"Accuracy\")\n",
    "plt.show()"
   ]
  },
  {
   "cell_type": "code",
   "execution_count": null,
   "metadata": {},
   "outputs": [],
   "source": [
    "def create_shuffle_vector(data, patch_range_low, patch_range_high):\n",
    "    \"\"\"\n",
    "    takes in data and range of patch numbers and returns \n",
    "    1st dataframe with both teams' picks, and bans\n",
    "    2nd datafram with if the team that had first pick won\n",
    "    \"\"\"\n",
    "    hero_df = pd.DataFrame()\n",
    "    win_df = pd.DataFrame()\n",
    "    \n",
    "    for i in data.index: \n",
    "        patch = data.at[i, 'patch']\n",
    "        game_mode = data.at[i, 'game_mode']\n",
    "        if patch >= patch_range_low and patch <= patch_range_high and game_mode == 2: \n",
    "            length = len(data.at[i, 'picks_bans'])\n",
    "            if  length == 22:\n",
    "                ban1 = data.at[i, \"picks_bans\"][0][\"hero_id\"]\n",
    "                ban6 = data.at[i, \"picks_bans\"][1][\"hero_id\"]\n",
    "                ban2 = data.at[i, \"picks_bans\"][2][\"hero_id\"]\n",
    "                ban7 = data.at[i, \"picks_bans\"][3][\"hero_id\"]\n",
    "                ban3 = data.at[i, \"picks_bans\"][4][\"hero_id\"]\n",
    "                ban8 = data.at[i, \"picks_bans\"][5][\"hero_id\"]\n",
    "\n",
    "                pick1 = data.at[i, \"picks_bans\"][6][\"hero_id\"]\n",
    "                pick6 = data.at[i, \"picks_bans\"][7][\"hero_id\"]\n",
    "                pick7 = data.at[i, \"picks_bans\"][8][\"hero_id\"]\n",
    "                pick2 = data.at[i, \"picks_bans\"][9][\"hero_id\"]\n",
    "\n",
    "                ban9 = data.at[i, \"picks_bans\"][10][\"hero_id\"]\n",
    "                ban4 = data.at[i, \"picks_bans\"][11][\"hero_id\"]\n",
    "                ban10 = data.at[i, \"picks_bans\"][12][\"hero_id\"]\n",
    "                ban5 = data.at[i, \"picks_bans\"][13][\"hero_id\"]\n",
    "\n",
    "                pick8 = data.at[i, \"picks_bans\"][14][\"hero_id\"]\n",
    "                pick3 = data.at[i, \"picks_bans\"][15][\"hero_id\"]\n",
    "                pick9 = data.at[i, \"picks_bans\"][16][\"hero_id\"]\n",
    "                pick4 = data.at[i, \"picks_bans\"][17][\"hero_id\"]  \n",
    "\n",
    "                ban11 = data.at[i, \"picks_bans\"][18][\"hero_id\"]\n",
    "                ban6 = data.at[i, \"picks_bans\"][19][\"hero_id\"]\n",
    "\n",
    "                pick5 = data.at[i, \"picks_bans\"][20][\"hero_id\"]\n",
    "                pick10 = data.at[i, \"picks_bans\"][21][\"hero_id\"] \n",
    "\n",
    "                radiantWin = data.at[i, \"radiant_win\"]\n",
    "                \n",
    "                team1 = pd.Series({\"pick_1\": pick1, \"pick_2\": pick2, \"pick_3\": pick3, \"pick_4\": pick4, \"pick_5\": pick5})\n",
    "                player1_hero = data.at[i, \"players\"][0][\"hero_id\"]\n",
    "                player1_first_pick = False\n",
    "                player1_radiant = data.at[i, \"players\"][0][\"isRadiant\"]\n",
    "                picks_bans = {}\n",
    "                \n",
    "                firstWin = data.at[i, 'radiant_win']\n",
    "                \n",
    "                hero_vector = np.zeros((4, 121))\n",
    "                \n",
    "                for hero in team1:\n",
    "                    if hero == player1_hero:\n",
    "                        player1_first_pick = True\n",
    "                if not player1_first_pick:\n",
    "                    firstWin = not data.at[i, 'radiant_win']\n",
    "\n",
    "                    \n",
    "                picks_bans = [pick1, pick2, pick3, pick4, pick5,\n",
    "                              ban1, ban2, ban3, ban4, ban5, ban6,\n",
    "                              pick6, pick7, pick8, pick9, pick10,\n",
    "                              ban6, ban7, ban8, ban9,  ban10, ban11] \n",
    "                \n",
    "                pick_b = True\n",
    "                for v_row in hero_vector:\n",
    "                    for pb in picks_bans:\n",
    "                        if pick_b:\n",
    "                            for i in np.arange(5):\n",
    "                                v_row[pb] = 1;\n",
    "                            pick_b = False\n",
    "                        else:\n",
    "                            for i in np.arange(6):\n",
    "                                v_row[pb] = 1;\n",
    "                            pick_b = True\n",
    "                \n",
    "                try:\n",
    "                    math.isnan(int(firstWin))\n",
    "                except TypeError:\n",
    "                    continue\n",
    "                \n",
    "                hero_vector = np.concatenate((hero_vector[0], hero_vector[1], hero_vector[2], hero_vector[3]), axis=None)\n",
    "                hero_df = hero_df.append(pd.Series(hero_vector), ignore_index=True)\n",
    "                \n",
    "                win_df = win_df.append(pd.Series(firstWin), ignore_index=True)\n",
    "\n",
    "    return hero_df, win_df"
   ]
  },
  {
   "cell_type": "code",
   "execution_count": 50,
   "metadata": {},
   "outputs": [
    {
     "name": "stdout",
     "output_type": "stream",
     "text": [
      "9\n",
      "9\n",
      "2 9\n",
      "[0.625, 0.625, 0.625, 0.625, 0.625, 0.625, 0.625, 0.625, 0.625, 0.625]\n"
     ]
    }
   ],
   "source": [
    "results_s = []\n",
    "comb_s = []\n",
    "counter = 0\n",
    "maxP = 0\n",
    "maxPL = 0\n",
    "\n",
    "for x in np.arange(0, 10):\n",
    "    dpc = shuffle(dpc, random_state=x)\n",
    "    hero_df, win_df = create_vector(dpc, 26, 27)\n",
    "    hero_test_df, win_test_df = create_vector(dpc, 28, 28)\n",
    "    clf = MLPClassifier(solver='lbfgs', alpha=1e-5, hidden_layer_sizes=(8, 1), random_state=1)\n",
    "    clf.fit(hero_df, win_df.values.ravel())\n",
    "\n",
    "    results_s.append(accuracy_score(clf.predict(hero_test_df), win_test_df))\n",
    "\n",
    "print(maxPL)\n",
    "print(maxP)\n",
    "print(comb[maxPL])\n",
    "\n",
    "print(results_s)"
   ]
  },
  {
   "cell_type": "code",
   "execution_count": 13,
   "metadata": {},
   "outputs": [
    {
     "data": {
      "image/png": "[encoded data removed]",
      "text/plain": [
       "<Figure size 1440x360 with 1 Axes>"
      ]
     },
     "metadata": {
      "needs_background": "light"
     },
     "output_type": "display_data"
    }
   ],
   "source": [
    "result_iter = []\n",
    "\n",
    "for x in np.arange(1, 100):\n",
    "    clf = MLPClassifier(solver='lbfgs', alpha=1e-5, hidden_layer_sizes=(10, 2), random_state=1, max_iter=x)\n",
    "    clf.fit(hero_df, win_df.values.ravel())\n",
    "\n",
    "    result_iter.append(accuracy_score(clf.predict(hero_test_df), win_test_df))\n",
    "\n",
    "plt.figure(figsize=(20, 5))\n",
    "plt.bar(np.arange(1, 100), result_iter)\n",
    "plt.xlabel(\"Number of Max Interations\")\n",
    "plt.ylabel(\"Accuracy\")\n",
    "plt.show()"
   ]
  },
  {
   "cell_type": "code",
   "execution_count": null,
   "metadata": {},
   "outputs": [],
   "source": []
  },
  {
   "cell_type": "code",
   "execution_count": 12,
   "metadata": {},
   "outputs": [
    {
     "name": "stdout",
     "output_type": "stream",
     "text": [
      "0.4375\n",
      "0.4375\n",
      "0.4375\n"
     ]
    }
   ],
   "source": [
    "clf = MLPClassifier(solver='lbfgs', alpha=1e-5, hidden_layer_sizes=(10, 2), random_state=1, early_stopping=True)\n",
    "clf.fit(hero_df, win_df.values.ravel())\n",
    "print(accuracy_score(clf.predict(hero_test_df), win_test_df))\n",
    "\n",
    "clf = MLPClassifier(solver='sgd', alpha=1e-5, hidden_layer_sizes=(10, 2), random_state=1, early_stopping=True)\n",
    "clf.fit(hero_df, win_df.values.ravel())\n",
    "print(accuracy_score(clf.predict(hero_test_df), win_test_df))\n",
    "\n",
    "clf = MLPClassifier(solver='adam', alpha=1e-5, hidden_layer_sizes=(10, 2), random_state=1, early_stopping=True)\n",
    "clf.fit(hero_df, win_df.values.ravel())\n",
    "print(accuracy_score(clf.predict(hero_test_df), win_test_df))"
   ]
  },
  {
   "cell_type": "code",
   "execution_count": 275,
   "metadata": {},
   "outputs": [
    {
     "data": {
      "image/png": "[encoded data removed]",
      "text/plain": [
       "<Figure size 1440x360 with 1 Axes>"
      ]
     },
     "metadata": {
      "needs_background": "light"
     },
     "output_type": "display_data"
    }
   ],
   "source": [
    "result_layer = []\n",
    "\n",
    "for x in np.arange(1, 20):\n",
    "    clf = MLPClassifier(solver='lbfgs', alpha=1e-5, hidden_layer_sizes=(10, x), random_state=1, max_iter=1000)\n",
    "    clf.fit(hero_df, win_df.values.ravel())\n",
    "\n",
    "    result_layer.append(accuracy_score(clf.predict(hero_test_df), win_test_df))\n",
    "\n",
    "plt.figure(figsize=(20, 5))\n",
    "plt.bar(np.arange(1, 20), result_layer)\n",
    "plt.xlabel(\"Number of Layers\")\n",
    "plt.ylabel(\"Accuracy\")\n",
    "plt.show()\n"
   ]
  },
  {
   "cell_type": "code",
   "execution_count": 39,
   "metadata": {},
   "outputs": [
    {
     "name": "stdout",
     "output_type": "stream",
     "text": [
      "2765\n",
      "0.6330275229357798\n",
      "0.002 0.91 0.002 4 2\n"
     ]
    }
   ],
   "source": [
    "hero_df, win_df = create_vector(dpc, 26, 34)\n",
    "hero_test_df, win_test_df = create_vector(dpc, 35, 36)\n",
    "\n",
    "result_comb = []\n",
    "comb = []\n",
    "\n",
    "counter = 0\n",
    "maxP = 0\n",
    "maxPL = 0\n",
    "\n",
    "# for x in ['identity', 'logistic', 'tanh', 'relu']:\n",
    "for x in ['relu']:\n",
    "     for a in np.arange(0.001, 0.01, 0.001):\n",
    "        for b in np.arange(0.01, 1, 0.1):\n",
    "            for b2 in np.arange(0.001, 0.01, 0.001):\n",
    "                 for n in np.arange(1, 5):\n",
    "                    for l in np.arange(1, 5):\n",
    "                        clf = MLPClassifier(activation=x, solver='adam', alpha=a, hidden_layer_sizes=(n, l), \n",
    "                                            random_state=1, early_stopping=True, beta_1=b, beta_2=b2)\n",
    "                        clf.fit(hero_df, win_df.values.ravel())\n",
    "                        score = accuracy_score(clf.predict(hero_test_df), win_test_df)\n",
    "                        result_comb.append(score)\n",
    "                        comb.append(str(a) + \" \" + str(b) + \" \" + str(b2) + \" \" + str(n) + \" \" + str(l))\n",
    "                        if maxP < score:\n",
    "                            maxP = score\n",
    "                            maxPL = counter\n",
    "                        counter += 1\n",
    "print(maxPL)\n",
    "print(maxP)\n",
    "print(comb[maxPL])"
   ]
  },
  {
   "cell_type": "code",
   "execution_count": 47,
   "metadata": {},
   "outputs": [
    {
     "name": "stdout",
     "output_type": "stream",
     "text": [
      "2765\n",
      "0.6330275229357798\n",
      "0.002 0.91 0.002 4 2\n",
      "7085\n",
      "0.6330275229357798\n",
      "0.005 0.91 0.002 4 2\n"
     ]
    }
   ],
   "source": [
    "# clf = MLPClassifier(activation=x, solver='adam', alpha=a, hidden_layer_sizes=(n, l), \n",
    "#                     random_state=1, max_iter=200, beta_1=b, beta_2=b2, early_stopping=True)\n",
    "# clf.fit(hero_df, win_df.values.ravel())\n",
    "# result_comb.append(accuracy_score(clf.predict(hero_test_df), win_test_df))\n",
    "counter = 0\n",
    "maxP = 0\n",
    "maxPL = 0\n",
    "for x in result_comb:\n",
    "    if maxP < x:\n",
    "        maxP = x\n",
    "        maxPL = counter\n",
    "    counter += 1\n",
    "print(maxPL)\n",
    "print(maxP)\n",
    "print(comb[maxPL])\n",
    "\n",
    "for x in np.arange(7000, 8000):\n",
    "    if result_comb[x] > 0.63:\n",
    "        print(x)\n",
    "        print(result_comb[x])\n",
    "        print(comb[x])"
   ]
  },
  {
   "cell_type": "code",
   "execution_count": 40,
   "metadata": {},
   "outputs": [
    {
     "data": {
      "image/png": "[encoded data removed]",
      "text/plain": [
       "<Figure size 1440x720 with 1 Axes>"
      ]
     },
     "metadata": {
      "needs_background": "light"
     },
     "output_type": "display_data"
    }
   ],
   "source": [
    "plt.figure(figsize=(20, 10))\n",
    "plt.bar(np.arange(0, len(result_comb)), result_comb)\n",
    "plt.xlabel(\"Things\")\n",
    "plt.ylabel(\"Accuracy\")\n",
    "plt.show()"
   ]
  },
  {
   "cell_type": "code",
   "execution_count": 67,
   "metadata": {},
   "outputs": [
    {
     "data": {
      "text/plain": [
       "0.5625"
      ]
     },
     "execution_count": 67,
     "metadata": {},
     "output_type": "execute_result"
    }
   ],
   "source": [
    "hero_df, win_df = create_vector(dpc, 26, 27)\n",
    "hero_test_df, win_test_df = create_vector(dpc, 28, 28)\n",
    "\n",
    "clf = MLPClassifier(activation='relu', solver='adam', alpha=0.004, hidden_layer_sizes=(1, 2), \n",
    "                    random_state=1, early_stopping=True, beta_1=0.7, beta_2=0.002)\n",
    "clf.fit(hero_df, win_df.values.ravel())\n",
    "accuracy_score(clf.predict(hero_test_df), win_test_df)"
   ]
  },
  {
   "cell_type": "code",
   "execution_count": 56,
   "metadata": {},
   "outputs": [
    {
     "data": {
      "text/plain": [
       "0.5045871559633027"
      ]
     },
     "execution_count": 56,
     "metadata": {},
     "output_type": "execute_result"
    }
   ],
   "source": [
    "# 0.003 0.8 0.003 2 3\n",
    "\n",
    "hero_df, win_df = create_vector(dpc, 33, 34)\n",
    "hero_test_df, win_test_df = create_vector(dpc, 35, 36)\n",
    "\n",
    "clf = MLPClassifier(activation='relu', solver='adam', alpha=0.003, hidden_layer_sizes=(2, 3), \n",
    "                    random_state=1, early_stopping=True, beta_1=0.8, beta_2=0.003)\n",
    "clf.fit(hero_df, win_df.values.ravel())\n",
    "accuracy_score(clf.predict(hero_test_df), win_test_df)"
   ]
  },
  {
   "cell_type": "code",
   "execution_count": 34,
   "metadata": {},
   "outputs": [
    {
     "data": {
      "text/plain": [
       "0.4411764705882353"
      ]
     },
     "execution_count": 34,
     "metadata": {},
     "output_type": "execute_result"
    }
   ],
   "source": [
    "hero_df, win_df = create_vector(dpc, 29, 31)\n",
    "hero_test_df, win_test_df = create_vector(dpc, 32, 32)\n",
    "\n",
    "clf = MLPClassifier(activation='relu', solver='adam', alpha=0.003, hidden_layer_sizes=(2, 3), \n",
    "                    random_state=1, early_stopping=True, beta_1=0.8, beta_2=0.003)\n",
    "clf.fit(hero_df, win_df.values.ravel())\n",
    "accuracy_score(clf.predict(hero_test_df), win_test_df)"
   ]
  },
  {
   "cell_type": "code",
   "execution_count": 35,
   "metadata": {},
   "outputs": [
    {
     "data": {
      "text/plain": [
       "0.671875"
      ]
     },
     "execution_count": 35,
     "metadata": {},
     "output_type": "execute_result"
    }
   ],
   "source": [
    "hero_df, win_df = create_vector(dpc, 26, 27)\n",
    "hero_test_df, win_test_df = create_vector(dpc, 28, 28)\n",
    "\n",
    "clf = MLPClassifier(activation='relu', solver='adam', alpha=0.003, hidden_layer_sizes=(2, 3), \n",
    "                    random_state=1, early_stopping=True, beta_1=0.8, beta_2=0.003)\n",
    "clf.fit(hero_df, win_df.values.ravel())\n",
    "accuracy_score(clf.predict(hero_test_df), win_test_df)"
   ]
  }
 ],
 "metadata": {
  "kernelspec": {
   "display_name": "Python 3",
   "language": "python",
   "name": "python3"
  },
  "language_info": {
   "codemirror_mode": {
    "name": "ipython",
    "version": 3
   },
   "file_extension": ".py",
   "mimetype": "text/x-python",
   "name": "python",
   "nbconvert_exporter": "python",
   "pygments_lexer": "ipython3",
   "version": "3.7.1"
  }
 },
 "nbformat": 4,
 "nbformat_minor": 2
}
