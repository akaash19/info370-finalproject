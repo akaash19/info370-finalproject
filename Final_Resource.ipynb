{
 "cells": [
  {
   "cell_type": "markdown",
   "metadata": {},
   "source": [
    "# Final Resource"
   ]
  },
  {
   "cell_type": "markdown",
   "metadata": {},
   "source": [
    "final resource as a RMarkdown webpage\n",
    "\n",
    "- The purpose of your topic is clearly captured in your resource\n",
    "- Quantitative questions are clearly and concisely explained with thoughtful text and compelling visuals\n",
    "- A nuanced understanding of the important features of the dataset and topic is demonstrated.\n",
    "- High-level insights (important descriptive information, major trends, notable outliers, etc.) should be prominent in your resource.\n",
    "- Methods and results of statistical approaches are clear\n",
    "- Your analysis should be easily reproducible using information in your GitHub repository\n",
    "- Remember to tailor your resource to a specific target audience. The amount of framing you need to do for a scientific versus general audience is quite different"
   ]
  },
  {
   "cell_type": "code",
   "execution_count": null,
   "metadata": {},
   "outputs": [],
   "source": []
  }
 ],
 "metadata": {
  "kernelspec": {
   "display_name": "Python 3",
   "language": "python",
   "name": "python3"
  },
  "language_info": {
   "codemirror_mode": {
    "name": "ipython",
    "version": 3
   },
   "file_extension": ".py",
   "mimetype": "text/x-python",
   "name": "python",
   "nbconvert_exporter": "python",
   "pygments_lexer": "ipython3",
   "version": "3.7.1"
  }
 },
 "nbformat": 4,
 "nbformat_minor": 2
}
