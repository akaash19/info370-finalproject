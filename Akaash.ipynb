{
 "cells": [
  {
   "cell_type": "code",
   "execution_count": 1,
   "metadata": {},
   "outputs": [],
   "source": [
    "# Import packages\n",
    "import pandas as pd\n",
    "import numpy as np\n",
    "import statsmodels.formula.api as smf\n",
    "import matplotlib.pyplot as plt\n",
    "from sklearn import metrics"
   ]
  },
  {
   "cell_type": "code",
   "execution_count": 2,
   "metadata": {},
   "outputs": [],
   "source": [
    "dpc = pd.read_json(\"data/DPC.json\").transpose()"
   ]
  },
  {
   "cell_type": "code",
   "execution_count": 3,
   "metadata": {},
   "outputs": [],
   "source": [
    "dpc.drop([\"all_word_counts\", \"barracks_status_dire\", \"barracks_status_radiant\", \"chat\", \"cluster\", \"comeback\", \n",
    "          \"cosmetics\", \"dire_score\", \"series_type\", \"skill\", \"stomp\", \"teamfights\", \"throw\", \"tower_status_dire\", \n",
    "          \"tower_status_radiant\", \"loss\", \"leagueid\", \"duration\", \"engine\", \"first_blood_time\", \"radiant_xp_adv\", \n",
    "          \"replay_url\", \"radiant_gold_adv\", \"positive_votes\", \"radiant_score\", \"negative_votes\", \n",
    "          \"objectives\", \"dire_team_id\", \"radiant_team_id\", \"human_players\", \"league\", \"lobby_type\", \n",
    "          \"draft_timings\", \"my_word_counts\", \"region\", \"replay_salt\", \"series_id\"], axis=1, inplace=True)\n",
    "dpc.drop([1], inplace=True)"
   ]
  },
  {
   "cell_type": "code",
   "execution_count": 4,
   "metadata": {},
   "outputs": [],
   "source": [
    "# function that takes in range of patch number\n",
    "# and returns dataframe with 1 team's picks and bans,\n",
    "# and if the team won the match\n",
    "def create_pick_ban_1_team(patch_range_low, patch_range_high):\n",
    "    dpc_df = pd.DataFrame(columns=[\"pick_1\", \"pick_2\", \"pick_3\", \"pick_4\", \"pick_5\",\n",
    "                                 \"ban_1\", \"ban_2\", \"ban_3\", \"ban_4\", \"ban_5\", \"ban_6\",\n",
    "                                 \"win\"])\n",
    "    for i in dpc.index:\n",
    "        patch = dpc.at[i, 'patch']\n",
    "        game_mode = dpc.at[i, 'game_mode']\n",
    "        if patch >= patch_range_low and patch <= patch_range_high and game_mode == 2: \n",
    "            length = len(dpc.at[i, 'picks_bans'])\n",
    "            if  length == 22:\n",
    "                ban1 = dpc.at[i, 'picks_bans'][0][\"hero_id\"]\n",
    "                ban6 = dpc.at[i, 'picks_bans'][1][\"hero_id\"]\n",
    "                ban2 = dpc.at[i, 'picks_bans'][2][\"hero_id\"]\n",
    "                ban7 = dpc.at[i, 'picks_bans'][3][\"hero_id\"]\n",
    "                ban3 = dpc.at[i, 'picks_bans'][4][\"hero_id\"]\n",
    "                ban8 = dpc.at[i, 'picks_bans'][5][\"hero_id\"]\n",
    "\n",
    "                pick1 = dpc.at[i, 'picks_bans'][6][\"hero_id\"]\n",
    "                pick6 = dpc.at[i, 'picks_bans'][7][\"hero_id\"]\n",
    "                pick7 = dpc.at[i, 'picks_bans'][8][\"hero_id\"]\n",
    "                pick2 = dpc.at[i, 'picks_bans'][9][\"hero_id\"]\n",
    "\n",
    "                ban9 = dpc.at[i, 'picks_bans'][10][\"hero_id\"]\n",
    "                ban4 = dpc.at[i, 'picks_bans'][11][\"hero_id\"]\n",
    "                ban10 = dpc.at[i, 'picks_bans'][12][\"hero_id\"]\n",
    "                ban5 = dpc.at[i, 'picks_bans'][13][\"hero_id\"]\n",
    "\n",
    "                pick8 = dpc.at[i, 'picks_bans'][14][\"hero_id\"]\n",
    "                pick3 = dpc.at[i, 'picks_bans'][15][\"hero_id\"]\n",
    "                pick9 = dpc.at[i, 'picks_bans'][16][\"hero_id\"]\n",
    "                pick4 = dpc.at[i, 'picks_bans'][17][\"hero_id\"]  \n",
    "\n",
    "                ban11 = dpc.at[i, 'picks_bans'][18][\"hero_id\"]\n",
    "                ban6 = dpc.at[i, 'picks_bans'][19][\"hero_id\"]\n",
    "\n",
    "                pick5 = dpc.at[i, 'picks_bans'][20][\"hero_id\"]\n",
    "                pick10 = dpc.at[i, 'picks_bans'][21][\"hero_id\"] \n",
    "\n",
    "                firstWin = True\n",
    "                secondWin = False\n",
    "\n",
    "                team1 = pd.Series({\"pick_1\": pick1, \"pick_2\": pick2, \"pick_3\": pick3, \"pick_4\": pick4, \"pick_5\": pick5})\n",
    "                player1_hero = dpc.at[i, \"players\"][0][\"hero_id\"]\n",
    "                player1_first_pick = False\n",
    "                player1_radiant = dpc.at[i, \"players\"][0][\"isRadiant\"]\n",
    "\n",
    "                for hero in team1:\n",
    "                    if hero == player1_hero:\n",
    "                        player1_first_pick = True\n",
    "                        # this is ran when player1's team has first pick and is radiant\n",
    "                        if player1_radiant:\n",
    "                            firstWin = dpc.at[i, 'radiant_win']\n",
    "                            secondWin = not dpc.at[i, 'radiant_win']\n",
    "\n",
    "                if not player1_first_pick:\n",
    "                    # print(str(dpc.at[i, \"players\"][0][\"name\"]) + \" has 2nd pick and is radiant\")\n",
    "                    secondWin = dpc.at[i, 'radiant_win']\n",
    "                    firstWin = not dpc.at[i, 'radiant_win']\n",
    "\n",
    "                dpc_df = dpc_df.append({\"pick_1\": pick1, \n",
    "                                         \"pick_2\": pick2, \n",
    "                                         \"pick_3\": pick3, \n",
    "                                         \"pick_4\": pick4, \n",
    "                                         \"pick_5\": pick5,\n",
    "                                         \"ban_1\": ban1, \n",
    "                                         \"ban_2\": ban2, \n",
    "                                         \"ban_3\": ban3, \n",
    "                                         \"ban_4\": ban4, \n",
    "                                         \"ban_5\": ban5,\n",
    "                                         \"ban_6\": ban6,\n",
    "                                         \"win\": firstWin}, ignore_index=True)\n",
    "                dpc_df = dpc_df.append({\"pick_1\": pick6, \n",
    "                                         \"pick_2\": pick7, \n",
    "                                         \"pick_3\": pick8, \n",
    "                                         \"pick_4\": pick9, \n",
    "                                         \"pick_5\": pick10,\n",
    "                                         \"ban_1\": ban6, \n",
    "                                         \"ban_2\": ban7, \n",
    "                                         \"ban_3\": ban8, \n",
    "                                         \"ban_4\": ban9, \n",
    "                                         \"ban_5\": ban10,\n",
    "                                         \"ban_6\": ban11,\n",
    "                                         \"win\": secondWin}, ignore_index=True)\n",
    "    return dpc_df"
   ]
  },
  {
   "cell_type": "code",
   "execution_count": 5,
   "metadata": {},
   "outputs": [],
   "source": [
    "# major patches\n",
    "# patch 7.07 to 7.09 (patch 26 to 28)\n",
    "# patch 7.10 to 7.13 (patch 29 to 32)\n",
    "# patch 7.14 to 7.16 (patch 33 to 36)\n",
    "\n",
    "# has data for pick, ban, and win\n",
    "patch707_single = create_pick_ban_1_team(26, 28)\n",
    "patch710_single = create_pick_ban_1_team(29, 32)\n",
    "patch714_single = create_pick_ban_1_team(33, 36)\n",
    "patchAll_single = create_pick_ban_1_team(26, 36)"
   ]
  },
  {
   "cell_type": "code",
   "execution_count": null,
   "metadata": {},
   "outputs": [],
   "source": []
  },
  {
   "cell_type": "code",
   "execution_count": 6,
   "metadata": {},
   "outputs": [
    {
     "data": {
      "text/plain": [
       "(748, 12)"
      ]
     },
     "execution_count": 6,
     "metadata": {},
     "output_type": "execute_result"
    }
   ],
   "source": [
    "patch714_single.shape"
   ]
  },
  {
   "cell_type": "code",
   "execution_count": 7,
   "metadata": {},
   "outputs": [
    {
     "data": {
      "text/plain": [
       "(1998, 12)"
      ]
     },
     "execution_count": 7,
     "metadata": {},
     "output_type": "execute_result"
    }
   ],
   "source": [
    "patchAll_single.shape"
   ]
  },
  {
   "cell_type": "code",
   "execution_count": 8,
   "metadata": {},
   "outputs": [
    {
     "data": {
      "text/plain": [
       "(512, 12)"
      ]
     },
     "execution_count": 8,
     "metadata": {},
     "output_type": "execute_result"
    }
   ],
   "source": [
    "patch710_single.shape"
   ]
  },
  {
   "cell_type": "code",
   "execution_count": 9,
   "metadata": {},
   "outputs": [
    {
     "data": {
      "text/plain": [
       "(738, 12)"
      ]
     },
     "execution_count": 9,
     "metadata": {},
     "output_type": "execute_result"
    }
   ],
   "source": [
    "patch707_single.shape"
   ]
  },
  {
   "cell_type": "code",
   "execution_count": 10,
   "metadata": {},
   "outputs": [],
   "source": [
    "# function that takes in range of patch number\n",
    "# and returns dataframe with radiant picks, dire picks, radiant/dire team ids,\n",
    "# and if radiant won the match\n",
    "def create_pick_ban_both_teams(patch_range_low, patch_range_high):\n",
    "    dpc_df = pd.DataFrame(columns=[\"r_pick_1\", \"r_pick_2\", \"r_pick_3\", \"r_pick_4\", \"r_pick_5\",\n",
    "                                     \"r_ban_1\", \"r_ban_2\", \"r_ban_3\", \"r_ban_4\", \"r_ban_5\", \"r_ban_6\",\n",
    "                                     \"d_pick_1\", \"d_pick_2\", \"d_pick_3\", \"d_pick_4\", \"d_pick_5\",\n",
    "                                     \"d_ban_1\", \"d_ban_2\", \"d_ban_3\", \"d_ban_4\", \"d_ban_5\", \"d_ban_6\",\n",
    "                                     \"radiantWin\", \"radiant\", \"dire\"])\n",
    "    for i in dpc.index: \n",
    "        patch = dpc.at[i, 'patch']\n",
    "        game_mode = dpc.at[i, 'game_mode']\n",
    "        if patch >= patch_range_low and patch <= patch_range_high and game_mode == 2: \n",
    "            length = len(dpc.at[i, 'picks_bans'])\n",
    "            if  length == 22:\n",
    "                ban1 = dpc.at[i, \"picks_bans\"][0][\"hero_id\"]\n",
    "                ban6 = dpc.at[i, \"picks_bans\"][1][\"hero_id\"]\n",
    "                ban2 = dpc.at[i, \"picks_bans\"][2][\"hero_id\"]\n",
    "                ban7 = dpc.at[i, \"picks_bans\"][3][\"hero_id\"]\n",
    "                ban3 = dpc.at[i, \"picks_bans\"][4][\"hero_id\"]\n",
    "                ban8 = dpc.at[i, \"picks_bans\"][5][\"hero_id\"]\n",
    "\n",
    "                pick1 = dpc.at[i, \"picks_bans\"][6][\"hero_id\"]\n",
    "                pick6 = dpc.at[i, \"picks_bans\"][7][\"hero_id\"]\n",
    "                pick7 = dpc.at[i, \"picks_bans\"][8][\"hero_id\"]\n",
    "                pick2 = dpc.at[i, \"picks_bans\"][9][\"hero_id\"]\n",
    "\n",
    "                ban9 = dpc.at[i, \"picks_bans\"][10][\"hero_id\"]\n",
    "                ban4 = dpc.at[i, \"picks_bans\"][11][\"hero_id\"]\n",
    "                ban10 = dpc.at[i, \"picks_bans\"][12][\"hero_id\"]\n",
    "                ban5 = dpc.at[i, \"picks_bans\"][13][\"hero_id\"]\n",
    "\n",
    "                pick8 = dpc.at[i, \"picks_bans\"][14][\"hero_id\"]\n",
    "                pick3 = dpc.at[i, \"picks_bans\"][15][\"hero_id\"]\n",
    "                pick9 = dpc.at[i, \"picks_bans\"][16][\"hero_id\"]\n",
    "                pick4 = dpc.at[i, \"picks_bans\"][17][\"hero_id\"]  \n",
    "\n",
    "                ban11 = dpc.at[i, \"picks_bans\"][18][\"hero_id\"]\n",
    "                ban6 = dpc.at[i, \"picks_bans\"][19][\"hero_id\"]\n",
    "\n",
    "                pick5 = dpc.at[i, \"picks_bans\"][20][\"hero_id\"]\n",
    "                pick10 = dpc.at[i, \"picks_bans\"][21][\"hero_id\"] \n",
    "\n",
    "                radiantWin = dpc.at[i, \"radiant_win\"]\n",
    "                \n",
    "                try:\n",
    "                    team1_id = dpc.at[i, \"radiant_team\"][\"team_id\"]\n",
    "                    team2_id = dpc.at[i, \"dire_team\"][\"team_id\"]\n",
    "                except TypeError:\n",
    "                    continue\n",
    "                    \n",
    "                team1 = pd.Series({\"pick_1\": pick1, \"pick_2\": pick2, \"pick_3\": pick3, \"pick_4\": pick4, \"pick_5\": pick5})\n",
    "                player1_hero = dpc.at[i, \"players\"][0][\"hero_id\"]\n",
    "                player1_first_pick = False\n",
    "                player1_radiant = dpc.at[i, \"players\"][0][\"isRadiant\"]\n",
    "                picks_bans = {}\n",
    "\n",
    "                for hero in team1:\n",
    "                    if hero == player1_hero:\n",
    "                        player1_first_pick = True\n",
    "                        # this is ran when player1's team has first pick and is radiant\n",
    "                        if player1_radiant:\n",
    "                            # print(str(dpc.at[i, \"players\"][0][\"name\"]) + \" has 1st pick and is radiant\")\n",
    "                            picks_bans = {\"r_pick_1\": pick1, \"r_pick_2\": pick2, \"r_pick_3\": pick3, \n",
    "                                            \"r_pick_4\": pick4, \"r_pick_5\": pick5,\n",
    "                                            \"r_ban_1\": ban1, \"r_ban_2\": ban2, \"r_ban_3\": ban3, \n",
    "                                            \"r_ban_4\": ban4, \"r_ban_5\": ban5, \"r_ban_6\": ban6,\n",
    "                                            \"d_pick_1\": pick6, \"d_pick_2\": pick7, \"d_pick_3\": pick8, \n",
    "                                            \"d_pick_4\": pick9, \"d_pick_5\": pick10,\n",
    "                                            \"d_ban_1\": ban6, \"d_ban_2\": ban7, \"d_ban_3\": ban8, \n",
    "                                            \"d_ban_4\": ban9, \"d_ban_5\": ban10, \"d_ban_6\": ban11}\n",
    "\n",
    "                if not player1_first_pick:\n",
    "                        # print(str(dpc.at[i, \"players\"][0][\"name\"]) + \" has 2nd pick and is radiant\")\n",
    "                        picks_bans = {\"r_pick_1\": pick6, \"r_pick_2\": pick7, \"r_pick_3\": pick8, \n",
    "                                        \"r_pick_4\": pick9, \"r_pick_5\": pick10,\n",
    "                                        \"r_ban_1\": ban6, \"r_ban_2\": ban7, \"r_ban_3\": ban8, \n",
    "                                        \"r_ban_4\": ban9, \"r_ban_5\": ban10, \"r_ban_6\": ban11,\n",
    "                                        \"d_pick_1\": pick1, \"d_pick_2\": pick2, \"d_pick_3\": pick3, \n",
    "                                        \"d_pick_4\": pick4, \"d_pick_5\": pick5,\n",
    "                                        \"d_ban_1\": ban1, \"d_ban_2\": ban2, \"d_ban_3\": ban3, \n",
    "                                        \"d_ban_4\": ban4, \"d_ban_5\": ban5, \"d_ban_6\": ban6}        \n",
    "\n",
    "                picks_bans.update({\"radiantWin\": radiantWin,\n",
    "                                 \"radiant\": team1_id,\n",
    "                                 \"dire\": team2_id})\n",
    "\n",
    "                row = pd.Series(picks_bans)\n",
    "\n",
    "                dpc_df = dpc_df.append(row, ignore_index=True)\n",
    "    return dpc_df"
   ]
  },
  {
   "cell_type": "code",
   "execution_count": 11,
   "metadata": {},
   "outputs": [],
   "source": [
    "# major patches\n",
    "# patch 7.07 to 7.09 (patch 26 to 28)\n",
    "# patch 7.10 to 7.13 (patch 29 to 32)\n",
    "# patch 7.14 to 7.16 (patch 33 to 36)\n",
    "\n",
    "# has radiant picks/bans, dire picks/bans, team_ids, radiant win(true/false)\n",
    "patch707_combined = create_pick_ban_both_teams(26, 28)\n",
    "patch710_combined = create_pick_ban_both_teams(29, 32)\n",
    "patch714_combined = create_pick_ban_both_teams(33, 36)\n",
    "patchAll_combined = create_pick_ban_both_teams(26, 36)"
   ]
  },
  {
   "cell_type": "code",
   "execution_count": 12,
   "metadata": {},
   "outputs": [],
   "source": [
    "def create_picks_team(patch_range_low, patch_range_high):\n",
    "    dpc_df = pd.DataFrame(columns=[\"pick_1\", \"pick_2\", \"pick_3\", \"pick_4\", \"pick_5\",\n",
    "                                 \"win\", \"team\"])\n",
    "    for i in dpc.index: \n",
    "        patch = dpc.at[i, 'patch']\n",
    "        game_mode = dpc.at[i, 'game_mode']\n",
    "        if patch >= patch_range_low and patch <= patch_range_high and game_mode == 2: \n",
    "            length = len(dpc.at[i, 'picks_bans'])\n",
    "            if  length == 22:\n",
    "                pick1 = dpc.at[i, \"picks_bans\"][6][\"hero_id\"]\n",
    "                pick6 = dpc.at[i, \"picks_bans\"][7][\"hero_id\"]\n",
    "                pick7 = dpc.at[i, \"picks_bans\"][8][\"hero_id\"]\n",
    "                pick2 = dpc.at[i, \"picks_bans\"][9][\"hero_id\"]\n",
    "\n",
    "                pick8 = dpc.at[i, \"picks_bans\"][14][\"hero_id\"]\n",
    "                pick3 = dpc.at[i, \"picks_bans\"][15][\"hero_id\"]\n",
    "                pick9 = dpc.at[i, \"picks_bans\"][16][\"hero_id\"]\n",
    "                pick4 = dpc.at[i, \"picks_bans\"][17][\"hero_id\"]  \n",
    "\n",
    "                pick5 = dpc.at[i, \"picks_bans\"][20][\"hero_id\"]\n",
    "                pick10 = dpc.at[i, \"picks_bans\"][21][\"hero_id\"] \n",
    "\n",
    "                firstWin = True\n",
    "                secondWin = False\n",
    "                try:\n",
    "                    team1_id = dpc.at[i, \"radiant_team\"][\"team_id\"]\n",
    "                except TypeError:\n",
    "                    continue\n",
    "                team2_id = dpc.at[i, \"dire_team\"][\"team_id\"]\n",
    "                \n",
    "                team1 = pd.Series({\"pick_1\": pick1, \"pick_2\": pick2, \"pick_3\": pick3, \"pick_4\": pick4, \"pick_5\": pick5})\n",
    "                player1_hero = dpc.at[i, \"players\"][0][\"hero_id\"]\n",
    "                player1_first_pick = False\n",
    "                player1_radiant = dpc.at[i, \"players\"][0][\"isRadiant\"]\n",
    "\n",
    "                for hero in team1:\n",
    "                    if hero == player1_hero:\n",
    "                        player1_first_pick = True\n",
    "                        # this is ran when player1's team has first pick and is radiant\n",
    "                        if player1_radiant:\n",
    "                            firstWin = dpc.at[i, 'radiant_win']\n",
    "                            secondWin = not dpc.at[i, 'radiant_win']\n",
    "\n",
    "                if not player1_first_pick:\n",
    "                    # print(str(dpc.at[i, \"players\"][0][\"name\"]) + \" has 2nd pick and is radiant\")\n",
    "                    secondWin = dpc.at[i, 'radiant_win']\n",
    "                    firstWin = not dpc.at[i, 'radiant_win']\n",
    "                    team1_id = dpc.at[i, \"dire_team\"][\"team_id\"]\n",
    "                    team2_id = dpc.at[i, \"radiant_team\"][\"team_id\"]\n",
    "\n",
    "                dpc_df = dpc_df.append({\"pick_1\": pick1, \n",
    "                                         \"pick_2\": pick2, \n",
    "                                         \"pick_3\": pick3, \n",
    "                                         \"pick_4\": pick4, \n",
    "                                         \"pick_5\": pick5,\n",
    "                                         \"win\": firstWin,\n",
    "                                         \"team\": team1_id}, ignore_index=True)\n",
    "                dpc_df = dpc_df.append({\"pick_1\": pick6, \n",
    "                                         \"pick_2\": pick7, \n",
    "                                         \"pick_3\": pick8, \n",
    "                                         \"pick_4\": pick9, \n",
    "                                         \"pick_5\": pick10,\n",
    "                                         \"win\": secondWin,\n",
    "                                         \"team\": team2_id}, ignore_index=True)\n",
    "    return dpc_df"
   ]
  },
  {
   "cell_type": "code",
   "execution_count": 13,
   "metadata": {},
   "outputs": [],
   "source": [
    "# major patches\n",
    "# patch 7.07 to 7.09 (patch 26 to 28)\n",
    "# patch 7.10 to 7.13 (patch 29 to 32)\n",
    "# patch 7.14 to 7.16 (patch 33 to 36)\n",
    "\n",
    "# these are data with picks, team_id, and win (true, false)\n",
    "patch707_picks_team = create_picks_team(26, 28)\n",
    "patch710_picks_team = create_picks_team(29, 32)\n",
    "patch714_picks_team = create_picks_team(33, 36)\n",
    "patchAll_picks_team = create_picks_team(26, 36)"
   ]
  },
  {
   "cell_type": "code",
   "execution_count": null,
   "metadata": {},
   "outputs": [],
   "source": []
  },
  {
   "cell_type": "code",
   "execution_count": null,
   "metadata": {},
   "outputs": [],
   "source": []
  },
  {
   "cell_type": "code",
   "execution_count": 14,
   "metadata": {},
   "outputs": [],
   "source": [
    "def create_picks(patch_range_low, patch_range_high):\n",
    "    dpc_df = pd.DataFrame(columns=[\"pick_1\", \"pick_2\", \"pick_3\", \"pick_4\", \"pick_5\",\n",
    "                                 \"win\"])\n",
    "    for i in dpc.index: \n",
    "        patch = dpc.at[i, 'patch']\n",
    "        game_mode = dpc.at[i, 'game_mode']\n",
    "        if patch >= patch_range_low and patch <= patch_range_high and game_mode == 2: \n",
    "            length = len(dpc.at[i, 'picks_bans'])\n",
    "            if  length == 22:\n",
    "                pick1 = dpc.at[i, \"picks_bans\"][6][\"hero_id\"]\n",
    "                pick6 = dpc.at[i, \"picks_bans\"][7][\"hero_id\"]\n",
    "                pick7 = dpc.at[i, \"picks_bans\"][8][\"hero_id\"]\n",
    "                pick2 = dpc.at[i, \"picks_bans\"][9][\"hero_id\"]\n",
    "\n",
    "                pick8 = dpc.at[i, \"picks_bans\"][14][\"hero_id\"]\n",
    "                pick3 = dpc.at[i, \"picks_bans\"][15][\"hero_id\"]\n",
    "                pick9 = dpc.at[i, \"picks_bans\"][16][\"hero_id\"]\n",
    "                pick4 = dpc.at[i, \"picks_bans\"][17][\"hero_id\"]  \n",
    "\n",
    "                pick5 = dpc.at[i, \"picks_bans\"][20][\"hero_id\"]\n",
    "                pick10 = dpc.at[i, \"picks_bans\"][21][\"hero_id\"] \n",
    "\n",
    "                firstWin = True\n",
    "                secondWin = False\n",
    "\n",
    "                team1 = pd.Series({\"pick_1\": pick1, \"pick_2\": pick2, \"pick_3\": pick3, \"pick_4\": pick4, \"pick_5\": pick5})\n",
    "                player1_hero = dpc.at[i, \"players\"][0][\"hero_id\"]\n",
    "                player1_first_pick = False\n",
    "                player1_radiant = dpc.at[i, \"players\"][0][\"isRadiant\"]\n",
    "\n",
    "                for hero in team1:\n",
    "                    if hero == player1_hero:\n",
    "                        player1_first_pick = True\n",
    "                        # this is ran when player1's team has first pick and is radiant\n",
    "                        if player1_radiant:\n",
    "                            firstWin = dpc.at[i, 'radiant_win']\n",
    "                            secondWin = not dpc.at[i, 'radiant_win']\n",
    "\n",
    "                if not player1_first_pick:\n",
    "                    # print(str(dpc.at[i, \"players\"][0][\"name\"]) + \" has 2nd pick and is radiant\")\n",
    "                    secondWin = dpc.at[i, 'radiant_win']\n",
    "                    firstWin = not dpc.at[i, 'radiant_win']\n",
    "\n",
    "                dpc_df = dpc_df.append({\"pick_1\": pick1, \n",
    "                                         \"pick_2\": pick2, \n",
    "                                         \"pick_3\": pick3, \n",
    "                                         \"pick_4\": pick4, \n",
    "                                         \"pick_5\": pick5,\n",
    "                                         \"win\": firstWin}, ignore_index=True)\n",
    "                dpc_df = dpc_df.append({\"pick_1\": pick6, \n",
    "                                         \"pick_2\": pick7, \n",
    "                                         \"pick_3\": pick8, \n",
    "                                         \"pick_4\": pick9, \n",
    "                                         \"pick_5\": pick10,\n",
    "                                         \"win\": secondWin}, ignore_index=True)\n",
    "    return dpc_df"
   ]
  },
  {
   "cell_type": "code",
   "execution_count": 15,
   "metadata": {},
   "outputs": [],
   "source": [
    "# major patches\n",
    "# patch 7.07 to 7.09 (patch 26 to 28)\n",
    "# patch 7.10 to 7.13 (patch 29 to 32)\n",
    "# patch 7.14 to 7.16 (patch 33 to 36)\n",
    "\n",
    "# these are data with only picks and win (true,false)\n",
    "patch707_picks = create_picks(26, 28)\n",
    "patch710_picks = create_picks(29, 32)\n",
    "patch714_picks = create_picks(33, 36)\n",
    "patchAll_picks = create_picks(26, 36)"
   ]
  },
  {
   "cell_type": "code",
   "execution_count": null,
   "metadata": {},
   "outputs": [],
   "source": []
  },
  {
   "cell_type": "code",
   "execution_count": 16,
   "metadata": {},
   "outputs": [],
   "source": [
    "# function that takes in range of patch number\n",
    "# and returns dataframe with 1 team's picks and bans,\n",
    "# if the team won the match, and team_id\n",
    "def create_pick_ban_team(patch_range_low, patch_range_high):\n",
    "    dpc_df = pd.DataFrame(columns=[\"pick_1\", \"pick_2\", \"pick_3\", \"pick_4\", \"pick_5\",\n",
    "                                 \"ban_1\", \"ban_2\", \"ban_3\", \"ban_4\", \"ban_5\", \"ban_6\",\n",
    "                                 \"win\", \"team\"])\n",
    "    for i in dpc.index:\n",
    "        patch = dpc.at[i, 'patch']\n",
    "        game_mode = dpc.at[i, 'game_mode']\n",
    "        if patch >= patch_range_low and patch <= patch_range_high and game_mode == 2: \n",
    "            length = len(dpc.at[i, 'picks_bans'])\n",
    "            if  length == 22:\n",
    "                ban1 = dpc.at[i, 'picks_bans'][0][\"hero_id\"]\n",
    "                ban6 = dpc.at[i, 'picks_bans'][1][\"hero_id\"]\n",
    "                ban2 = dpc.at[i, 'picks_bans'][2][\"hero_id\"]\n",
    "                ban7 = dpc.at[i, 'picks_bans'][3][\"hero_id\"]\n",
    "                ban3 = dpc.at[i, 'picks_bans'][4][\"hero_id\"]\n",
    "                ban8 = dpc.at[i, 'picks_bans'][5][\"hero_id\"]\n",
    "\n",
    "                pick1 = dpc.at[i, 'picks_bans'][6][\"hero_id\"]\n",
    "                pick6 = dpc.at[i, 'picks_bans'][7][\"hero_id\"]\n",
    "                pick7 = dpc.at[i, 'picks_bans'][8][\"hero_id\"]\n",
    "                pick2 = dpc.at[i, 'picks_bans'][9][\"hero_id\"]\n",
    "\n",
    "                ban9 = dpc.at[i, 'picks_bans'][10][\"hero_id\"]\n",
    "                ban4 = dpc.at[i, 'picks_bans'][11][\"hero_id\"]\n",
    "                ban10 = dpc.at[i, 'picks_bans'][12][\"hero_id\"]\n",
    "                ban5 = dpc.at[i, 'picks_bans'][13][\"hero_id\"]\n",
    "\n",
    "                pick8 = dpc.at[i, 'picks_bans'][14][\"hero_id\"]\n",
    "                pick3 = dpc.at[i, 'picks_bans'][15][\"hero_id\"]\n",
    "                pick9 = dpc.at[i, 'picks_bans'][16][\"hero_id\"]\n",
    "                pick4 = dpc.at[i, 'picks_bans'][17][\"hero_id\"]  \n",
    "\n",
    "                ban11 = dpc.at[i, 'picks_bans'][18][\"hero_id\"]\n",
    "                ban6 = dpc.at[i, 'picks_bans'][19][\"hero_id\"]\n",
    "\n",
    "                pick5 = dpc.at[i, 'picks_bans'][20][\"hero_id\"]\n",
    "                pick10 = dpc.at[i, 'picks_bans'][21][\"hero_id\"] \n",
    "\n",
    "                firstWin = True\n",
    "                secondWin = False\n",
    "\n",
    "                team1 = pd.Series({\"pick_1\": pick1, \"pick_2\": pick2, \"pick_3\": pick3, \"pick_4\": pick4, \"pick_5\": pick5})\n",
    "                player1_hero = dpc.at[i, \"players\"][0][\"hero_id\"]\n",
    "                player1_first_pick = False\n",
    "                player1_radiant = dpc.at[i, \"players\"][0][\"isRadiant\"]\n",
    "\n",
    "                try:\n",
    "                    team1_id = dpc.at[i, \"radiant_team\"][\"team_id\"]\n",
    "                except TypeError:\n",
    "                    continue\n",
    "                team2_id = dpc.at[i, \"dire_team\"][\"team_id\"]\n",
    "                \n",
    "                for hero in team1:\n",
    "                    if hero == player1_hero:\n",
    "                        player1_first_pick = True\n",
    "                        # this is ran when player1's team has first pick and is radiant\n",
    "                        if player1_radiant:\n",
    "                            firstWin = dpc.at[i, 'radiant_win']\n",
    "                            secondWin = not dpc.at[i, 'radiant_win']\n",
    "\n",
    "                if not player1_first_pick:\n",
    "                    # print(str(dpc.at[i, \"players\"][0][\"name\"]) + \" has 2nd pick and is radiant\")\n",
    "                    secondWin = dpc.at[i, 'radiant_win']\n",
    "                    firstWin = not dpc.at[i, 'radiant_win']\n",
    "                    team1_id = dpc.at[i, \"dire_team\"][\"team_id\"]\n",
    "                    team2_id = dpc.at[i, \"radiant_team\"][\"team_id\"]\n",
    "                    \n",
    "                dpc_df = dpc_df.append({\"pick_1\": pick1, \n",
    "                                         \"pick_2\": pick2, \n",
    "                                         \"pick_3\": pick3, \n",
    "                                         \"pick_4\": pick4, \n",
    "                                         \"pick_5\": pick5,\n",
    "                                         \"ban_1\": ban1, \n",
    "                                         \"ban_2\": ban2, \n",
    "                                         \"ban_3\": ban3, \n",
    "                                         \"ban_4\": ban4, \n",
    "                                         \"ban_5\": ban5,\n",
    "                                         \"ban_6\": ban6,\n",
    "                                         \"win\": firstWin,\n",
    "                                         \"team\": team1_id}, ignore_index=True)\n",
    "                dpc_df = dpc_df.append({\"pick_1\": pick6, \n",
    "                                         \"pick_2\": pick7, \n",
    "                                         \"pick_3\": pick8, \n",
    "                                         \"pick_4\": pick9, \n",
    "                                         \"pick_5\": pick10,\n",
    "                                         \"ban_1\": ban6, \n",
    "                                         \"ban_2\": ban7, \n",
    "                                         \"ban_3\": ban8, \n",
    "                                         \"ban_4\": ban9, \n",
    "                                         \"ban_5\": ban10,\n",
    "                                         \"ban_6\": ban11,\n",
    "                                         \"win\": secondWin,\n",
    "                                         \"team\": team2_id}, ignore_index=True)\n",
    "    return dpc_df"
   ]
  },
  {
   "cell_type": "code",
   "execution_count": 17,
   "metadata": {},
   "outputs": [],
   "source": [
    "# major patches\n",
    "# patch 7.07 to 7.09 (patch 26 to 28)\n",
    "# patch 7.10 to 7.13 (patch 29 to 32)\n",
    "# patch 7.14 to 7.16 (patch 33 to 36)\n",
    "\n",
    "# has data for pick, ban, win, team_id\n",
    "patch707_pbt = create_pick_ban_team(26, 28)\n",
    "patch710_pbt = create_pick_ban_team(29, 32)\n",
    "patch714_pbt = create_pick_ban_team(33, 36)\n",
    "patchAll_pbt = create_pick_ban_team(26, 36)"
   ]
  },
  {
   "cell_type": "markdown",
   "metadata": {},
   "source": [
    "### Feature exploration\n",
    "##### Looking for any features that might skew results or help better fit our models\n",
    "\n",
    "Now that we have defined what are major patches are and split our data correctly we need to explore some other variables. Since this dataset is a set of matches from professional DotA we will be conducting this analysis under this assumption that there are no explicitly \"bad\" bans and every decision made is an educated one. Becasue of the professional nature of this dataset we expect there to be alot of parody, meaning no one pick or ban decides the outcome of the match. We are going to explore mainly weather looking at single teams data is more effective at predicting wins vs looking at both teams data during the character selection process. The last big thing to look at is if the individual teams should be included in the model. Do some teams dominate or is there so much parody that it actually negatively effects the predictions.We will first look at the overall dataset across patches, and then start exploring within major patches.\n"
   ]
  },
  {
   "cell_type": "code",
   "execution_count": 155,
   "metadata": {},
   "outputs": [
    {
     "data": {
      "text/plain": [
       "<matplotlib.axes._subplots.AxesSubplot at 0x1b4254c780>"
      ]
     },
     "execution_count": 155,
     "metadata": {},
     "output_type": "execute_result"
    },
    {
     "data": {
      "image/png": "[encoded data removed]",
      "text/plain": [
       "<Figure size 432x288 with 2 Axes>"
      ]
     },
     "metadata": {
      "needs_background": "light"
     },
     "output_type": "display_data"
    }
   ],
   "source": [
    "import seaborn as sns\n",
    "#first heat map of correlations of everything (all data), picks, bans, win, team. \n",
    "sns.heatmap(patchAll_pbt.astype(int).corr())"
   ]
  },
  {
   "cell_type": "markdown",
   "metadata": {},
   "source": [
    "From this heat map of single teams picks and bans it seems that no variable seems to have a huge influence on winning. This would seem to indicate a lot of parody in the DotA professional circuit. "
   ]
  },
  {
   "cell_type": "code",
   "execution_count": 156,
   "metadata": {},
   "outputs": [
    {
     "data": {
      "text/plain": [
       "<matplotlib.axes._subplots.AxesSubplot at 0x1b4254cf98>"
      ]
     },
     "execution_count": 156,
     "metadata": {},
     "output_type": "execute_result"
    },
    {
     "data": {
      "image/png": "[encoded data removed]",
      "text/plain": [
       "<Figure size 432x288 with 2 Axes>"
      ]
     },
     "metadata": {
      "needs_background": "light"
     },
     "output_type": "display_data"
    }
   ],
   "source": [
    "#Both teams per match picks and bans\n",
    "sns.heatmap(patchAll_combined.astype(int).corr())"
   ]
  },
  {
   "cell_type": "markdown",
   "metadata": {},
   "source": [
    "From this heat map now considering both teams picks and bans, we don't see anything concrete but notice that alot of bans are correlated too eachother. We also notice a contrast in Radiant and Dire correlation to winning. The Dire team seems to be slightly more correlated to a radiant win than the radiant team itself. \n",
    "We also know looking at the DotA Rankings (https://liquipedia.net/dota2/Dota_Pro_Circuit/2017-18/Rankings) that there was in fact dominant and underperforming teams. So it is a little interesting to not see it come up on the heat maps."
   ]
  },
  {
   "cell_type": "code",
   "execution_count": 157,
   "metadata": {},
   "outputs": [
    {
     "data": {
      "text/plain": [
       "<matplotlib.axes._subplots.AxesSubplot at 0x1b3f0b0e80>"
      ]
     },
     "execution_count": 157,
     "metadata": {},
     "output_type": "execute_result"
    },
    {
     "data": {
      "image/png": "[encoded data removed]",
      "text/plain": [
       "<Figure size 432x288 with 1 Axes>"
      ]
     },
     "metadata": {
      "needs_background": "light"
     },
     "output_type": "display_data"
    }
   ],
   "source": [
    "teams = patchAll_pbt[['win', 'team']]\n",
    "team_win_df = pd.DataFrame(teams.groupby(['team']).sum())\n",
    "team_win_df.plot.bar()"
   ]
  },
  {
   "cell_type": "markdown",
   "metadata": {},
   "source": [
    "As we can see from the graph above and the table below, there are many teams that barely recorded any wins and only a handful of teams that won frequently. This indicates that who the team is matters and should be included in our final model despite it not seeming relevant in the heat graphs. "
   ]
  },
  {
   "cell_type": "code",
   "execution_count": 158,
   "metadata": {},
   "outputs": [
    {
     "data": {
      "text/html": [
       "<div>\n",
       "<style scoped>\n",
       "    .dataframe tbody tr th:only-of-type {\n",
       "        vertical-align: middle;\n",
       "    }\n",
       "\n",
       "    .dataframe tbody tr th {\n",
       "        vertical-align: top;\n",
       "    }\n",
       "\n",
       "    .dataframe thead th {\n",
       "        text-align: right;\n",
       "    }\n",
       "</style>\n",
       "<table border=\"1\" class=\"dataframe\">\n",
       "  <thead>\n",
       "    <tr style=\"text-align: right;\">\n",
       "      <th></th>\n",
       "      <th>win</th>\n",
       "    </tr>\n",
       "    <tr>\n",
       "      <th>team</th>\n",
       "      <th></th>\n",
       "    </tr>\n",
       "  </thead>\n",
       "  <tbody>\n",
       "    <tr>\n",
       "      <th>3</th>\n",
       "      <td>24</td>\n",
       "    </tr>\n",
       "    <tr>\n",
       "      <th>4</th>\n",
       "      <td>4</td>\n",
       "    </tr>\n",
       "    <tr>\n",
       "      <th>5</th>\n",
       "      <td>9</td>\n",
       "    </tr>\n",
       "    <tr>\n",
       "      <th>15</th>\n",
       "      <td>71</td>\n",
       "    </tr>\n",
       "    <tr>\n",
       "      <th>36</th>\n",
       "      <td>29</td>\n",
       "    </tr>\n",
       "    <tr>\n",
       "      <th>39</th>\n",
       "      <td>50</td>\n",
       "    </tr>\n",
       "    <tr>\n",
       "      <th>46</th>\n",
       "      <td>8</td>\n",
       "    </tr>\n",
       "    <tr>\n",
       "      <th>67</th>\n",
       "      <td>13</td>\n",
       "    </tr>\n",
       "    <tr>\n",
       "      <th>2163</th>\n",
       "      <td>94</td>\n",
       "    </tr>\n",
       "    <tr>\n",
       "      <th>350190</th>\n",
       "      <td>45</td>\n",
       "    </tr>\n",
       "    <tr>\n",
       "      <th>543897</th>\n",
       "      <td>58</td>\n",
       "    </tr>\n",
       "    <tr>\n",
       "      <th>726228</th>\n",
       "      <td>63</td>\n",
       "    </tr>\n",
       "    <tr>\n",
       "      <th>1375614</th>\n",
       "      <td>78</td>\n",
       "    </tr>\n",
       "    <tr>\n",
       "      <th>1838315</th>\n",
       "      <td>71</td>\n",
       "    </tr>\n",
       "    <tr>\n",
       "      <th>1883502</th>\n",
       "      <td>92</td>\n",
       "    </tr>\n",
       "    <tr>\n",
       "      <th>2006913</th>\n",
       "      <td>8</td>\n",
       "    </tr>\n",
       "    <tr>\n",
       "      <th>2108395</th>\n",
       "      <td>38</td>\n",
       "    </tr>\n",
       "    <tr>\n",
       "      <th>2586976</th>\n",
       "      <td>48</td>\n",
       "    </tr>\n",
       "    <tr>\n",
       "      <th>2621843</th>\n",
       "      <td>8</td>\n",
       "    </tr>\n",
       "    <tr>\n",
       "      <th>2626685</th>\n",
       "      <td>8</td>\n",
       "    </tr>\n",
       "    <tr>\n",
       "      <th>2640025</th>\n",
       "      <td>3</td>\n",
       "    </tr>\n",
       "    <tr>\n",
       "      <th>3331948</th>\n",
       "      <td>18</td>\n",
       "    </tr>\n",
       "    <tr>\n",
       "      <th>3704482</th>\n",
       "      <td>1</td>\n",
       "    </tr>\n",
       "    <tr>\n",
       "      <th>3715574</th>\n",
       "      <td>7</td>\n",
       "    </tr>\n",
       "    <tr>\n",
       "      <th>5026801</th>\n",
       "      <td>38</td>\n",
       "    </tr>\n",
       "    <tr>\n",
       "      <th>5027210</th>\n",
       "      <td>29</td>\n",
       "    </tr>\n",
       "    <tr>\n",
       "      <th>5028043</th>\n",
       "      <td>0</td>\n",
       "    </tr>\n",
       "    <tr>\n",
       "      <th>5028104</th>\n",
       "      <td>2</td>\n",
       "    </tr>\n",
       "    <tr>\n",
       "      <th>5031582</th>\n",
       "      <td>0</td>\n",
       "    </tr>\n",
       "    <tr>\n",
       "      <th>5039050</th>\n",
       "      <td>16</td>\n",
       "    </tr>\n",
       "    <tr>\n",
       "      <th>5051649</th>\n",
       "      <td>1</td>\n",
       "    </tr>\n",
       "    <tr>\n",
       "      <th>5059375</th>\n",
       "      <td>9</td>\n",
       "    </tr>\n",
       "    <tr>\n",
       "      <th>5065748</th>\n",
       "      <td>9</td>\n",
       "    </tr>\n",
       "    <tr>\n",
       "      <th>5167588</th>\n",
       "      <td>0</td>\n",
       "    </tr>\n",
       "    <tr>\n",
       "      <th>5196328</th>\n",
       "      <td>1</td>\n",
       "    </tr>\n",
       "    <tr>\n",
       "      <th>5197722</th>\n",
       "      <td>1</td>\n",
       "    </tr>\n",
       "    <tr>\n",
       "      <th>5228654</th>\n",
       "      <td>28</td>\n",
       "    </tr>\n",
       "    <tr>\n",
       "      <th>5229127</th>\n",
       "      <td>15</td>\n",
       "    </tr>\n",
       "    <tr>\n",
       "      <th>5231224</th>\n",
       "      <td>0</td>\n",
       "    </tr>\n",
       "  </tbody>\n",
       "</table>\n",
       "</div>"
      ],
      "text/plain": [
       "         win\n",
       "team        \n",
       "3         24\n",
       "4          4\n",
       "5          9\n",
       "15        71\n",
       "36        29\n",
       "39        50\n",
       "46         8\n",
       "67        13\n",
       "2163      94\n",
       "350190    45\n",
       "543897    58\n",
       "726228    63\n",
       "1375614   78\n",
       "1838315   71\n",
       "1883502   92\n",
       "2006913    8\n",
       "2108395   38\n",
       "2586976   48\n",
       "2621843    8\n",
       "2626685    8\n",
       "2640025    3\n",
       "3331948   18\n",
       "3704482    1\n",
       "3715574    7\n",
       "5026801   38\n",
       "5027210   29\n",
       "5028043    0\n",
       "5028104    2\n",
       "5031582    0\n",
       "5039050   16\n",
       "5051649    1\n",
       "5059375    9\n",
       "5065748    9\n",
       "5167588    0\n",
       "5196328    1\n",
       "5197722    1\n",
       "5228654   28\n",
       "5229127   15\n",
       "5231224    0"
      ]
     },
     "execution_count": 158,
     "metadata": {},
     "output_type": "execute_result"
    }
   ],
   "source": [
    "team_win_df"
   ]
  },
  {
   "cell_type": "markdown",
   "metadata": {},
   "source": [
    "We see on a big scale that our heatmaps did not tell us much, but what happens when we break it down by patch? "
   ]
  },
  {
   "cell_type": "markdown",
   "metadata": {},
   "source": [
    "#### Patch 707"
   ]
  },
  {
   "cell_type": "code",
   "execution_count": 159,
   "metadata": {},
   "outputs": [
    {
     "data": {
      "text/plain": [
       "<matplotlib.axes._subplots.AxesSubplot at 0x1b3d20aa90>"
      ]
     },
     "execution_count": 159,
     "metadata": {},
     "output_type": "execute_result"
    },
    {
     "data": {
      "image/png": "[encoded data removed]",
      "text/plain": [
       "<Figure size 432x288 with 2 Axes>"
      ]
     },
     "metadata": {
      "needs_background": "light"
     },
     "output_type": "display_data"
    }
   ],
   "source": [
    "\n",
    "#Correlation heat charts. \n",
    "#For each patch, all data of picks, bans, win, team for single and combined. \n",
    "\n",
    "sns.heatmap(patch707_pbt.astype(int).corr())"
   ]
  },
  {
   "cell_type": "code",
   "execution_count": 160,
   "metadata": {},
   "outputs": [
    {
     "data": {
      "text/plain": [
       "<matplotlib.axes._subplots.AxesSubplot at 0x1b3b9ab978>"
      ]
     },
     "execution_count": 160,
     "metadata": {},
     "output_type": "execute_result"
    },
    {
     "data": {
      "image/png": "[encoded data removed]",
      "text/plain": [
       "<Figure size 432x288 with 2 Axes>"
      ]
     },
     "metadata": {
      "needs_background": "light"
     },
     "output_type": "display_data"
    }
   ],
   "source": [
    "sns.heatmap(patch707_combined.astype(int).corr())"
   ]
  },
  {
   "cell_type": "markdown",
   "metadata": {},
   "source": [
    "The trend in correlation all seem to reflect the overall data set trends. "
   ]
  },
  {
   "cell_type": "markdown",
   "metadata": {},
   "source": [
    "#### Patch 710"
   ]
  },
  {
   "cell_type": "code",
   "execution_count": 161,
   "metadata": {},
   "outputs": [
    {
     "data": {
      "text/plain": [
       "<matplotlib.axes._subplots.AxesSubplot at 0x1b3b9a9978>"
      ]
     },
     "execution_count": 161,
     "metadata": {},
     "output_type": "execute_result"
    },
    {
     "data": {
      "image/png": "[encoded data removed]",
      "text/plain": [
       "<Figure size 432x288 with 2 Axes>"
      ]
     },
     "metadata": {
      "needs_background": "light"
     },
     "output_type": "display_data"
    }
   ],
   "source": [
    "#single team bans, picks, win, team\n",
    "sns.heatmap(patch710_pbt.astype(int).corr())"
   ]
  },
  {
   "cell_type": "code",
   "execution_count": 162,
   "metadata": {},
   "outputs": [
    {
     "data": {
      "text/plain": [
       "<matplotlib.axes._subplots.AxesSubplot at 0x1b3a2fd7f0>"
      ]
     },
     "execution_count": 162,
     "metadata": {},
     "output_type": "execute_result"
    },
    {
     "data": {
      "image/png": "[encoded data removed]",
      "text/plain": [
       "<Figure size 432x288 with 2 Axes>"
      ]
     },
     "metadata": {
      "needs_background": "light"
     },
     "output_type": "display_data"
    }
   ],
   "source": [
    "#combined teams (both teams in match) bans picks wins team\n",
    "sns.heatmap(patch710_combined.astype(int).corr())"
   ]
  },
  {
   "cell_type": "markdown",
   "metadata": {},
   "source": [
    "The heat map for Patch 710 when using both teams data is noticably brighter, indicating more positive correlation across the variables. Most importantly the radiant win seems to be effected by which team plays dire. "
   ]
  },
  {
   "cell_type": "markdown",
   "metadata": {},
   "source": [
    "#### Patch 714"
   ]
  },
  {
   "cell_type": "code",
   "execution_count": 163,
   "metadata": {},
   "outputs": [
    {
     "data": {
      "text/plain": [
       "<matplotlib.axes._subplots.AxesSubplot at 0x1b654ae748>"
      ]
     },
     "execution_count": 163,
     "metadata": {},
     "output_type": "execute_result"
    },
    {
     "data": {
      "image/png": "[encoded data removed]",
      "text/plain": [
       "<Figure size 432x288 with 2 Axes>"
      ]
     },
     "metadata": {
      "needs_background": "light"
     },
     "output_type": "display_data"
    }
   ],
   "source": [
    "#single team bans, picks, win, team\n",
    "sns.heatmap(patch714_pbt.astype(int).corr())"
   ]
  },
  {
   "cell_type": "code",
   "execution_count": 164,
   "metadata": {},
   "outputs": [
    {
     "data": {
      "text/plain": [
       "<matplotlib.axes._subplots.AxesSubplot at 0x1b38b6e2e8>"
      ]
     },
     "execution_count": 164,
     "metadata": {},
     "output_type": "execute_result"
    },
    {
     "data": {
      "image/png": "[encoded data removed]",
      "text/plain": [
       "<Figure size 432x288 with 2 Axes>"
      ]
     },
     "metadata": {
      "needs_background": "light"
     },
     "output_type": "display_data"
    }
   ],
   "source": [
    "#combined teams (both teams in match) bans picks wins team\n",
    "sns.heatmap(patch714_combined.astype(int).corr())"
   ]
  },
  {
   "cell_type": "markdown",
   "metadata": {},
   "source": [
    "These heatmaps are unfortunately just as dark as the overall heat maps and cannot really help us mold this model. One thing we can note across the board is that using both teams combined data seems to have more positive correlation across the board. This makes sense as player's often pick based off what other teams' picks/ bans are. "
   ]
  }
 ],
 "metadata": {
  "kernelspec": {
   "display_name": "Python 3",
   "language": "python",
   "name": "python3"
  },
  "language_info": {
   "codemirror_mode": {
    "name": "ipython",
    "version": 3
   },
   "file_extension": ".py",
   "mimetype": "text/x-python",
   "name": "python",
   "nbconvert_exporter": "python",
   "pygments_lexer": "ipython3",
   "version": "3.7.0"
  }
 },
 "nbformat": 4,
 "nbformat_minor": 2
}
